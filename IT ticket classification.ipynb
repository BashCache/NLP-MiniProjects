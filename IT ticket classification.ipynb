{
 "cells": [
  {
   "cell_type": "code",
   "execution_count": 115,
   "id": "48ca90ab",
   "metadata": {},
   "outputs": [],
   "source": [
    "import pandas as pd \n",
    "import numpy as np \n",
    "import re \n",
    "import sys\n",
    "import seaborn as sns\n",
    "import matplotlib.pyplot as plt\n",
    "from dateutil import parser\n",
    "from sklearn.utils import resample\n",
    "from sklearn import preprocessing\n",
    "\n",
    "%matplotlib inline"
   ]
  },
  {
   "cell_type": "code",
   "execution_count": 45,
   "id": "18916276",
   "metadata": {},
   "outputs": [
    {
     "name": "stderr",
     "output_type": "stream",
     "text": [
      "[nltk_data] Downloading package wordnet to\n",
      "[nltk_data]     C:\\Users\\Admin\\AppData\\Roaming\\nltk_data...\n",
      "[nltk_data]   Package wordnet is already up-to-date!\n",
      "[nltk_data] Downloading package punkt to\n",
      "[nltk_data]     C:\\Users\\Admin\\AppData\\Roaming\\nltk_data...\n",
      "[nltk_data]   Package punkt is already up-to-date!\n",
      "[nltk_data] Downloading package stopwords to\n",
      "[nltk_data]     C:\\Users\\Admin\\AppData\\Roaming\\nltk_data...\n",
      "[nltk_data]   Package stopwords is already up-to-date!\n",
      "[nltk_data] Downloading package averaged_perceptron_tagger to\n",
      "[nltk_data]     C:\\Users\\Admin\\AppData\\Roaming\\nltk_data...\n",
      "[nltk_data]   Package averaged_perceptron_tagger is already up-to-\n",
      "[nltk_data]       date!\n"
     ]
    }
   ],
   "source": [
    "from nltk.corpus import stopwords\n",
    "import nltk\n",
    "nltk.download('wordnet')\n",
    "nltk.download('punkt')\n",
    "nltk.download('stopwords')\n",
    "nltk.download('averaged_perceptron_tagger') \n",
    "\n",
    "import spacy"
   ]
  },
  {
   "cell_type": "code",
   "execution_count": 202,
   "id": "89887fb7",
   "metadata": {},
   "outputs": [],
   "source": [
    "from gensim.models import Word2Vec\n",
    "from tensorflow.keras.callbacks import ModelCheckpoint, ReduceLROnPlateau, EarlyStopping\n",
    "from tensorflow.keras.layers import Dense, Input, LSTM, Embedding, Dropout, Activation, Flatten, Bidirectional, GlobalMaxPool1D,GRU,Conv1D,MaxPooling1D, TimeDistributed\n",
    "from tensorflow.keras.models import Model, Sequential\n",
    "import tensorflow as tf\n",
    "from sklearn import metrics\n",
    "from tensorflow.keras import backend as K\n",
    "import matplotlib.pyplot as plt\n",
    "from tensorflow.keras.utils import plot_model\n",
    "from sklearn.model_selection import train_test_split\n",
    "from tensorflow.keras.preprocessing.text import Tokenizer\n",
    "from tensorflow.keras.preprocessing.sequence import pad_sequences"
   ]
  },
  {
   "cell_type": "markdown",
   "id": "30941513",
   "metadata": {},
   "source": [
    "### Exploring the data"
   ]
  },
  {
   "cell_type": "code",
   "execution_count": 91,
   "id": "86ee7256",
   "metadata": {},
   "outputs": [
    {
     "data": {
      "text/html": [
       "<div>\n",
       "<style scoped>\n",
       "    .dataframe tbody tr th:only-of-type {\n",
       "        vertical-align: middle;\n",
       "    }\n",
       "\n",
       "    .dataframe tbody tr th {\n",
       "        vertical-align: top;\n",
       "    }\n",
       "\n",
       "    .dataframe thead th {\n",
       "        text-align: right;\n",
       "    }\n",
       "</style>\n",
       "<table border=\"1\" class=\"dataframe\">\n",
       "  <thead>\n",
       "    <tr style=\"text-align: right;\">\n",
       "      <th></th>\n",
       "      <th>Short description</th>\n",
       "      <th>Description</th>\n",
       "      <th>Caller</th>\n",
       "      <th>Assignment group</th>\n",
       "    </tr>\n",
       "  </thead>\n",
       "  <tbody>\n",
       "    <tr>\n",
       "      <th>0</th>\n",
       "      <td>login issue</td>\n",
       "      <td>-verified user details.(employee# &amp; manager na...</td>\n",
       "      <td>spxjnwir pjlcoqds</td>\n",
       "      <td>GRP_0</td>\n",
       "    </tr>\n",
       "    <tr>\n",
       "      <th>1</th>\n",
       "      <td>outlook</td>\n",
       "      <td>\\r\\n\\r\\nreceived from: hmjdrvpb.komuaywn@gmail...</td>\n",
       "      <td>hmjdrvpb komuaywn</td>\n",
       "      <td>GRP_0</td>\n",
       "    </tr>\n",
       "    <tr>\n",
       "      <th>2</th>\n",
       "      <td>cant log in to vpn</td>\n",
       "      <td>\\r\\n\\r\\nreceived from: eylqgodm.ybqkwiam@gmail...</td>\n",
       "      <td>eylqgodm ybqkwiam</td>\n",
       "      <td>GRP_0</td>\n",
       "    </tr>\n",
       "    <tr>\n",
       "      <th>3</th>\n",
       "      <td>unable to access hr_tool page</td>\n",
       "      <td>unable to access hr_tool page</td>\n",
       "      <td>xbkucsvz gcpydteq</td>\n",
       "      <td>GRP_0</td>\n",
       "    </tr>\n",
       "    <tr>\n",
       "      <th>4</th>\n",
       "      <td>skype error</td>\n",
       "      <td>skype error</td>\n",
       "      <td>owlgqjme qhcozdfx</td>\n",
       "      <td>GRP_0</td>\n",
       "    </tr>\n",
       "  </tbody>\n",
       "</table>\n",
       "</div>"
      ],
      "text/plain": [
       "               Short description  \\\n",
       "0                    login issue   \n",
       "1                        outlook   \n",
       "2             cant log in to vpn   \n",
       "3  unable to access hr_tool page   \n",
       "4                   skype error    \n",
       "\n",
       "                                         Description             Caller  \\\n",
       "0  -verified user details.(employee# & manager na...  spxjnwir pjlcoqds   \n",
       "1  \\r\\n\\r\\nreceived from: hmjdrvpb.komuaywn@gmail...  hmjdrvpb komuaywn   \n",
       "2  \\r\\n\\r\\nreceived from: eylqgodm.ybqkwiam@gmail...  eylqgodm ybqkwiam   \n",
       "3                      unable to access hr_tool page  xbkucsvz gcpydteq   \n",
       "4                                       skype error   owlgqjme qhcozdfx   \n",
       "\n",
       "  Assignment group  \n",
       "0            GRP_0  \n",
       "1            GRP_0  \n",
       "2            GRP_0  \n",
       "3            GRP_0  \n",
       "4            GRP_0  "
      ]
     },
     "execution_count": 91,
     "metadata": {},
     "output_type": "execute_result"
    }
   ],
   "source": [
    "df = pd.read_csv('data2.csv')\n",
    "df.head()"
   ]
  },
  {
   "cell_type": "code",
   "execution_count": 92,
   "id": "2ba4d971",
   "metadata": {},
   "outputs": [
    {
     "name": "stdout",
     "output_type": "stream",
     "text": [
      "No of callers: (2950,) \n",
      "Callers list: ['spxjnwir pjlcoqds' 'hmjdrvpb komuaywn' 'eylqgodm ybqkwiam' ...\n",
      " 'bjitvswa yrmugfnq' 'oybwdsgx oxyhwrfz' 'kqvbrspl jyzoklfx']\n"
     ]
    }
   ],
   "source": [
    "callers = df['Caller'].unique() \n",
    "print(\"No of callers: {0} \\nCallers list: {1}\".format(callers.shape, callers))\n",
    "df['Description'].fillna(value=' ', inplace=True)"
   ]
  },
  {
   "cell_type": "code",
   "execution_count": 93,
   "id": "c10acdb5",
   "metadata": {},
   "outputs": [
    {
     "name": "stdout",
     "output_type": "stream",
     "text": [
      "<class 'pandas.core.frame.DataFrame'>\n",
      "RangeIndex: 8500 entries, 0 to 8499\n",
      "Data columns (total 4 columns):\n",
      " #   Column             Non-Null Count  Dtype \n",
      "---  ------             --------------  ----- \n",
      " 0   Short description  8498 non-null   object\n",
      " 1   Description        8500 non-null   object\n",
      " 2   Caller             8500 non-null   object\n",
      " 3   Assignment group   8500 non-null   object\n",
      "dtypes: object(4)\n",
      "memory usage: 265.8+ KB\n"
     ]
    }
   ],
   "source": [
    "df.info()"
   ]
  },
  {
   "cell_type": "markdown",
   "id": "131855f3",
   "metadata": {},
   "source": [
    "### Visualizing data\n",
    "\n",
    "* Find the no of clusters for each of the clusters\n",
    "* Group clusters that have very few messages(less than 10) into 1\n",
    "* Display the type of messages for the top 5 clusters\n",
    "* Drop caller and short description as caller contains gibberish data and short description is not useful as detailed description is available"
   ]
  },
  {
   "cell_type": "code",
   "execution_count": 94,
   "id": "cc61e32a",
   "metadata": {},
   "outputs": [
    {
     "data": {
      "image/png": "[encoded data removed]",
      "text/plain": [
       "<Figure size 1584x360 with 1 Axes>"
      ]
     },
     "metadata": {
      "needs_background": "light"
     },
     "output_type": "display_data"
    }
   ],
   "source": [
    "no_of_clusters = df['Assignment group'].value_counts().sort_values(ascending=False).index\n",
    "plt.subplots(figsize = (22,5))\n",
    "ax = sns.countplot(x = 'Assignment group', data = df, color = 'blue', order = no_of_clusters)\n",
    "ax.set_xticklabels(ax.get_xticklabels(), rotation = 45, ha = \"right\")\n",
    "plt.tight_layout()\n",
    "plt.show()"
   ]
  },
  {
   "cell_type": "code",
   "execution_count": 95,
   "id": "8ba8489d",
   "metadata": {},
   "outputs": [
    {
     "name": "stdout",
     "output_type": "stream",
     "text": [
      "Found 25 groups which have under 10 samples\n",
      "After regrouping: \n"
     ]
    },
    {
     "data": {
      "image/png": "[encoded data removed]",
      "text/plain": [
       "<Figure size 1584x360 with 1 Axes>"
      ]
     },
     "metadata": {
      "needs_background": "light"
     },
     "output_type": "display_data"
    }
   ],
   "source": [
    "sample = df.groupby(['Assignment group'])\n",
    "regroup=[]\n",
    "for grp in itTicketDF['Assignment group'].unique():\n",
    "    if(sample.get_group(grp).shape[0]<10):\n",
    "        regroup.append(grp)\n",
    "print('Found {} groups which have under 10 samples'.format(len(regroup)))\n",
    "df['Assignment group']=df['Assignment group'].apply(lambda x : 'misc_grp' if x in regroup  else x)\n",
    "\n",
    "print('After regrouping: ')\n",
    "no_of_clusters = df['Assignment group'].value_counts().sort_values(ascending=False).index\n",
    "plt.subplots(figsize = (22,5))\n",
    "ax = sns.countplot(x = 'Assignment group', data = df, color = 'red', order = no_of_clusters)\n",
    "ax.set_xticklabels(ax.get_xticklabels(), rotation = 45, ha = \"right\")\n",
    "plt.tight_layout()\n",
    "plt.show()"
   ]
  },
  {
   "cell_type": "code",
   "execution_count": 96,
   "id": "1e20488b",
   "metadata": {},
   "outputs": [
    {
     "name": "stdout",
     "output_type": "stream",
     "text": [
      "Group ID: GRP_0, Type of message: login issue\n",
      "\n",
      "Group ID: GRP_8, Type of message: job mm_zscr0099_dly_merktc3 failed in job_scheduler at: 10/31/2016 08:36:00  \n",
      "\n",
      "Group ID: GRP_24, Type of message: support fÃ¼r fa.gstry \\arexjftu ohxdwngl\n",
      "\n",
      "Group ID: GRP_12, Type of message: amssm00345: c:\\ label:sys-amssm00345 94ef9088 on server: is over  85% space consumed. space available: 2.7 g \n",
      "\n",
      "Group ID: GRP_9, Type of message: job Job_1338 failed in job_scheduler at: 10/31/2016 02:29:00  \n",
      "\n"
     ]
    }
   ],
   "source": [
    "no_of_clusters\n",
    "for i in range(0,5,1):\n",
    "    cluster_ID = no_of_clusters[i]\n",
    "    for j in range(len(df)):\n",
    "        if(df.iloc[j]['Assignment group'] == cluster_ID):\n",
    "            print(\"Group ID: {0}, Type of message: {1}\\n\".format(cluster_ID, df.iloc[j]['Short description']))\n",
    "            break"
   ]
  },
  {
   "cell_type": "code",
   "execution_count": 97,
   "id": "11113f92",
   "metadata": {},
   "outputs": [
    {
     "name": "stdout",
     "output_type": "stream",
     "text": [
      "<class 'pandas.core.frame.DataFrame'>\n",
      "RangeIndex: 8500 entries, 0 to 8499\n",
      "Data columns (total 2 columns):\n",
      " #   Column            Non-Null Count  Dtype \n",
      "---  ------            --------------  ----- \n",
      " 0   Description       8500 non-null   object\n",
      " 1   Assignment group  8500 non-null   object\n",
      "dtypes: object(2)\n",
      "memory usage: 132.9+ KB\n"
     ]
    }
   ],
   "source": [
    "df.drop(['Caller','Short description'],axis=1,inplace= True)\n",
    "df.info()"
   ]
  },
  {
   "cell_type": "markdown",
   "id": "c080f1a7",
   "metadata": {},
   "source": [
    "### Pre-processing"
   ]
  },
  {
   "cell_type": "markdown",
   "id": "af74a570",
   "metadata": {},
   "source": [
    "### 1. Cleaning the text\n",
    "\n",
    "* Convert the text to lower case letters\n",
    "* Remove email IDs\n",
    "* Remove numbers\n",
    "* Remove hyperlinks\n",
    "* Remove encoded characters"
   ]
  },
  {
   "cell_type": "code",
   "execution_count": 98,
   "id": "a9d686b9",
   "metadata": {},
   "outputs": [],
   "source": [
    "def is_valid_date(date_str):\n",
    "    try:\n",
    "        parser.parse(date_str)\n",
    "        return True\n",
    "    except:\n",
    "        return False\n",
    "\n",
    "def clean_data(text):\n",
    "    text = text.lower()\n",
    "    text = ' '.join([w for w in text.split() if not is_valid_date(w)])\n",
    "    text = re.sub(r\"received from:\",' ',text)\n",
    "    text = re.sub(r\"from:\",' ',text)\n",
    "    text = re.sub(r\"to:\",' ',text)\n",
    "    text = re.sub(r\"subject:\",' ',text)\n",
    "    text = re.sub(r\"sent:\",' ',text)\n",
    "    text = re.sub(r\"ic:\",' ',text)\n",
    "    text = re.sub(r\"cc:\",' ',text)\n",
    "    text = re.sub(r\"bcc:\",' ',text)\n",
    "    #Remove email \n",
    "    text = re.sub(r'\\S*@\\S*\\s?', '', text)\n",
    "    # Remove numbers \n",
    "    text = re.sub(r'\\d+','' ,text)\n",
    "    # Remove new line characters \n",
    "    text = re.sub(r'\\n',' ',text)\n",
    "    # Remove hashtag while keeping hashtag text\n",
    "    text = re.sub(r'#','', text)\n",
    "    #& \n",
    "    text = re.sub(r'&;?', 'and',text)\n",
    "    # Remove HTML special entities (e.g. &amp;)\n",
    "    text = re.sub(r'\\&\\w*;', '', text)\n",
    "    # Remove hyperlinks\n",
    "    text = re.sub(r'https?:\\/\\/.*\\/\\w*', '', text)  \n",
    "    # Remove characters beyond Readable formart by Unicode:\n",
    "    text= ''.join(c for c in text if c <= '\\uFFFF') \n",
    "    text = text.strip()\n",
    "    # Remove unreadable characters  (also extra spaces)\n",
    "    text = ' '.join(re.sub(\"[^\\u0030-\\u0039\\u0041-\\u005a\\u0061-\\u007a]\", \" \", text).split())\n",
    "    for name in callers:\n",
    "        namelist = [part for part in name.split()]\n",
    "        for namepart in namelist: \n",
    "            text = text.replace(namepart,'')\n",
    "          \n",
    "    text = re.sub(r\"\\s+[a-zA-Z]\\s+\", ' ', text)\n",
    "    text = re.sub(' +', ' ', text)\n",
    "    text = text.strip()\n",
    "    return text\n",
    "  "
   ]
  },
  {
   "cell_type": "code",
   "execution_count": 99,
   "id": "f8bd6a93",
   "metadata": {},
   "outputs": [
    {
     "name": "stdout",
     "output_type": "stream",
     "text": [
      "Sample Description: \n",
      "\n",
      "Before Cleaning: \r\n",
      "\r\n",
      "received from: hmjdrvpb.komuaywn@gmail.com\r\n",
      "\r\n",
      "hello team,\r\n",
      "\r\n",
      "my meetings/skype meetings etc are not appearing in my outlook calendar, can somebody please advise how to correct this?\r\n",
      "\r\n",
      "kind \n",
      "After Cleaning:  hello team my meetings skype meetings etc are not appearing in my outlook calendar can somebody please advise how to correct this kind\n"
     ]
    }
   ],
   "source": [
    "df['Cleaned Description'] = df['Description'].apply(clean_data)\n",
    "print(\"Sample Description: \\n\")\n",
    "print(\"Before Cleaning: {0}\\nAfter Cleaning:  {1}\".format(df.iloc[1]['Description'], df.iloc[1]['Cleaned Description']))"
   ]
  },
  {
   "cell_type": "code",
   "execution_count": 100,
   "id": "1983f86f",
   "metadata": {},
   "outputs": [],
   "source": [
    "df['Length'] = [len(text) for text in df['Cleaned Description']]\n",
    "# df = df[df['Length']>=3]\n",
    "# df['Cleaned Description'] = df['Cleaned Description'].apply(lambda x : \" \".join([word for word in x.split() if(len(word)>2)]))"
   ]
  },
  {
   "cell_type": "markdown",
   "id": "808432ff",
   "metadata": {},
   "source": [
    "### 2. Remove stopwords"
   ]
  },
  {
   "cell_type": "code",
   "execution_count": 101,
   "id": "2240ef5e",
   "metadata": {},
   "outputs": [
    {
     "name": "stderr",
     "output_type": "stream",
     "text": [
      "C:\\Users\\Admin\\AppData\\Local\\Temp/ipykernel_11572/4087685542.py:8: SettingWithCopyWarning: \n",
      "A value is trying to be set on a copy of a slice from a DataFrame\n",
      "\n",
      "See the caveats in the documentation: https://pandas.pydata.org/pandas-docs/stable/user_guide/indexing.html#returning-a-view-versus-a-copy\n",
      "  df['Cleaned Description'][i] = new_text_after_stopwords_removal\n"
     ]
    }
   ],
   "source": [
    "english_stopwords = stopwords.words('english')\n",
    "for i in range(len(df)):\n",
    "    text = df['Cleaned Description'][i]\n",
    "    new_text_after_stopwords_removal = \"\"\n",
    "    for word in text.split(' '):\n",
    "        if(word not in english_stopwords):\n",
    "            new_text_after_stopwords_removal += word + \" \"\n",
    "    df['Cleaned Description'][i] = new_text_after_stopwords_removal\n",
    "#     df['Cleaned Description'][i] = \" \".join(word for word in text.split(' ') if word not in english_stopwords)"
   ]
  },
  {
   "cell_type": "code",
   "execution_count": 102,
   "id": "e84d611f",
   "metadata": {},
   "outputs": [
    {
     "data": {
      "text/html": [
       "<div>\n",
       "<style scoped>\n",
       "    .dataframe tbody tr th:only-of-type {\n",
       "        vertical-align: middle;\n",
       "    }\n",
       "\n",
       "    .dataframe tbody tr th {\n",
       "        vertical-align: top;\n",
       "    }\n",
       "\n",
       "    .dataframe thead th {\n",
       "        text-align: right;\n",
       "    }\n",
       "</style>\n",
       "<table border=\"1\" class=\"dataframe\">\n",
       "  <thead>\n",
       "    <tr style=\"text-align: right;\">\n",
       "      <th></th>\n",
       "      <th>Description</th>\n",
       "      <th>Assignment group</th>\n",
       "      <th>Cleaned Description</th>\n",
       "      <th>Length</th>\n",
       "    </tr>\n",
       "  </thead>\n",
       "  <tbody>\n",
       "    <tr>\n",
       "      <th>8495</th>\n",
       "      <td>\\r\\n\\r\\nreceived from: avglmrts.vhqmtiua@gmail...</td>\n",
       "      <td>GRP_29</td>\n",
       "      <td>good afternoon receiving emails sent zz mail p...</td>\n",
       "      <td>79</td>\n",
       "    </tr>\n",
       "    <tr>\n",
       "      <th>8496</th>\n",
       "      <td>telephony_software issue</td>\n",
       "      <td>GRP_0</td>\n",
       "      <td>telephony software issue</td>\n",
       "      <td>24</td>\n",
       "    </tr>\n",
       "    <tr>\n",
       "      <th>8497</th>\n",
       "      <td>vip2: windows password reset for tifpdchb pedx...</td>\n",
       "      <td>GRP_0</td>\n",
       "      <td>vip windows password reset tifpdchb pedxruyf</td>\n",
       "      <td>48</td>\n",
       "    </tr>\n",
       "    <tr>\n",
       "      <th>8498</th>\n",
       "      <td>i am unable to access the machine utilities to...</td>\n",
       "      <td>GRP_62</td>\n",
       "      <td>unable access machine utilities finish drawers...</td>\n",
       "      <td>99</td>\n",
       "    </tr>\n",
       "    <tr>\n",
       "      <th>8499</th>\n",
       "      <td>an mehreren pc`s lassen sich verschiedene prgr...</td>\n",
       "      <td>misc_grp</td>\n",
       "      <td>mehreren pc lassen sich verschiedene prgramdnt...</td>\n",
       "      <td>76</td>\n",
       "    </tr>\n",
       "  </tbody>\n",
       "</table>\n",
       "</div>"
      ],
      "text/plain": [
       "                                            Description Assignment group  \\\n",
       "8495  \\r\\n\\r\\nreceived from: avglmrts.vhqmtiua@gmail...           GRP_29   \n",
       "8496                           telephony_software issue            GRP_0   \n",
       "8497  vip2: windows password reset for tifpdchb pedx...            GRP_0   \n",
       "8498  i am unable to access the machine utilities to...           GRP_62   \n",
       "8499  an mehreren pc`s lassen sich verschiedene prgr...         misc_grp   \n",
       "\n",
       "                                    Cleaned Description  Length  \n",
       "8495  good afternoon receiving emails sent zz mail p...      79  \n",
       "8496                          telephony software issue       24  \n",
       "8497      vip windows password reset tifpdchb pedxruyf       48  \n",
       "8498  unable access machine utilities finish drawers...      99  \n",
       "8499  mehreren pc lassen sich verschiedene prgramdnt...      76  "
      ]
     },
     "execution_count": 102,
     "metadata": {},
     "output_type": "execute_result"
    }
   ],
   "source": [
    "df.tail()"
   ]
  },
  {
   "cell_type": "markdown",
   "id": "c62584f9",
   "metadata": {},
   "source": [
    "### Remove rows that contain description in German"
   ]
  },
  {
   "cell_type": "code",
   "execution_count": 103,
   "id": "51559bc1",
   "metadata": {},
   "outputs": [
    {
     "name": "stdout",
     "output_type": "stream",
     "text": [
      "Int64Index([ 223,  238,  251,  255,  265,  270,  272,  302,  304,  305,\n",
      "            ...\n",
      "            8414, 8417, 8419, 8420, 8425, 8427, 8436, 8439, 8467, 8499],\n",
      "           dtype='int64', length=586)\n"
     ]
    },
    {
     "name": "stderr",
     "output_type": "stream",
     "text": [
      "C:\\Users\\Admin\\AppData\\Local\\Programs\\Python\\Python39\\lib\\site-packages\\pandas\\core\\indexes\\base.py:4616: FutureWarning: Using a non-tuple sequence for multidimensional indexing is deprecated; use `arr[tuple(seq)]` instead of `arr[seq]`. In the future this will be interpreted as an array index, `arr[np.array(seq)]`, which will result either in an error or a different result.\n",
      "  result = getitem(key)\n"
     ]
    },
    {
     "data": {
      "text/html": [
       "<div>\n",
       "<style scoped>\n",
       "    .dataframe tbody tr th:only-of-type {\n",
       "        vertical-align: middle;\n",
       "    }\n",
       "\n",
       "    .dataframe tbody tr th {\n",
       "        vertical-align: top;\n",
       "    }\n",
       "\n",
       "    .dataframe thead th {\n",
       "        text-align: right;\n",
       "    }\n",
       "</style>\n",
       "<table border=\"1\" class=\"dataframe\">\n",
       "  <thead>\n",
       "    <tr style=\"text-align: right;\">\n",
       "      <th></th>\n",
       "      <th>Description</th>\n",
       "      <th>Assignment group</th>\n",
       "      <th>Cleaned Description</th>\n",
       "      <th>Length</th>\n",
       "    </tr>\n",
       "  </thead>\n",
       "  <tbody>\n",
       "    <tr>\n",
       "      <th>0</th>\n",
       "      <td>-verified user details.(employee# &amp; manager na...</td>\n",
       "      <td>GRP_0</td>\n",
       "      <td>verified user details employee manager name ch...</td>\n",
       "      <td>192</td>\n",
       "    </tr>\n",
       "    <tr>\n",
       "      <th>1</th>\n",
       "      <td>\\r\\n\\r\\nreceived from: hmjdrvpb.komuaywn@gmail...</td>\n",
       "      <td>GRP_0</td>\n",
       "      <td>hello team meetings skype meetings etc appeari...</td>\n",
       "      <td>134</td>\n",
       "    </tr>\n",
       "    <tr>\n",
       "      <th>2</th>\n",
       "      <td>\\r\\n\\r\\nreceived from: eylqgodm.ybqkwiam@gmail...</td>\n",
       "      <td>GRP_0</td>\n",
       "      <td>hi cannot log vpn best</td>\n",
       "      <td>28</td>\n",
       "    </tr>\n",
       "    <tr>\n",
       "      <th>3</th>\n",
       "      <td>unable to access hr_tool page</td>\n",
       "      <td>GRP_0</td>\n",
       "      <td>unable access hr tool page</td>\n",
       "      <td>29</td>\n",
       "    </tr>\n",
       "    <tr>\n",
       "      <th>4</th>\n",
       "      <td>skype error</td>\n",
       "      <td>GRP_0</td>\n",
       "      <td>skype error</td>\n",
       "      <td>11</td>\n",
       "    </tr>\n",
       "    <tr>\n",
       "      <th>...</th>\n",
       "      <td>...</td>\n",
       "      <td>...</td>\n",
       "      <td>...</td>\n",
       "      <td>...</td>\n",
       "    </tr>\n",
       "    <tr>\n",
       "      <th>8494</th>\n",
       "      <td>tablet needs reimaged due to multiple issues w...</td>\n",
       "      <td>GRP_3</td>\n",
       "      <td>tablet needs reimaged due multiple issues crm ...</td>\n",
       "      <td>62</td>\n",
       "    </tr>\n",
       "    <tr>\n",
       "      <th>8495</th>\n",
       "      <td>\\r\\n\\r\\nreceived from: avglmrts.vhqmtiua@gmail...</td>\n",
       "      <td>GRP_29</td>\n",
       "      <td>good afternoon receiving emails sent zz mail p...</td>\n",
       "      <td>79</td>\n",
       "    </tr>\n",
       "    <tr>\n",
       "      <th>8496</th>\n",
       "      <td>telephony_software issue</td>\n",
       "      <td>GRP_0</td>\n",
       "      <td>telephony software issue</td>\n",
       "      <td>24</td>\n",
       "    </tr>\n",
       "    <tr>\n",
       "      <th>8497</th>\n",
       "      <td>vip2: windows password reset for tifpdchb pedx...</td>\n",
       "      <td>GRP_0</td>\n",
       "      <td>vip windows password reset tifpdchb pedxruyf</td>\n",
       "      <td>48</td>\n",
       "    </tr>\n",
       "    <tr>\n",
       "      <th>8498</th>\n",
       "      <td>i am unable to access the machine utilities to...</td>\n",
       "      <td>GRP_62</td>\n",
       "      <td>unable access machine utilities finish drawers...</td>\n",
       "      <td>99</td>\n",
       "    </tr>\n",
       "  </tbody>\n",
       "</table>\n",
       "<p>7914 rows × 4 columns</p>\n",
       "</div>"
      ],
      "text/plain": [
       "                                            Description Assignment group  \\\n",
       "0     -verified user details.(employee# & manager na...            GRP_0   \n",
       "1     \\r\\n\\r\\nreceived from: hmjdrvpb.komuaywn@gmail...            GRP_0   \n",
       "2     \\r\\n\\r\\nreceived from: eylqgodm.ybqkwiam@gmail...            GRP_0   \n",
       "3                         unable to access hr_tool page            GRP_0   \n",
       "4                                          skype error             GRP_0   \n",
       "...                                                 ...              ...   \n",
       "8494  tablet needs reimaged due to multiple issues w...            GRP_3   \n",
       "8495  \\r\\n\\r\\nreceived from: avglmrts.vhqmtiua@gmail...           GRP_29   \n",
       "8496                           telephony_software issue            GRP_0   \n",
       "8497  vip2: windows password reset for tifpdchb pedx...            GRP_0   \n",
       "8498  i am unable to access the machine utilities to...           GRP_62   \n",
       "\n",
       "                                    Cleaned Description  Length  \n",
       "0     verified user details employee manager name ch...     192  \n",
       "1     hello team meetings skype meetings etc appeari...     134  \n",
       "2                               hi cannot log vpn best       28  \n",
       "3                           unable access hr tool page       29  \n",
       "4                                          skype error       11  \n",
       "...                                                 ...     ...  \n",
       "8494  tablet needs reimaged due multiple issues crm ...      62  \n",
       "8495  good afternoon receiving emails sent zz mail p...      79  \n",
       "8496                          telephony software issue       24  \n",
       "8497      vip windows password reset tifpdchb pedxruyf       48  \n",
       "8498  unable access machine utilities finish drawers...      99  \n",
       "\n",
       "[7914 rows x 4 columns]"
      ]
     },
     "execution_count": 103,
     "metadata": {},
     "output_type": "execute_result"
    }
   ],
   "source": [
    "germanwordlist = ['bitte','nicht','konto','probleme','berechtigung','defekt','mehr','ausgetauscht','rechner', 'drucker','teilweise','freigegeben','genannten','anmeldeaccount',\n",
    "                  'besprochen','werden','durchwahl','oben','einrichten','zeitwirtschaft','seit','morgens','beheben','keine','zeitbuchungen','vorhanden','dringend','fehler',\n",
    "                  'werk','anmelde','auftrag','kein','skannen','freundlichen','werkzeuge,','hartstoffe','maste','schutzw','fertigung','immer','sehr','zugriff','freundliche',\n",
    "                  'geehrter','souzarft','noch','verbindungsherstellung','meldung','erneuten','glich','proben','beilageproben','beilage','auswerten','sinterleitstand','reparar',\n",
    "                  'reparo','rechner','koenigsee','entregar','atualiza','declara','programdntya','funcionando','preciso','hitacni','grergtger','zugriffsrechte','teamleiter',\n",
    "                  'abholen','wegen','weit','absender','wenn','abrechnung']\n",
    "pattern = '|'.join(germanwordlist)\n",
    "\n",
    "germanDescIndex = df[df['Cleaned Description'].str.contains(pattern)].index\n",
    "print(germanDescIndex)\n",
    "df.drop(df.index[[germanDescIndex]])"
   ]
  },
  {
   "cell_type": "markdown",
   "id": "c833e66e",
   "metadata": {},
   "source": [
    "### 3. Lemmatization"
   ]
  },
  {
   "cell_type": "code",
   "execution_count": 105,
   "id": "a6e2e0f3",
   "metadata": {},
   "outputs": [],
   "source": [
    "nlp = spacy.load('en_core_web_sm', disable=['parser', 'ner'])\n",
    "allowed_postags = ['NOUN', 'ADJ', 'VERB', 'ADV']\n",
    "def lemmatize_text(text):\n",
    "    doc = nlp(text)\n",
    "    return ' '.join([token.lemma_ for token in doc])"
   ]
  },
  {
   "cell_type": "code",
   "execution_count": 106,
   "id": "f25e141f",
   "metadata": {},
   "outputs": [
    {
     "data": {
      "text/html": [
       "<div>\n",
       "<style scoped>\n",
       "    .dataframe tbody tr th:only-of-type {\n",
       "        vertical-align: middle;\n",
       "    }\n",
       "\n",
       "    .dataframe tbody tr th {\n",
       "        vertical-align: top;\n",
       "    }\n",
       "\n",
       "    .dataframe thead th {\n",
       "        text-align: right;\n",
       "    }\n",
       "</style>\n",
       "<table border=\"1\" class=\"dataframe\">\n",
       "  <thead>\n",
       "    <tr style=\"text-align: right;\">\n",
       "      <th></th>\n",
       "      <th>Description</th>\n",
       "      <th>Assignment group</th>\n",
       "      <th>Cleaned Description</th>\n",
       "      <th>Length</th>\n",
       "    </tr>\n",
       "  </thead>\n",
       "  <tbody>\n",
       "    <tr>\n",
       "      <th>0</th>\n",
       "      <td>-verified user details.(employee# &amp; manager na...</td>\n",
       "      <td>GRP_0</td>\n",
       "      <td>verify user detail employee manager name check...</td>\n",
       "      <td>192</td>\n",
       "    </tr>\n",
       "    <tr>\n",
       "      <th>1</th>\n",
       "      <td>\\r\\n\\r\\nreceived from: hmjdrvpb.komuaywn@gmail...</td>\n",
       "      <td>GRP_0</td>\n",
       "      <td>hello team meeting skype meeting etc appear ou...</td>\n",
       "      <td>134</td>\n",
       "    </tr>\n",
       "    <tr>\n",
       "      <th>2</th>\n",
       "      <td>\\r\\n\\r\\nreceived from: eylqgodm.ybqkwiam@gmail...</td>\n",
       "      <td>GRP_0</td>\n",
       "      <td>hi can not log vpn well</td>\n",
       "      <td>28</td>\n",
       "    </tr>\n",
       "    <tr>\n",
       "      <th>3</th>\n",
       "      <td>unable to access hr_tool page</td>\n",
       "      <td>GRP_0</td>\n",
       "      <td>unable access hr tool page</td>\n",
       "      <td>29</td>\n",
       "    </tr>\n",
       "    <tr>\n",
       "      <th>4</th>\n",
       "      <td>skype error</td>\n",
       "      <td>GRP_0</td>\n",
       "      <td>skype error</td>\n",
       "      <td>11</td>\n",
       "    </tr>\n",
       "  </tbody>\n",
       "</table>\n",
       "</div>"
      ],
      "text/plain": [
       "                                         Description Assignment group  \\\n",
       "0  -verified user details.(employee# & manager na...            GRP_0   \n",
       "1  \\r\\n\\r\\nreceived from: hmjdrvpb.komuaywn@gmail...            GRP_0   \n",
       "2  \\r\\n\\r\\nreceived from: eylqgodm.ybqkwiam@gmail...            GRP_0   \n",
       "3                      unable to access hr_tool page            GRP_0   \n",
       "4                                       skype error             GRP_0   \n",
       "\n",
       "                                 Cleaned Description  Length  \n",
       "0  verify user detail employee manager name check...     192  \n",
       "1  hello team meeting skype meeting etc appear ou...     134  \n",
       "2                            hi can not log vpn well      28  \n",
       "3                         unable access hr tool page      29  \n",
       "4                                        skype error      11  "
      ]
     },
     "execution_count": 106,
     "metadata": {},
     "output_type": "execute_result"
    }
   ],
   "source": [
    "df['Cleaned Description'] = df['Cleaned Description'].apply(lemmatize_text)\n",
    "df.head()"
   ]
  },
  {
   "cell_type": "markdown",
   "id": "9bba8563",
   "metadata": {},
   "source": [
    "### Resampling imbalanced dataset\n",
    "\n",
    "* From the visualization, we see that GRP_0 has high no of data (around 4k)\n"
   ]
  },
  {
   "cell_type": "code",
   "execution_count": 110,
   "id": "4e9ae1d4",
   "metadata": {},
   "outputs": [
    {
     "data": {
      "image/png": "[encoded data removed]",
      "text/plain": [
       "<Figure size 1584x360 with 1 Axes>"
      ]
     },
     "metadata": {
      "needs_background": "light"
     },
     "output_type": "display_data"
    },
    {
     "name": "stdout",
     "output_type": "stream",
     "text": [
      "The maximum among other groups other than group 0 is: 661\n"
     ]
    }
   ],
   "source": [
    "#Create Dataset for 'others' i.e all groups which is not part of GRP_0\n",
    "itTicketOthersDF = df[df['Assignment group'] != 'GRP_0']\n",
    "\n",
    "descending_order = df['Assignment group'].value_counts().sort_values(ascending=False).index\n",
    "plt.subplots(figsize=(22,5))\n",
    "ax = sns.countplot(x = 'Assignment group', data = itTicketOthersDF, color = 'blue',order = descending_order)\n",
    "ax.set_xticklabels(ax.get_xticklabels(), rotation = 45, ha = \"right\")\n",
    "plt.tight_layout()\n",
    "plt.show()\n",
    "\n",
    "print(\"The maximum among other groups other than group 0 is: {0}\".format(itTicketOthersDF['Assignment group'].value_counts().max()))\n"
   ]
  },
  {
   "cell_type": "code",
   "execution_count": 114,
   "id": "1384f3ba",
   "metadata": {},
   "outputs": [
    {
     "data": {
      "image/png": "[encoded data removed]",
      "text/plain": [
       "<Figure size 1584x360 with 1 Axes>"
      ]
     },
     "metadata": {
      "needs_background": "light"
     },
     "output_type": "display_data"
    }
   ],
   "source": [
    "# Treat the imbalnce in the itTicketDF dataset by resampling to 661.\n",
    "df_resampled = df[0:0]\n",
    "for grp in df['Assignment group'].unique():\n",
    "    itTicketGrpDF = df[df['Assignment group'] == grp]\n",
    "    resampled = resample(itTicketGrpDF, replace = True, n_samples = int(661)/2, random_state=123)\n",
    "    df_resampled = df_resampled.append(resampled)\n",
    "\n",
    "descending_order = df_resampled['Assignment group'].value_counts().sort_values(ascending=False).index\n",
    "plt.subplots(figsize = (22,5))\n",
    "ax = sns.countplot(x = 'Assignment group', data = df_resampled, color = 'red')\n",
    "ax.set_xticklabels(ax.get_xticklabels(), rotation = 45, ha = \"right\")\n",
    "plt.tight_layout()\n",
    "plt.show()"
   ]
  },
  {
   "cell_type": "markdown",
   "id": "bb02e583",
   "metadata": {},
   "source": [
    "### Label Encoding"
   ]
  },
  {
   "cell_type": "code",
   "execution_count": 116,
   "id": "43b633a9",
   "metadata": {},
   "outputs": [
    {
     "name": "stdout",
     "output_type": "stream",
     "text": [
      "Mapping for assignment group in original df: {0: 'GRP_0', 1: 'GRP_1', 2: 'GRP_10', 3: 'GRP_11', 4: 'GRP_12', 5: 'GRP_13', 6: 'GRP_14', 7: 'GRP_15', 8: 'GRP_16', 9: 'GRP_17', 10: 'GRP_18', 11: 'GRP_19', 12: 'GRP_2', 13: 'GRP_20', 14: 'GRP_21', 15: 'GRP_22', 16: 'GRP_23', 17: 'GRP_24', 18: 'GRP_25', 19: 'GRP_26', 20: 'GRP_27', 21: 'GRP_28', 22: 'GRP_29', 23: 'GRP_3', 24: 'GRP_30', 25: 'GRP_31', 26: 'GRP_33', 27: 'GRP_34', 28: 'GRP_36', 29: 'GRP_37', 30: 'GRP_39', 31: 'GRP_4', 32: 'GRP_40', 33: 'GRP_41', 34: 'GRP_42', 35: 'GRP_44', 36: 'GRP_45', 37: 'GRP_47', 38: 'GRP_48', 39: 'GRP_5', 40: 'GRP_50', 41: 'GRP_53', 42: 'GRP_6', 43: 'GRP_60', 44: 'GRP_62', 45: 'GRP_65', 46: 'GRP_7', 47: 'GRP_8', 48: 'GRP_9', 49: 'misc_grp'}\n"
     ]
    }
   ],
   "source": [
    "def labelencoder(dataframe) : \n",
    "    label_encoder = preprocessing.LabelEncoder() \n",
    "    dataframe= label_encoder.fit_transform(dataframe)\n",
    "    grp_mapping = dict(zip(label_encoder.transform(label_encoder.classes_), label_encoder.classes_))\n",
    "    return dataframe, grp_mapping\n",
    "\n",
    "df_resampled['Assignment group'] , mapping_df_resampled = labelencoder(df_resampled['Assignment group'])\n",
    "df['Assignment group'], mapping_df = labelencoder(df['Assignment group'])\n",
    "\n",
    "print(\"Mapping for assignment group in original df: {}\".format(mapping_df))"
   ]
  },
  {
   "cell_type": "markdown",
   "id": "5e57a45e",
   "metadata": {},
   "source": [
    "### Word2Vec Embeddings"
   ]
  },
  {
   "cell_type": "code",
   "execution_count": 120,
   "id": "787511ef",
   "metadata": {},
   "outputs": [],
   "source": [
    "sentences = [line.split(' ') for line in df['Cleaned Description']]\n",
    "word2vec = Word2Vec(sentences = sentences, min_count = 1)\n",
    "word2vec.wv.save_word2vec_format('word2vec_vector.txt')s"
   ]
  },
  {
   "cell_type": "code",
   "execution_count": 121,
   "id": "01032d5d",
   "metadata": {},
   "outputs": [
    {
     "name": "stdout",
     "output_type": "stream",
     "text": [
      "Loaded 10515 word vectors.\n"
     ]
    }
   ],
   "source": [
    "# load the whole embedding into memory\n",
    "embeddings_index = dict()\n",
    "f = open('./word2vec_vector.txt')\n",
    "\n",
    "for line in f:\n",
    "    values = line.split()\n",
    "    word = values[0]\n",
    "    coefs = np.asarray(values[1:], dtype='float32')\n",
    "    embeddings_index[word] = coefs\n",
    "f.close()\n",
    "print('Loaded %s word vectors.' % len(embeddings_index))"
   ]
  },
  {
   "cell_type": "markdown",
   "id": "42c70a26",
   "metadata": {},
   "source": [
    "### LSTM Model with Word2Vec Embeddings"
   ]
  },
  {
   "cell_type": "code",
   "execution_count": 236,
   "id": "d3fe231a",
   "metadata": {},
   "outputs": [],
   "source": [
    "LSTM_Word2Vec_Raw = Model()\n",
    "X_test = []\n",
    "y_test = []\n",
    "embedding_matrix = []"
   ]
  },
  {
   "cell_type": "code",
   "execution_count": 237,
   "id": "5330b02e",
   "metadata": {},
   "outputs": [],
   "source": [
    "maxlen = 300\n",
    "numWords = 9000\n",
    "epochs = 10"
   ]
  },
  {
   "cell_type": "code",
   "execution_count": 238,
   "id": "4874f59c",
   "metadata": {},
   "outputs": [],
   "source": [
    "def wordTokenizer(dataframe):\n",
    "    tokenizer = Tokenizer(num_words = numWords, filters = '!\"#$%&()*+,-./:;<=>?@[\\\\]^_`{|}~\\t\\n', lower = True, split = ' ', char_level = False)\n",
    "    tokenizer.fit_on_texts(dataframe)\n",
    "    dataframe = tokenizer.texts_to_sequences(dataframe)\n",
    "    return tokenizer, dataframe"
   ]
  },
  {
   "cell_type": "code",
   "execution_count": 239,
   "id": "a1c1fe6f",
   "metadata": {},
   "outputs": [],
   "source": [
    "def tokenizeAndEmbedding(dataframe):\n",
    "    tokenizer, X = wordTokenizer(dataframe['Cleaned Description'])\n",
    "    y = np.asarray(dataframe['Assignment group'])\n",
    "    X = pad_sequences(X, maxlen = maxlen)\n",
    "\n",
    "    embedding_matrix = np.zeros((numWords+1, 100))\n",
    "    for i,word in tokenizer.index_word.items():\n",
    "        if i<numWords+1:\n",
    "            embedding_vector = embeddings_index.get(word)\n",
    "            if embedding_vector is not None:\n",
    "                embedding_matrix[i] = embedding_vector\n",
    "    print(embedding_matrix.shape)\n",
    "    return X, y, embedding_matrix"
   ]
  },
  {
   "cell_type": "code",
   "execution_count": 240,
   "id": "b91e7e93",
   "metadata": {},
   "outputs": [],
   "source": [
    "def splitData(X, y):\n",
    "    print(\"Number of Samples:\", len(X))\n",
    "    print(\"Number of Labels: \", len(y))\n",
    "    X_train, X_test, y_train, y_test = train_test_split(X, y, test_size=0.2, random_state=10)\n",
    "    X_train, X_Val, y_train, y_Val = train_test_split(X, y, test_size=0.2, random_state=10)\n",
    "    print(\"Number of train Samples:\", len(X_train))\n",
    "    print(\"Number of val Samples:\", len(X_Val))\n",
    "    print(X_train[0].shape)\n",
    "    return X_train, X_test, y_train, y_test, X_Val, y_Val"
   ]
  },
  {
   "cell_type": "code",
   "execution_count": 246,
   "id": "006c062c",
   "metadata": {},
   "outputs": [],
   "source": [
    "def fitModel(X_train, y_train, X_Val, y_Val, batch_size, epochs, embedding_matrix, name):\n",
    "    model = Model()\n",
    "    input_layer = Input(shape = (maxlen,), dtype = tf.int64)\n",
    "    print(input_layer.shape)\n",
    "    embed = Embedding(numWords+1, output_dim = 100, input_length = maxlen, weights = [embedding_matrix], trainable = True)(input_layer)\n",
    "    lstm = Bidirectional(LSTM(128))(embed)\n",
    "    drop = Dropout(0.3)(lstm)\n",
    "    dense = Dense(100, activation = 'relu')(drop)\n",
    "    out = Dense(len((pd.Series(y_train)).unique()), activation = 'softmax')(dense)   \n",
    "\n",
    "    model = Model(input_layer, out)\n",
    "    model.compile(loss = 'sparse_categorical_crossentropy', optimizer = \"adam\", metrics = ['accuracy'])\n",
    "\n",
    "    model.summary()\n",
    "\n",
    "    checkpoint = ModelCheckpoint(name+'-{epoch:03d}-{val_accuracy:03f}.h5', verbose = 1, monitor = 'val_accuracy', save_best_only = True, mode = 'auto') \n",
    "    reduceLoss = ReduceLROnPlateau(monitor = 'val_loss', factor = 0.2, patience = 2, min_lr = 0.0001)\n",
    "    earlyStopping = EarlyStopping(monitor = 'val_loss', patience = 5, verbose = 1)\n",
    "    model_history = model.fit(X_train, y_train, batch_size = batch_size, epochs = epochs, callbacks = [checkpoint, reduceLoss, earlyStopping], validation_data = (X_Val, y_Val))\n",
    "    return model_history, model"
   ]
  },
  {
   "cell_type": "code",
   "execution_count": 247,
   "id": "30945f9c",
   "metadata": {},
   "outputs": [],
   "source": [
    " def train(dataframe, batch_size, epochs, embedding_matrix, name):\n",
    "    X, y, embedding_matrix = tokenizeAndEmbedding(dataframe)\n",
    "    X_train, X_test, y_train,y_test, X_Val, y_Val = splitData(X, y)\n",
    "    model_history, model = fitModel(X_train, y_train, X_Val, y_Val, batch_size, epochs, embedding_matrix, name)\n",
    "    return model_history, model, X_test, y_test"
   ]
  },
  {
   "cell_type": "code",
   "execution_count": 248,
   "id": "a7ca1a51",
   "metadata": {},
   "outputs": [],
   "source": [
    "def plot_graph(model):\n",
    "    epoch_loss = model.history['loss']\n",
    "    epoch_val_loss = model.history['val_loss']\n",
    "    epoch_acc = model.history['accuracy']\n",
    "    epoch_val_acc = model.history['val_accuracy']\n",
    "\n",
    "    plt.figure(figsize=(20,6))\n",
    "    plt.subplot(1,2,1)\n",
    "    plt.plot(range(0, len(epoch_loss)), epoch_loss, 'b-', linewidth=2, label='Train loss')\n",
    "    plt.plot(range(0, len(epoch_val_loss)), epoch_val_loss, 'r-', linewidth=2, label='Val loss')\n",
    "    plt.title('Evolution of LOSS on training and validation sets over epochs')\n",
    "    plt.legend(loc='best')\n",
    "\n",
    "    plt.figure(figsize=(20,6))\n",
    "    plt.subplot(1,2,2)\n",
    "    plt.plot(range(0, len(epoch_acc)), epoch_acc, 'b-', linewidth=2, label='Train accuracy')\n",
    "    plt.plot(range(0, len(epoch_val_acc)), epoch_val_acc, 'r-', linewidth=2, label='Val accuracy')\n",
    "    plt.title('Evolution of ACCURACY on training and validation sets over epochs')\n",
    "    plt.legend(loc='best')"
   ]
  },
  {
   "cell_type": "code",
   "execution_count": 249,
   "id": "62867636",
   "metadata": {},
   "outputs": [
    {
     "name": "stdout",
     "output_type": "stream",
     "text": [
      "(9001, 100)\n",
      "Number of Samples: 8500\n",
      "Number of Labels:  8500\n",
      "Number of train Samples: 6800\n",
      "Number of val Samples: 1700\n",
      "(300,)\n",
      "(None, 300)\n",
      "Model: \"model_8\"\n",
      "_________________________________________________________________\n",
      " Layer (type)                Output Shape              Param #   \n",
      "=================================================================\n",
      " input_16 (InputLayer)       [(None, 300)]             0         \n",
      "                                                                 \n",
      " embedding_22 (Embedding)    (None, 300, 100)          900100    \n",
      "                                                                 \n",
      " bidirectional_6 (Bidirectio  (None, 256)              234496    \n",
      " nal)                                                            \n",
      "                                                                 \n",
      " dropout_8 (Dropout)         (None, 256)               0         \n",
      "                                                                 \n",
      " dense_7 (Dense)             (None, 100)               25700     \n",
      "                                                                 \n",
      " dense_8 (Dense)             (None, 50)                5050      \n",
      "                                                                 \n",
      "=================================================================\n",
      "Total params: 1,165,346\n",
      "Trainable params: 1,165,346\n",
      "Non-trainable params: 0\n",
      "_________________________________________________________________\n",
      "68/68 [==============================] - ETA: 0s - loss: 2.3967 - accuracy: 0.5093\n",
      "Epoch 00001: val_accuracy improved from -inf to 0.54765, saving model to LSTM-Word2Vec-Raw-001-0.547647.h5\n",
      "68/68 [==============================] - 157s 2s/step - loss: 2.3967 - accuracy: 0.5093 - val_loss: 2.0378 - val_accuracy: 0.5476 - lr: 0.0010\n"
     ]
    }
   ],
   "source": [
    "LSTM_Word2Vec_Raw_history, LSTM_Word2Vec_Raw, X_test, y_test = train(df, 100, 1, embedding_matrix, 'LSTM-Word2Vec-Raw')"
   ]
  },
  {
   "cell_type": "code",
   "execution_count": 224,
   "id": "d1cc0eff",
   "metadata": {},
   "outputs": [
    {
     "data": {
      "text/plain": [
       "<matplotlib.legend.Legend at 0x1e9406233a0>"
      ]
     },
     "execution_count": 224,
     "metadata": {},
     "output_type": "execute_result"
    },
    {
     "data": {
      "image/png": "[encoded data removed]",
      "text/plain": [
       "<Figure size 1440x432 with 1 Axes>"
      ]
     },
     "metadata": {
      "needs_background": "light"
     },
     "output_type": "display_data"
    },
    {
     "data": {
      "image/png": "[encoded data removed]",
      "text/plain": [
       "<Figure size 1440x432 with 1 Axes>"
      ]
     },
     "metadata": {
      "needs_background": "light"
     },
     "output_type": "display_data"
    }
   ],
   "source": [
    "def plot_graph(model)\n",
    "    epoch_loss = model.history['loss']\n",
    "    epoch_val_loss = model.history['val_loss']\n",
    "    epoch_acc = model.history['accuracy']\n",
    "    epoch_val_acc = model.history['val_accuracy']\n",
    "\n",
    "    plt.figure(figsize=(20,6))\n",
    "    plt.subplot(1,2,1)\n",
    "    plt.plot(range(0, len(epoch_loss)), epoch_loss, 'b-', linewidth=2, label='Train loss')\n",
    "    plt.plot(range(0, len(epoch_val_loss)), epoch_val_loss, 'r-', linewidth=2, label='Val loss')\n",
    "    plt.title('Evolution of LOSS on training and validation sets over epochs')\n",
    "    plt.legend(loc='best')\n",
    "\n",
    "    plt.figure(figsize=(20,6))\n",
    "    plt.subplot(1,2,2)\n",
    "    plt.plot(range(0, len(epoch_acc)), epoch_acc, 'b-', linewidth=2, label='Train accuracy')\n",
    "    plt.plot(range(0, len(epoch_val_acc)), epoch_val_acc, 'r-', linewidth=2, label='Val accuracy')\n",
    "    plt.title('Evolution of ACCURACY on training and validation sets over epochs')\n",
    "    plt.legend(loc='best')"
   ]
  },
  {
   "cell_type": "code",
   "execution_count": 250,
   "id": "08583977",
   "metadata": {},
   "outputs": [
    {
     "name": "stdout",
     "output_type": "stream",
     "text": [
      "54/54 [==============================] - 10s 176ms/step - loss: 2.0378 - accuracy: 0.5476\n",
      "Test Loss: 2.0377604961395264,\n",
      "Test Accuracy: 0.5476470589637756\n"
     ]
    }
   ],
   "source": [
    "loss, accuracy = LSTM_Word2Vec_Raw.evaluate(X_test, y_test, verbose = 1)\n",
    "print(\"Test Loss: {0},\\nTest Accuracy: {1}\".format(loss, accuracy))"
   ]
  },
  {
   "cell_type": "code",
   "execution_count": 252,
   "id": "994ed99e",
   "metadata": {},
   "outputs": [
    {
     "data": {
      "image/png": "[encoded data removed]",
      "text/plain": [
       "<Figure size 1440x432 with 1 Axes>"
      ]
     },
     "metadata": {
      "needs_background": "light"
     },
     "output_type": "display_data"
    },
    {
     "data": {
      "image/png": "[encoded data removed]",
      "text/plain": [
       "<Figure size 1440x432 with 1 Axes>"
      ]
     },
     "metadata": {
      "needs_background": "light"
     },
     "output_type": "display_data"
    }
   ],
   "source": [
    "plot_graph(LSTM_Word2Vec_Raw_history)"
   ]
  },
  {
   "cell_type": "markdown",
   "id": "d341c9bc",
   "metadata": {},
   "source": [
    "### Resampled data"
   ]
  },
  {
   "cell_type": "code",
   "execution_count": 253,
   "id": "318c958c",
   "metadata": {},
   "outputs": [],
   "source": [
    "LSTM_Word2Vec_Resampled = Model()\n",
    "X_test_resampled = []\n",
    "y_test_resampled = []\n",
    "embedding_matrix_resampled = []"
   ]
  },
  {
   "cell_type": "code",
   "execution_count": 254,
   "id": "2b164b9c",
   "metadata": {},
   "outputs": [
    {
     "name": "stdout",
     "output_type": "stream",
     "text": [
      "(9001, 100)\n",
      "Number of Samples: 33050\n",
      "Number of Labels:  33050\n",
      "Number of train Samples: 26440\n",
      "Number of val Samples: 6610\n",
      "(300,)\n",
      "(None, 300)\n",
      "Model: \"model_11\"\n",
      "_________________________________________________________________\n",
      " Layer (type)                Output Shape              Param #   \n",
      "=================================================================\n",
      " input_17 (InputLayer)       [(None, 300)]             0         \n",
      "                                                                 \n",
      " embedding_23 (Embedding)    (None, 300, 100)          900100    \n",
      "                                                                 \n",
      " bidirectional_7 (Bidirectio  (None, 256)              234496    \n",
      " nal)                                                            \n",
      "                                                                 \n",
      " dropout_9 (Dropout)         (None, 256)               0         \n",
      "                                                                 \n",
      " dense_9 (Dense)             (None, 100)               25700     \n",
      "                                                                 \n",
      " dense_10 (Dense)            (None, 50)                5050      \n",
      "                                                                 \n",
      "=================================================================\n",
      "Total params: 1,165,346\n",
      "Trainable params: 1,165,346\n",
      "Non-trainable params: 0\n",
      "_________________________________________________________________\n",
      "265/265 [==============================] - ETA: 0s - loss: 2.8739 - accuracy: 0.2211\n",
      "Epoch 00001: val_accuracy improved from -inf to 0.41422, saving model to LSTM_Word2Vec_Resampled-001-0.414221.h5\n",
      "265/265 [==============================] - 685s 3s/step - loss: 2.8739 - accuracy: 0.2211 - val_loss: 2.0621 - val_accuracy: 0.4142 - lr: 0.0010\n"
     ]
    }
   ],
   "source": [
    "LSTM_Word2Vec_Resampled_history, LSTM_Word2Vec_Resampled, X_test_resampled, y_test_resampled = train(df_resampled, 100, 1, embedding_matrix_resampled, 'LSTM_Word2Vec_Resampled')"
   ]
  },
  {
   "cell_type": "code",
   "execution_count": 256,
   "id": "1be15dde",
   "metadata": {},
   "outputs": [
    {
     "name": "stdout",
     "output_type": "stream",
     "text": [
      "207/207 [==============================] - 56s 272ms/step - loss: 2.0621 - accuracy: 0.4142\n",
      "For resampled data: \n",
      "Test Loss: 2.0620527267456055,\n",
      "Test Accuracy: 0.4142208695411682\n"
     ]
    }
   ],
   "source": [
    "loss, accuracy = LSTM_Word2Vec_Resampled.evaluate(X_test_resampled, y_test_resampled, verbose = 1)\n",
    "print(\"For resampled data: \\nTest Loss: {0},\\nTest Accuracy: {1}\".format(loss, accuracy))"
   ]
  },
  {
   "cell_type": "code",
   "execution_count": 257,
   "id": "68543a9f",
   "metadata": {},
   "outputs": [
    {
     "data": {
      "image/png": "[encoded data removed]",
      "text/plain": [
       "<Figure size 1440x432 with 1 Axes>"
      ]
     },
     "metadata": {
      "needs_background": "light"
     },
     "output_type": "display_data"
    },
    {
     "data": {
      "image/png": "[encoded data removed]",
      "text/plain": [
       "<Figure size 1440x432 with 1 Axes>"
      ]
     },
     "metadata": {
      "needs_background": "light"
     },
     "output_type": "display_data"
    }
   ],
   "source": [
    "plot_graph(LSTM_Word2Vec_Resampled_history)"
   ]
  },
  {
   "cell_type": "code",
   "execution_count": null,
   "id": "eba81131",
   "metadata": {},
   "outputs": [],
   "source": []
  }
 ],
 "metadata": {
  "kernelspec": {
   "display_name": "Python 3 (ipykernel)",
   "language": "python",
   "name": "python3"
  },
  "language_info": {
   "codemirror_mode": {
    "name": "ipython",
    "version": 3
   },
   "file_extension": ".py",
   "mimetype": "text/x-python",
   "name": "python",
   "nbconvert_exporter": "python",
   "pygments_lexer": "ipython3",
   "version": "3.9.6"
  }
 },
 "nbformat": 4,
 "nbformat_minor": 5
}
