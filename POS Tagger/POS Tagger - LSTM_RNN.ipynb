{
 "cells": [
  {
   "cell_type": "markdown",
   "id": "43e9b6d6",
   "metadata": {},
   "source": [
    "### Importing packages"
   ]
  },
  {
   "cell_type": "code",
   "execution_count": 4,
   "id": "c61eb091",
   "metadata": {},
   "outputs": [
    {
     "name": "stderr",
     "output_type": "stream",
     "text": [
      "[nltk_data] Downloading package brown to\n",
      "[nltk_data]     C:\\Users\\Admin\\AppData\\Roaming\\nltk_data...\n",
      "[nltk_data]   Package brown is already up-to-date!\n",
      "[nltk_data] Downloading package gutenberg to\n",
      "[nltk_data]     C:\\Users\\Admin\\AppData\\Roaming\\nltk_data...\n",
      "[nltk_data]   Package gutenberg is already up-to-date!\n",
      "[nltk_data] Downloading package universal_tagset to\n",
      "[nltk_data]     C:\\Users\\Admin\\AppData\\Roaming\\nltk_data...\n",
      "[nltk_data]   Package universal_tagset is already up-to-date!\n",
      "[nltk_data] Downloading package stopwords to\n",
      "[nltk_data]     C:\\Users\\Admin\\AppData\\Roaming\\nltk_data...\n",
      "[nltk_data]   Package stopwords is already up-to-date!\n",
      "UsageError: Line magic function `%matplotlib_inline` not found.\n"
     ]
    }
   ],
   "source": [
    "import numpy as np\n",
    "import pandas as pd\n",
    "import nltk\n",
    "import re\n",
    "\n",
    "from matplotlib import pyplot as plt\n",
    "from sklearn.model_selection import train_test_split\n",
    "from sklearn.utils import shuffle\n",
    "from nltk.corpus import brown, gutenberg\n",
    "from nltk.corpus import stopwords\n",
    "\n",
    "from gensim.models import KeyedVectors\n",
    "\n",
    "from keras.preprocessing.sequence import pad_sequences\n",
    "from keras.preprocessing.text import Tokenizer\n",
    "from keras.utils.np_utils import to_categorical\n",
    "from keras.models import Sequential, Model\n",
    "from keras.layers import Embedding, SimpleRNN, LSTM\n",
    "from keras.layers import Dense, Input, Dropout\n",
    "from keras.layers import TimeDistributed\n",
    "from keras.callbacks import EarlyStopping\n",
    "\n",
    "\n",
    "nltk.download('brown')\n",
    "nltk.download('gutenberg')\n",
    "nltk.download('universal_tagset')\n",
    "nltk.download('stopwords')\n",
    "\n",
    "%matplotlib_inline"
   ]
  },
  {
   "cell_type": "code",
   "execution_count": 2,
   "id": "1406687f",
   "metadata": {},
   "outputs": [],
   "source": [
    "brownCorpusSentences = brown.tagged_sents(tagset='universal')"
   ]
  },
  {
   "cell_type": "code",
   "execution_count": 7,
   "id": "0b5cc205",
   "metadata": {},
   "outputs": [
    {
     "name": "stdout",
     "output_type": "stream",
     "text": [
      "[('The', 'DET'), ('Fulton', 'NOUN'), ('County', 'NOUN'), ('Grand', 'ADJ'), ('Jury', 'NOUN'), ('said', 'VERB'), ('Friday', 'NOUN'), ('an', 'DET'), ('investigation', 'NOUN'), ('of', 'ADP'), (\"Atlanta's\", 'NOUN'), ('recent', 'ADJ'), ('primary', 'NOUN'), ('election', 'NOUN'), ('produced', 'VERB'), ('``', '.'), ('no', 'DET'), ('evidence', 'NOUN'), (\"''\", '.'), ('that', 'ADP'), ('any', 'DET'), ('irregularities', 'NOUN'), ('took', 'VERB'), ('place', 'NOUN'), ('.', '.')]\n",
      "\n",
      "\n",
      "Total number of sentences: 57340\n"
     ]
    }
   ],
   "source": [
    "# Sample sentence\n",
    "print(brownCorpusSentences[0])\n",
    "print(\"\\n\\nTotal number of sentences: {}\".format(len(brownCorpusSentences)))"
   ]
  },
  {
   "cell_type": "markdown",
   "id": "03f89241",
   "metadata": {},
   "source": [
    "### Creation of dataframe\n",
    "\n",
    "* We create a dataframe with 2 data fields namely Sentence and POS Tagged which holds the sentences from Brown Corpus and the corresponding POS Tags \n",
    "* We perform the following operations:\n",
    "    * Convert all words to lower case\n",
    "    * Remove stop words\n",
    "    * Remove punctuation marks"
   ]
  },
  {
   "cell_type": "code",
   "execution_count": 17,
   "id": "cfa6e878",
   "metadata": {},
   "outputs": [],
   "source": [
    "stop_words = set(stopwords.words('english'))"
   ]
  },
  {
   "cell_type": "code",
   "execution_count": 39,
   "id": "755b7195",
   "metadata": {},
   "outputs": [],
   "source": [
    "# Split the dataset into X and Y where X is the input sentence and Y refers to the POS tagged for each word of input X\n",
    "inputSentence = []\n",
    "posTaggedOutput = []\n",
    "noOfSentences = len(brownCorpusSentences)\n",
    "for i in range(noOfSentences):\n",
    "    sentence = brownCorpusSentences[i]\n",
    "    word = []\n",
    "    tag = []\n",
    "    for words in sentence:\n",
    "        # convert all words to lower case and remove punctuation\n",
    "        words_sentence = re.sub(r'[^\\w\\s]', '', str(words[0]).lower().strip())\n",
    "        # Remove stop words\n",
    "#         if words_sentence and words_sentence not in stop_words:\n",
    "        word.append(words_sentence)\n",
    "        tag.append(words[1])\n",
    "    \n",
    "    inputSentence.append(word)\n",
    "    posTaggedOutput.append(tag)\n",
    "    \n",
    "df = pd.DataFrame()\n",
    "df['Sentence'] = inputSentence\n",
    "df['POS Tagged'] = posTaggedOutput"
   ]
  },
  {
   "cell_type": "code",
   "execution_count": 40,
   "id": "4e8e1268",
   "metadata": {},
   "outputs": [
    {
     "data": {
      "text/html": [
       "<div>\n",
       "<style scoped>\n",
       "    .dataframe tbody tr th:only-of-type {\n",
       "        vertical-align: middle;\n",
       "    }\n",
       "\n",
       "    .dataframe tbody tr th {\n",
       "        vertical-align: top;\n",
       "    }\n",
       "\n",
       "    .dataframe thead th {\n",
       "        text-align: right;\n",
       "    }\n",
       "</style>\n",
       "<table border=\"1\" class=\"dataframe\">\n",
       "  <thead>\n",
       "    <tr style=\"text-align: right;\">\n",
       "      <th></th>\n",
       "      <th>Sentence</th>\n",
       "      <th>POS Tagged</th>\n",
       "    </tr>\n",
       "  </thead>\n",
       "  <tbody>\n",
       "    <tr>\n",
       "      <th>0</th>\n",
       "      <td>[the, fulton, county, grand, jury, said, frida...</td>\n",
       "      <td>[DET, NOUN, NOUN, ADJ, NOUN, VERB, NOUN, DET, ...</td>\n",
       "    </tr>\n",
       "    <tr>\n",
       "      <th>1</th>\n",
       "      <td>[the, jury, further, said, in, termend, presen...</td>\n",
       "      <td>[DET, NOUN, ADV, VERB, ADP, NOUN, NOUN, ADP, D...</td>\n",
       "    </tr>\n",
       "    <tr>\n",
       "      <th>2</th>\n",
       "      <td>[the, septemberoctober, term, jury, had, been,...</td>\n",
       "      <td>[DET, NOUN, NOUN, NOUN, VERB, VERB, VERB, ADP,...</td>\n",
       "    </tr>\n",
       "    <tr>\n",
       "      <th>3</th>\n",
       "      <td>[, only, a, relative, handful, of, such, repor...</td>\n",
       "      <td>[., ADV, DET, ADJ, NOUN, ADP, ADJ, NOUN, VERB,...</td>\n",
       "    </tr>\n",
       "    <tr>\n",
       "      <th>4</th>\n",
       "      <td>[the, jury, said, it, did, find, that, many, o...</td>\n",
       "      <td>[DET, NOUN, VERB, PRON, VERB, VERB, ADP, ADJ, ...</td>\n",
       "    </tr>\n",
       "    <tr>\n",
       "      <th>...</th>\n",
       "      <td>...</td>\n",
       "      <td>...</td>\n",
       "    </tr>\n",
       "    <tr>\n",
       "      <th>57335</th>\n",
       "      <td>[s, j, perelman]</td>\n",
       "      <td>[NOUN, NOUN, NOUN]</td>\n",
       "    </tr>\n",
       "    <tr>\n",
       "      <th>57336</th>\n",
       "      <td>[revulsion, in, the, desert]</td>\n",
       "      <td>[NOUN, ADP, DET, NOUN]</td>\n",
       "    </tr>\n",
       "    <tr>\n",
       "      <th>57337</th>\n",
       "      <td>[the, doors, of, the, d, train, slid, shut, , ...</td>\n",
       "      <td>[DET, NOUN, ADP, DET, NOUN, NOUN, VERB, VERB, ...</td>\n",
       "    </tr>\n",
       "    <tr>\n",
       "      <th>57338</th>\n",
       "      <td>[she, was, a, living, doll, and, no, mistake, ...</td>\n",
       "      <td>[PRON, VERB, DET, VERB, NOUN, CONJ, DET, NOUN,...</td>\n",
       "    </tr>\n",
       "    <tr>\n",
       "      <th>57339</th>\n",
       "      <td>[from, what, i, was, able, to, gauge, in, a, s...</td>\n",
       "      <td>[ADP, DET, PRON, VERB, ADJ, ADP, NOUN, ADP, DE...</td>\n",
       "    </tr>\n",
       "  </tbody>\n",
       "</table>\n",
       "<p>57340 rows × 2 columns</p>\n",
       "</div>"
      ],
      "text/plain": [
       "                                                Sentence  \\\n",
       "0      [the, fulton, county, grand, jury, said, frida...   \n",
       "1      [the, jury, further, said, in, termend, presen...   \n",
       "2      [the, septemberoctober, term, jury, had, been,...   \n",
       "3      [, only, a, relative, handful, of, such, repor...   \n",
       "4      [the, jury, said, it, did, find, that, many, o...   \n",
       "...                                                  ...   \n",
       "57335                                   [s, j, perelman]   \n",
       "57336                       [revulsion, in, the, desert]   \n",
       "57337  [the, doors, of, the, d, train, slid, shut, , ...   \n",
       "57338  [she, was, a, living, doll, and, no, mistake, ...   \n",
       "57339  [from, what, i, was, able, to, gauge, in, a, s...   \n",
       "\n",
       "                                              POS Tagged  \n",
       "0      [DET, NOUN, NOUN, ADJ, NOUN, VERB, NOUN, DET, ...  \n",
       "1      [DET, NOUN, ADV, VERB, ADP, NOUN, NOUN, ADP, D...  \n",
       "2      [DET, NOUN, NOUN, NOUN, VERB, VERB, VERB, ADP,...  \n",
       "3      [., ADV, DET, ADJ, NOUN, ADP, ADJ, NOUN, VERB,...  \n",
       "4      [DET, NOUN, VERB, PRON, VERB, VERB, ADP, ADJ, ...  \n",
       "...                                                  ...  \n",
       "57335                                 [NOUN, NOUN, NOUN]  \n",
       "57336                             [NOUN, ADP, DET, NOUN]  \n",
       "57337  [DET, NOUN, ADP, DET, NOUN, NOUN, VERB, VERB, ...  \n",
       "57338  [PRON, VERB, DET, VERB, NOUN, CONJ, DET, NOUN,...  \n",
       "57339  [ADP, DET, PRON, VERB, ADJ, ADP, NOUN, ADP, DE...  \n",
       "\n",
       "[57340 rows x 2 columns]"
      ]
     },
     "execution_count": 40,
     "metadata": {},
     "output_type": "execute_result"
    }
   ],
   "source": [
    "df"
   ]
  },
  {
   "cell_type": "code",
   "execution_count": 41,
   "id": "dcd69625",
   "metadata": {},
   "outputs": [
    {
     "data": {
      "text/plain": [
       "['the',\n",
       " 'fulton',\n",
       " 'county',\n",
       " 'grand',\n",
       " 'jury',\n",
       " 'said',\n",
       " 'friday',\n",
       " 'an',\n",
       " 'investigation',\n",
       " 'of',\n",
       " 'atlantas',\n",
       " 'recent',\n",
       " 'primary',\n",
       " 'election',\n",
       " 'produced',\n",
       " '',\n",
       " 'no',\n",
       " 'evidence',\n",
       " '',\n",
       " 'that',\n",
       " 'any',\n",
       " 'irregularities',\n",
       " 'took',\n",
       " 'place',\n",
       " '']"
      ]
     },
     "execution_count": 41,
     "metadata": {},
     "output_type": "execute_result"
    }
   ],
   "source": [
    "df.iloc[0]['Sentence']"
   ]
  },
  {
   "cell_type": "code",
   "execution_count": 42,
   "id": "b5d5b646",
   "metadata": {},
   "outputs": [
    {
     "data": {
      "text/plain": [
       "['DET',\n",
       " 'NOUN',\n",
       " 'NOUN',\n",
       " 'ADJ',\n",
       " 'NOUN',\n",
       " 'VERB',\n",
       " 'NOUN',\n",
       " 'DET',\n",
       " 'NOUN',\n",
       " 'ADP',\n",
       " 'NOUN',\n",
       " 'ADJ',\n",
       " 'NOUN',\n",
       " 'NOUN',\n",
       " 'VERB',\n",
       " '.',\n",
       " 'DET',\n",
       " 'NOUN',\n",
       " '.',\n",
       " 'ADP',\n",
       " 'DET',\n",
       " 'NOUN',\n",
       " 'VERB',\n",
       " 'NOUN',\n",
       " '.']"
      ]
     },
     "execution_count": 42,
     "metadata": {},
     "output_type": "execute_result"
    }
   ],
   "source": [
    "df.iloc[0]['POS Tagged']"
   ]
  },
  {
   "cell_type": "markdown",
   "id": "d5c715a5",
   "metadata": {},
   "source": [
    "### Vectorize Words\n",
    "\n",
    "* To create word embeddings or one hot encoding, we need to convert words to numbers\n",
    "* Since the length of each sentence would be different, and that is not acceptable while feeding as input to the neural networks model, we must ensure all sentences are of same length and this is done by padding shorter sentences"
   ]
  },
  {
   "cell_type": "code",
   "execution_count": 43,
   "id": "ee94b32a",
   "metadata": {},
   "outputs": [
    {
     "name": "stdout",
     "output_type": "stream",
     "text": [
      "Total no of unique words in all the sentences combined:  48018\n",
      "Total no of unique tags:  12\n",
      "\n",
      "Input sentence: ['the', 'fulton', 'county', 'grand', 'jury', 'said', 'friday', 'an', 'investigation', 'of', 'atlantas', 'recent', 'primary', 'election', 'produced', '', 'no', 'evidence', '', 'that', 'any', 'irregularities', 'took', 'place', '']\n",
      "Corresponding tokenized sentence: [2, 5437, 643, 2297, 1634, 55, 1840, 30, 2180, 3, 14182, 543, 1121, 1399, 1190, 1, 50, 464, 1, 8, 75, 9172, 203, 161, 1]\n",
      "\n",
      "POS Tagged Output for above sentence: ['DET', 'NOUN', 'NOUN', 'ADJ', 'NOUN', 'VERB', 'NOUN', 'DET', 'NOUN', 'ADP', 'NOUN', 'ADJ', 'NOUN', 'NOUN', 'VERB', '.', 'DET', 'NOUN', '.', 'ADP', 'DET', 'NOUN', 'VERB', 'NOUN', '.']\n",
      "Corresponding POS Tagged tokenized output: [5, 1, 1, 6, 1, 2, 1, 5, 1, 4, 1, 6, 1, 1, 2, 3, 5, 1, 3, 4, 5, 1, 2, 1, 3]\n"
     ]
    }
   ],
   "source": [
    "# Get the vocabulary size and No of unique POS tags\n",
    "vocabularySize = len(set([word for sentence in df['Sentence'] for word in sentence]))\n",
    "noOfTags   = len(set([tags for sentence in df['POS Tagged'] for tags in sentence]))\n",
    "print(\"Total no of unique words in all the sentences combined: \", vocabularySize)\n",
    "print(\"Total no of unique tags: \", noOfTags)\n",
    "\n",
    "\n",
    "# Tokenize the input and tags\n",
    "inputTokenizer = Tokenizer()\n",
    "inputTokenizer.fit_on_texts(inputSentence)\n",
    "X_encoded = inputTokenizer.texts_to_sequences(inputSentence)\n",
    "\n",
    "tagTokenizer = Tokenizer()\n",
    "tagTokenizer.fit_on_texts(posTaggedOutput)\n",
    "Y_encoded = tagTokenizer.texts_to_sequences(posTaggedOutput)\n",
    "\n",
    "print(\"\\nInput sentence: {}\".format(inputSentence[0]))\n",
    "print(\"Corresponding tokenized sentence: {}\".format(X_encoded[0]))\n",
    "\n",
    "print(\"\\nPOS Tagged Output for above sentence: {}\".format(posTaggedOutput[0]))\n",
    "print(\"Corresponding POS Tagged tokenized output: {}\".format(Y_encoded[0]))"
   ]
  },
  {
   "cell_type": "code",
   "execution_count": 44,
   "id": "0e55ce73",
   "metadata": {},
   "outputs": [
    {
     "name": "stdout",
     "output_type": "stream",
     "text": [
      "\n",
      "Input sentence:  ['the', 'fulton', 'county', 'grand', 'jury', 'said', 'friday', 'an', 'investigation', 'of', 'atlantas', 'recent', 'primary', 'election', 'produced', '', 'no', 'evidence', '', 'that', 'any', 'irregularities', 'took', 'place', '']\n",
      "Corresponding padded sentence:  [    2  5437   643  2297  1634    55  1840    30  2180     3 14182   543\n",
      "  1121  1399  1190     1    50   464     1     8    75  9172   203   161\n",
      "     1     0     0     0     0     0     0     0     0     0     0     0\n",
      "     0     0     0     0     0     0     0     0     0     0     0     0\n",
      "     0     0     0     0     0     0     0     0     0     0     0     0\n",
      "     0     0     0     0     0     0     0     0     0     0     0     0\n",
      "     0     0     0     0     0     0     0     0     0     0     0     0\n",
      "     0     0     0     0     0     0     0     0     0     0     0     0\n",
      "     0     0     0     0     0     0     0     0     0     0     0     0\n",
      "     0     0     0     0     0     0     0     0     0     0     0     0\n",
      "     0     0     0     0     0     0     0     0     0     0     0     0\n",
      "     0     0     0     0     0     0     0     0     0     0     0     0\n",
      "     0     0     0     0     0     0     0     0     0     0     0     0\n",
      "     0     0     0     0     0     0     0     0     0     0     0     0\n",
      "     0     0     0     0     0     0     0     0     0     0     0     0\n",
      "     0     0     0     0     0     0     0     0     0     0     0     0\n",
      "     0     0     0     0     0     0     0     0]\n",
      "\n",
      "POS Tagged Output for above sentence:  ['DET', 'NOUN', 'NOUN', 'ADJ', 'NOUN', 'VERB', 'NOUN', 'DET', 'NOUN', 'ADP', 'NOUN', 'ADJ', 'NOUN', 'NOUN', 'VERB', '.', 'DET', 'NOUN', '.', 'ADP', 'DET', 'NOUN', 'VERB', 'NOUN', '.']\n",
      "Corresponding POS Tagged padded output:  [5 1 1 6 1 2 1 5 1 4 1 6 1 1 2 3 5 1 3 4 5 1 2 1 3 0 0 0 0 0 0 0 0 0 0 0 0\n",
      " 0 0 0 0 0 0 0 0 0 0 0 0 0 0 0 0 0 0 0 0 0 0 0 0 0 0 0 0 0 0 0 0 0 0 0 0 0\n",
      " 0 0 0 0 0 0 0 0 0 0 0 0 0 0 0 0 0 0 0 0 0 0 0 0 0 0 0 0 0 0 0 0 0 0 0 0 0\n",
      " 0 0 0 0 0 0 0 0 0 0 0 0 0 0 0 0 0 0 0 0 0 0 0 0 0 0 0 0 0 0 0 0 0 0 0 0 0\n",
      " 0 0 0 0 0 0 0 0 0 0 0 0 0 0 0 0 0 0 0 0 0 0 0 0 0 0 0 0 0 0 0 0 0 0 0 0 0\n",
      " 0 0 0 0 0 0 0 0 0 0 0 0 0 0 0]\n"
     ]
    }
   ],
   "source": [
    "# Pad & Truncate Sequences\n",
    "# Sentences whose length is greater than 200 will be truncated\n",
    "# Sentences whose length is less than 200 will be appended with zeros\n",
    "X = pad_sequences(X_encoded, maxlen = 200, padding = 'post', truncating = 'post')\n",
    "Y = pad_sequences(Y_encoded, maxlen = 200, padding = 'post', truncating = 'post')\n",
    "\n",
    "print(\"\\nInput sentence: \", inputSentence[0])\n",
    "print(\"Corresponding padded sentence: \", X[0])\n",
    "\n",
    "print(\"\\nPOS Tagged Output for above sentence: \", posTaggedOutput[0])\n",
    "print(\"Corresponding POS Tagged padded output: \", Y[0])"
   ]
  },
  {
   "cell_type": "markdown",
   "id": "c6da6c22",
   "metadata": {},
   "source": [
    "### One Hot Encoding"
   ]
  },
  {
   "cell_type": "code",
   "execution_count": 45,
   "id": "fa37fe8c",
   "metadata": {},
   "outputs": [
    {
     "name": "stdout",
     "output_type": "stream",
     "text": [
      "Y shape:  (57340, 200, 13)\n",
      "Unique POS Tags:  {'X', 'NOUN', 'CONJ', 'ADV', '.', 'ADJ', 'NUM', 'PRT', 'DET', 'VERB', 'ADP', 'PRON'}\n"
     ]
    }
   ],
   "source": [
    "# Converting Y to one-hot encoding structure\n",
    "# There are 57350 sentences and 12 different tags in total and each TAG is vectorized to be represented in 200 dimensions\n",
    "unique_POSTags = (set([tags for sentence in df['POS Tagged'] for tags in sentence]))\n",
    "Y = to_categorical(Y)\n",
    "print(\"Y shape: \", Y.shape)\n",
    "print(\"Unique POS Tags: \", unique_POSTags)"
   ]
  },
  {
   "cell_type": "markdown",
   "id": "1cde6406",
   "metadata": {},
   "source": [
    "### Train-Validation-Test Split"
   ]
  },
  {
   "cell_type": "code",
   "execution_count": 46,
   "id": "2a24d377",
   "metadata": {},
   "outputs": [
    {
     "name": "stdout",
     "output_type": "stream",
     "text": [
      "Training set X:  (41284, 200)\n",
      "Training set Y:  (41284, 200, 13)\n",
      "Validation set X:  (10322, 200)\n",
      "Validation set Y:  (10322, 200, 13)\n",
      "Test set X:  (5734, 200)\n",
      "Test set Y:  (5734, 200, 13)\n"
     ]
    }
   ],
   "source": [
    "X_train, X_test, Y_train, Y_test = train_test_split(X, Y, test_size = 0.1)\n",
    "X_train, X_val, Y_train, Y_val = train_test_split(X_train, Y_train, test_size = 0.2)\n",
    "print(\"Training set X: \", X_train.shape)\n",
    "print(\"Training set Y: \", Y_train.shape)\n",
    "print(\"Validation set X: \", X_val.shape)\n",
    "print(\"Validation set Y: \", Y_val.shape)\n",
    "print(\"Test set X: \", X_test.shape)\n",
    "print(\"Test set Y: \", Y_test.shape)"
   ]
  },
  {
   "cell_type": "markdown",
   "id": "6c61ad34",
   "metadata": {},
   "source": [
    "### Word Embeddings using GloVe Model\n",
    "\n",
    "* We are using GloVe Model (pre-trained model) with 300-D (dimensions)"
   ]
  },
  {
   "cell_type": "code",
   "execution_count": 47,
   "id": "44d5a275",
   "metadata": {},
   "outputs": [
    {
     "name": "stdout",
     "output_type": "stream",
     "text": [
      "Loaded 400001 word vectors.\n"
     ]
    }
   ],
   "source": [
    "# load the whole embedding into memory\n",
    "embeddings_index = dict()\n",
    "f = open('..\\GloVe\\glove.6B.300d.txt', encoding='utf-8')\n",
    "for line in f:\n",
    "    values = line.split()\n",
    "    word = values[0]\n",
    "    coefs = np.asarray(values[1:], dtype='float32')\n",
    "    embeddings_index[word] = coefs\n",
    "f.close()\n",
    "print('Loaded {} word vectors.' .format(len(embeddings_index)))"
   ]
  },
  {
   "cell_type": "code",
   "execution_count": 48,
   "id": "500511c6",
   "metadata": {},
   "outputs": [
    {
     "name": "stdout",
     "output_type": "stream",
     "text": [
      "Embedding Matrix: (48019, 300)\n"
     ]
    }
   ],
   "source": [
    "# create a weight matrix for words in training docs\n",
    "embedding_matrix = np.zeros((vocabularySize+1, 300))\n",
    "for word, i in inputTokenizer.word_index.items():\n",
    "    embedding_vector = embeddings_index.get(word)\n",
    "    if embedding_vector is not None:\n",
    "        embedding_matrix[i] = embedding_vector\n",
    "        \n",
    "print(\"Embedding Matrix: {}\".format(embedding_matrix.shape))"
   ]
  },
  {
   "cell_type": "markdown",
   "id": "f38254c5",
   "metadata": {},
   "source": [
    "### LSTM with trainable GloVe embeddings"
   ]
  },
  {
   "cell_type": "code",
   "execution_count": 53,
   "id": "75c800a5",
   "metadata": {},
   "outputs": [],
   "source": [
    "LSTM_model = Sequential()\n",
    "\n",
    "# Embedding layer\n",
    "LSTM_model.add(Embedding(input_dim    =  vocabularySize+1,       # vocabulary size - number of unique words in data\n",
    "                        output_dim    =  300,                    # length of vector with which each word is represented\n",
    "                        input_length  =  200,                    # length of input sequence\n",
    "                        weights       = [embedding_matrix],      # word embedding matrix\n",
    "                        trainable     =  True                    # True - update the embeddings while training\n",
    "))\n",
    "\n",
    "# LSTM layer with 32 & 64 cells\n",
    "LSTM_model.add(LSTM(32, return_sequences=True))\n",
    "LSTM_model.add(Dropout(0.3))\n",
    "LSTM_model.add(LSTM(64, return_sequences=True))\n",
    "\n",
    "# Time distributed (output at each sequence) layer\n",
    "LSTM_model.add(TimeDistributed(Dense(13, activation='softmax')))"
   ]
  },
  {
   "cell_type": "code",
   "execution_count": 54,
   "id": "9f7ec046",
   "metadata": {},
   "outputs": [
    {
     "name": "stdout",
     "output_type": "stream",
     "text": [
      "Model: \"sequential_3\"\n",
      "_________________________________________________________________\n",
      "Layer (type)                 Output Shape              Param #   \n",
      "=================================================================\n",
      "embedding_3 (Embedding)      (None, 200, 300)          14405700  \n",
      "_________________________________________________________________\n",
      "lstm_4 (LSTM)                (None, 200, 32)           42624     \n",
      "_________________________________________________________________\n",
      "dropout_2 (Dropout)          (None, 200, 32)           0         \n",
      "_________________________________________________________________\n",
      "lstm_5 (LSTM)                (None, 200, 64)           24832     \n",
      "_________________________________________________________________\n",
      "time_distributed_3 (TimeDist (None, 200, 13)           845       \n",
      "=================================================================\n",
      "Total params: 14,474,001\n",
      "Trainable params: 14,474,001\n",
      "Non-trainable params: 0\n",
      "_________________________________________________________________\n"
     ]
    }
   ],
   "source": [
    "LSTM_model.compile(loss = 'categorical_crossentropy', optimizer = 'rmsprop', metrics = ['acc'])\n",
    "LSTM_model.summary()"
   ]
  },
  {
   "cell_type": "code",
   "execution_count": 55,
   "id": "18fe451e",
   "metadata": {},
   "outputs": [
    {
     "name": "stdout",
     "output_type": "stream",
     "text": [
      "Epoch 1/25\n",
      "323/323 [==============================] - 237s 669ms/step - loss: 0.3626 - acc: 0.9207 - val_loss: 0.0324 - val_acc: 0.9910\n",
      "Epoch 2/25\n",
      "323/323 [==============================] - 229s 709ms/step - loss: 0.0295 - acc: 0.9915 - val_loss: 0.0161 - val_acc: 0.9948\n",
      "Epoch 3/25\n",
      "323/323 [==============================] - 233s 723ms/step - loss: 0.0169 - acc: 0.9947 - val_loss: 0.0135 - val_acc: 0.9955\n",
      "Epoch 4/25\n",
      "323/323 [==============================] - 239s 741ms/step - loss: 0.0138 - acc: 0.9956 - val_loss: 0.0123 - val_acc: 0.9958\n",
      "Epoch 5/25\n",
      "323/323 [==============================] - 225s 696ms/step - loss: 0.0119 - acc: 0.9961 - val_loss: 0.0115 - val_acc: 0.9961\n",
      "Epoch 6/25\n",
      "323/323 [==============================] - 222s 687ms/step - loss: 0.0110 - acc: 0.9964 - val_loss: 0.0112 - val_acc: 0.9961\n",
      "Epoch 7/25\n",
      "323/323 [==============================] - 193s 597ms/step - loss: 0.0099 - acc: 0.9967 - val_loss: 0.0109 - val_acc: 0.9962\n",
      "Epoch 8/25\n",
      "323/323 [==============================] - 194s 601ms/step - loss: 0.0092 - acc: 0.9969 - val_loss: 0.0107 - val_acc: 0.9963\n",
      "Epoch 9/25\n",
      "323/323 [==============================] - 195s 604ms/step - loss: 0.0088 - acc: 0.9971 - val_loss: 0.0105 - val_acc: 0.9963\n",
      "Epoch 10/25\n",
      "323/323 [==============================] - 198s 613ms/step - loss: 0.0084 - acc: 0.9972 - val_loss: 0.0107 - val_acc: 0.9964\n",
      "Epoch 11/25\n",
      "323/323 [==============================] - 191s 591ms/step - loss: 0.0080 - acc: 0.9973 - val_loss: 0.0107 - val_acc: 0.9963\n",
      "Epoch 12/25\n",
      "323/323 [==============================] - 206s 638ms/step - loss: 0.0078 - acc: 0.9974 - val_loss: 0.0108 - val_acc: 0.9963\n",
      "Epoch 13/25\n",
      "323/323 [==============================] - 213s 659ms/step - loss: 0.0075 - acc: 0.9975 - val_loss: 0.0108 - val_acc: 0.9964\n",
      "Epoch 14/25\n",
      "323/323 [==============================] - 194s 602ms/step - loss: 0.0072 - acc: 0.9976 - val_loss: 0.0109 - val_acc: 0.9964\n",
      "Epoch 00014: early stopping\n"
     ]
    }
   ],
   "source": [
    "es = EarlyStopping(monitor='val_loss', mode='min', verbose=1, patience=5)\n",
    "LSTM_training = LSTM_model.fit(X_train, Y_train, \n",
    "                             batch_size = 128, \n",
    "                             epochs=25, \n",
    "                             validation_data=(X_val, Y_val),\n",
    "                             callbacks = [es]\n",
    "                            )"
   ]
  },
  {
   "cell_type": "code",
   "execution_count": 56,
   "id": "05b114a0",
   "metadata": {},
   "outputs": [
    {
     "data": {
      "text/plain": [
       "<matplotlib.legend.Legend at 0x1f42e2189b0>"
      ]
     },
     "execution_count": 56,
     "metadata": {},
     "output_type": "execute_result"
    },
    {
     "data": {
      "image/png": "[encoded data removed]",
      "text/plain": [
       "<Figure size 1440x432 with 1 Axes>"
      ]
     },
     "metadata": {
      "needs_background": "light"
     },
     "output_type": "display_data"
    },
    {
     "data": {
      "image/png": "[encoded data removed]",
      "text/plain": [
       "<Figure size 1440x432 with 1 Axes>"
      ]
     },
     "metadata": {
      "needs_background": "light"
     },
     "output_type": "display_data"
    }
   ],
   "source": [
    "# Plotting Training Vs Validation Graphs\n",
    "\n",
    "epoch_loss = LSTM_training.history['loss']\n",
    "epoch_val_loss = LSTM_training.history['val_loss']\n",
    "epoch_acc = LSTM_training.history['acc']\n",
    "epoch_val_acc = LSTM_training.history['val_acc']\n",
    "\n",
    "plt.figure(figsize=(20,6))\n",
    "plt.subplot(1,2,1)\n",
    "plt.plot(range(0, len(epoch_loss)), epoch_loss, 'b-', linewidth=2, label='Train loss')\n",
    "plt.plot(range(0, len(epoch_val_loss)), epoch_val_loss, 'r-', linewidth=2, label='Val loss')\n",
    "plt.title('Evolution of LOSS on training and validation sets over epochs')\n",
    "plt.legend(loc='best')\n",
    "\n",
    "plt.figure(figsize=(20,6))\n",
    "plt.subplot(1,2,2)\n",
    "plt.plot(range(0, len(epoch_acc)), epoch_acc, 'b-', linewidth=2, label='Train accuracy')\n",
    "plt.plot(range(0, len(epoch_val_acc)), epoch_val_acc, 'r-', linewidth=2, label='Val accuracy')\n",
    "plt.title('Evolution of ACCURACY on training and validation sets over epochs')\n",
    "plt.legend(loc='best')\n"
   ]
  },
  {
   "cell_type": "code",
   "execution_count": 57,
   "id": "49336473",
   "metadata": {},
   "outputs": [
    {
     "name": "stdout",
     "output_type": "stream",
     "text": [
      "180/180 [==============================] - 13s 74ms/step - loss: 0.0107 - acc: 0.9964\n",
      "Test Loss: 0.010706603527069092,\n",
      "Test Accuracy: 0.9963864684104919\n"
     ]
    }
   ],
   "source": [
    "loss, accuracy = LSTM_model.evaluate(X_test, Y_test, verbose = 1)\n",
    "print(\"Test Loss: {0},\\nTest Accuracy: {1}\".format(loss, accuracy))"
   ]
  },
  {
   "cell_type": "markdown",
   "id": "fa477389",
   "metadata": {},
   "source": [
    "### Prediction for a sample sentence"
   ]
  },
  {
   "cell_type": "code",
   "execution_count": 63,
   "id": "f342c10f",
   "metadata": {},
   "outputs": [
    {
     "name": "stdout",
     "output_type": "stream",
     "text": [
      "The input is: where are they going on sunday?\n",
      "(adv)\n",
      "(verb)\n",
      "(pron)\n",
      "(verb)\n",
      "(adp)\n",
      "(noun)\n"
     ]
    }
   ],
   "source": [
    "sent = [\"where are they going on sunday?\"]\n",
    "sent_encoded = inputTokenizer.texts_to_sequences(sent)\n",
    "X_sent = pad_sequences(sent_encoded, maxlen = 200, padding = 'post', truncating = 'post')\n",
    "\n",
    "output_weights = LSTM_model.predict(X_sent[0])\n",
    "print(\"The input is: {}\".format(sent[0]))\n",
    "i = 0\n",
    "for x in output_weights:\n",
    "    pos = np.argmax(x)\n",
    "    for word, index in tagTokenizer.word_index.items():\n",
    "        if(pos == index):\n",
    "            print('('  + word + ')')\n",
    "    i += 1"
   ]
  },
  {
   "cell_type": "markdown",
   "id": "168ece1a",
   "metadata": {},
   "source": [
    "### RNN with trainable GloVe embeddings"
   ]
  },
  {
   "cell_type": "code",
   "execution_count": 67,
   "id": "1f8fd24d",
   "metadata": {},
   "outputs": [],
   "source": [
    "RNN_model = Sequential()\n",
    "\n",
    "# Embedding layer\n",
    "RNN_model.add(Embedding(input_dim     =  vocabularySize+1,         # vocabulary size - number of unique words in data\n",
    "                        output_dim    =  300,                    # length of vector with which each word is represented\n",
    "                        input_length  =  200,                    # length of input sequence\n",
    "                        weights       = [embedding_matrix],      # word embedding matrix\n",
    "                        trainable     =  True                     # True - update the embeddings while training\n",
    "))\n",
    "\n",
    "# RNN layer with 64 RNN cells\n",
    "RNN_model.add(SimpleRNN(64, return_sequences=True))\n",
    "\n",
    "# Time distributed (output at each sequence) layer\n",
    "RNN_model.add(TimeDistributed(Dense(13, activation='softmax')))"
   ]
  },
  {
   "cell_type": "code",
   "execution_count": 68,
   "id": "7ef406df",
   "metadata": {},
   "outputs": [
    {
     "name": "stdout",
     "output_type": "stream",
     "text": [
      "Model: \"sequential_5\"\n",
      "_________________________________________________________________\n",
      "Layer (type)                 Output Shape              Param #   \n",
      "=================================================================\n",
      "embedding_5 (Embedding)      (None, 200, 300)          14405700  \n",
      "_________________________________________________________________\n",
      "simple_rnn_2 (SimpleRNN)     (None, 200, 64)           23360     \n",
      "_________________________________________________________________\n",
      "time_distributed_5 (TimeDist (None, 200, 13)           845       \n",
      "=================================================================\n",
      "Total params: 14,429,905\n",
      "Trainable params: 14,429,905\n",
      "Non-trainable params: 0\n",
      "_________________________________________________________________\n"
     ]
    }
   ],
   "source": [
    "RNN_model.compile(loss = 'categorical_crossentropy', optimizer = 'rmsprop', metrics = ['acc'])\n",
    "RNN_model.summary()"
   ]
  },
  {
   "cell_type": "code",
   "execution_count": 69,
   "id": "fe317325",
   "metadata": {},
   "outputs": [
    {
     "name": "stdout",
     "output_type": "stream",
     "text": [
      "Epoch 1/10\n",
      "646/646 [==============================] - 131s 201ms/step - loss: 0.1814 - acc: 0.9578 - val_loss: 0.0148 - val_acc: 0.9949\n",
      "Epoch 2/10\n",
      "646/646 [==============================] - 129s 200ms/step - loss: 0.0129 - acc: 0.9955 - val_loss: 0.0121 - val_acc: 0.9958\n",
      "Epoch 3/10\n",
      "646/646 [==============================] - 218s 338ms/step - loss: 0.0101 - acc: 0.9965 - val_loss: 0.0109 - val_acc: 0.9962\n",
      "Epoch 4/10\n",
      "646/646 [==============================] - 221s 342ms/step - loss: 0.0089 - acc: 0.9969 - val_loss: 0.0108 - val_acc: 0.9962\n",
      "Epoch 5/10\n",
      "646/646 [==============================] - 144s 222ms/step - loss: 0.0079 - acc: 0.9973 - val_loss: 0.0104 - val_acc: 0.9963\n",
      "Epoch 6/10\n",
      "646/646 [==============================] - 145s 225ms/step - loss: 0.0073 - acc: 0.9975 - val_loss: 0.0103 - val_acc: 0.9964\n",
      "Epoch 7/10\n",
      "646/646 [==============================] - 145s 225ms/step - loss: 0.0066 - acc: 0.9978 - val_loss: 0.0104 - val_acc: 0.9963\n",
      "Epoch 8/10\n",
      "646/646 [==============================] - 137s 212ms/step - loss: 0.0060 - acc: 0.9979 - val_loss: 0.0106 - val_acc: 0.9963\n",
      "Epoch 9/10\n",
      "646/646 [==============================] - 137s 212ms/step - loss: 0.0056 - acc: 0.9981 - val_loss: 0.0106 - val_acc: 0.9963\n",
      "Epoch 10/10\n",
      "646/646 [==============================] - 137s 212ms/step - loss: 0.0052 - acc: 0.9983 - val_loss: 0.0108 - val_acc: 0.9963\n"
     ]
    }
   ],
   "source": [
    "es = EarlyStopping(monitor='val_loss', mode='min', verbose=1, patience=5)\n",
    "RNN_training = RNN_model.fit(X_train, Y_train, \n",
    "                             batch_size=64, \n",
    "                             epochs=10, \n",
    "                             validation_data=(X_val, Y_val),\n",
    "                             callbacks = [es]\n",
    "                            )"
   ]
  },
  {
   "cell_type": "code",
   "execution_count": 73,
   "id": "518d324b",
   "metadata": {},
   "outputs": [
    {
     "data": {
      "text/plain": [
       "<matplotlib.legend.Legend at 0x1f495840128>"
      ]
     },
     "execution_count": 73,
     "metadata": {},
     "output_type": "execute_result"
    },
    {
     "data": {
      "image/png": "[encoded data removed]",
      "text/plain": [
       "<Figure size 1440x432 with 1 Axes>"
      ]
     },
     "metadata": {
      "needs_background": "light"
     },
     "output_type": "display_data"
    },
    {
     "data": {
      "image/png": "[encoded data removed]",
      "text/plain": [
       "<Figure size 1440x432 with 1 Axes>"
      ]
     },
     "metadata": {
      "needs_background": "light"
     },
     "output_type": "display_data"
    }
   ],
   "source": [
    "# Plotting Training Vs Validation Graphs\n",
    "\n",
    "epoch_loss = RNN_training.history['loss']\n",
    "epoch_val_loss = RNN_training.history['val_loss']\n",
    "epoch_acc = RNN_training.history['acc']\n",
    "epoch_val_acc = RNN_training.history['val_acc']\n",
    "\n",
    "plt.figure(figsize=(20,6))\n",
    "plt.subplot(1,2,1)\n",
    "plt.plot(range(0, len(epoch_loss)), epoch_loss, 'b-', linewidth=2, label='Train loss')\n",
    "plt.plot(range(0, len(epoch_val_loss)), epoch_val_loss, 'r-', linewidth=2, label='Val loss')\n",
    "plt.title('Evolution of LOSS on training and validation sets over epochs')\n",
    "plt.legend(loc='best')\n",
    "\n",
    "plt.figure(figsize=(20,6))\n",
    "plt.subplot(1,2,2)\n",
    "plt.plot(range(0, len(epoch_acc)), epoch_acc, 'b-', linewidth=2, label='Train accuracy')\n",
    "plt.plot(range(0, len(epoch_val_acc)), epoch_val_acc, 'r-', linewidth=2, label='Val accuracy')\n",
    "plt.title('Evolution of ACCURACY on training and validation sets over epochs')\n",
    "plt.legend(loc='best')\n"
   ]
  },
  {
   "cell_type": "code",
   "execution_count": 74,
   "id": "c9a7bef1",
   "metadata": {},
   "outputs": [
    {
     "name": "stdout",
     "output_type": "stream",
     "text": [
      "180/180 [==============================] - 5s 28ms/step - loss: 0.0107 - acc: 0.9963\n",
      "Test Loss: 0.010748816654086113,\n",
      "Test Accuracy: 0.9963158369064331\n"
     ]
    }
   ],
   "source": [
    "loss, accuracy = RNN_model.evaluate(X_test, Y_test, verbose = 1)\n",
    "print(\"Test Loss: {0},\\nTest Accuracy: {1}\".format(loss, accuracy))"
   ]
  },
  {
   "cell_type": "markdown",
   "id": "e17cec4f",
   "metadata": {},
   "source": [
    "### Prediction for a sample sentence"
   ]
  },
  {
   "cell_type": "code",
   "execution_count": 75,
   "id": "9dc97f0f",
   "metadata": {},
   "outputs": [
    {
     "name": "stdout",
     "output_type": "stream",
     "text": [
      "adv\n",
      "verb\n",
      "pron\n",
      "verb\n",
      "adp\n",
      "noun\n"
     ]
    }
   ],
   "source": [
    "sent = [\"where are they going on sunday?\"]\n",
    "sent_encoded = inputTokenizer.texts_to_sequences(sent)\n",
    "X_sent = pad_sequences(sent_encoded, maxlen = 200, padding = 'post', truncating = 'post')\n",
    "\n",
    "output_weights = RNN_model.predict(X_sent[0])\n",
    "\n",
    "for x in output_weights:\n",
    "    pos = np.argmax(x)\n",
    "    for word, index in tagTokenizer.word_index.items():\n",
    "        if(pos == index):\n",
    "            print(word)"
   ]
  },
  {
   "cell_type": "code",
   "execution_count": 34,
   "id": "396b67ae",
   "metadata": {},
   "outputs": [
    {
     "name": "stderr",
     "output_type": "stream",
     "text": [
      "[nltk_data] Downloading package indian to\n",
      "[nltk_data]     C:\\Users\\Admin\\AppData\\Roaming\\nltk_data...\n",
      "[nltk_data]   Unzipping corpora\\indian.zip.\n"
     ]
    },
    {
     "data": {
      "text/plain": [
       "[('মহিষের', 'NN'), ('সন্তান', 'NN'), (':', 'SYM'), ...]"
      ]
     },
     "execution_count": 34,
     "metadata": {},
     "output_type": "execute_result"
    }
   ],
   "source": [
    "nltk.download('indian')\n",
    "nltk.corpus.indian.tagged_words()"
   ]
  }
 ],
 "metadata": {
  "kernelspec": {
   "display_name": "Python 3",
   "language": "python",
   "name": "python3"
  },
  "language_info": {
   "codemirror_mode": {
    "name": "ipython",
    "version": 3
   },
   "file_extension": ".py",
   "mimetype": "text/x-python",
   "name": "python",
   "nbconvert_exporter": "python",
   "pygments_lexer": "ipython3",
   "version": "3.6.4"
  }
 },
 "nbformat": 4,
 "nbformat_minor": 5
}
