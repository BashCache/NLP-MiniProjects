{
  "cells": [
    {
      "cell_type": "code",
      "source": [
        "from google.colab import drive\n",
        "drive.mount('/content/drive')"
      ],
      "metadata": {
        "id": "SKfYI3jgIZhh",
        "outputId": "b107f054-76ab-4b4f-c40a-0933b6c23177",
        "colab": {
          "base_uri": "https://localhost:8080/"
        }
      },
      "id": "SKfYI3jgIZhh",
      "execution_count": null,
      "outputs": [
        {
          "output_type": "stream",
          "name": "stdout",
          "text": [
            "Mounted at /content/drive\n"
          ]
        }
      ]
    },
    {
      "cell_type": "code",
      "execution_count": null,
      "id": "48ca90ab",
      "metadata": {
        "id": "48ca90ab"
      },
      "outputs": [],
      "source": [
        "import pandas as pd \n",
        "import numpy as np \n",
        "import re \n",
        "import seaborn as sns\n",
        "import matplotlib.pyplot as plt\n",
        "from dateutil import parser\n",
        "from sklearn.utils import resample\n",
        "from sklearn import preprocessing\n",
        "\n",
        "%matplotlib inline"
      ]
    },
    {
      "cell_type": "code",
      "execution_count": null,
      "id": "18916276",
      "metadata": {
        "id": "18916276",
        "outputId": "48aad06b-ba62-433f-fe22-db20ac6b3a6e",
        "colab": {
          "base_uri": "https://localhost:8080/"
        }
      },
      "outputs": [
        {
          "output_type": "stream",
          "name": "stdout",
          "text": [
            "[nltk_data] Downloading package wordnet to /root/nltk_data...\n",
            "[nltk_data]   Unzipping corpora/wordnet.zip.\n",
            "[nltk_data] Downloading package punkt to /root/nltk_data...\n",
            "[nltk_data]   Unzipping tokenizers/punkt.zip.\n",
            "[nltk_data] Downloading package stopwords to /root/nltk_data...\n",
            "[nltk_data]   Unzipping corpora/stopwords.zip.\n",
            "[nltk_data] Downloading package averaged_perceptron_tagger to\n",
            "[nltk_data]     /root/nltk_data...\n",
            "[nltk_data]   Unzipping taggers/averaged_perceptron_tagger.zip.\n"
          ]
        }
      ],
      "source": [
        "from nltk.corpus import stopwords\n",
        "import nltk\n",
        "nltk.download('wordnet')\n",
        "nltk.download('punkt')\n",
        "nltk.download('stopwords')\n",
        "nltk.download('averaged_perceptron_tagger') \n",
        "\n",
        "import spacy"
      ]
    },
    {
      "cell_type": "code",
      "execution_count": null,
      "id": "89887fb7",
      "metadata": {
        "id": "89887fb7"
      },
      "outputs": [],
      "source": [
        "from gensim.models import Word2Vec\n",
        "from tensorflow.keras.callbacks import ModelCheckpoint, ReduceLROnPlateau, EarlyStopping\n",
        "from tensorflow.keras.layers import Dense, Input, LSTM, Embedding, Dropout, Activation, Flatten, Bidirectional, GlobalMaxPool1D,GRU,Conv1D,MaxPooling1D, TimeDistributed\n",
        "from tensorflow.keras.models import Model, Sequential\n",
        "from tensorflow.keras.utils import to_categorical\n",
        "import tensorflow as tf\n",
        "from sklearn import metrics\n",
        "from tensorflow.keras import backend as K\n",
        "import matplotlib.pyplot as plt\n",
        "from tensorflow.keras.utils import plot_model\n",
        "from sklearn.model_selection import train_test_split\n",
        "from sklearn.feature_extraction.text import TfidfVectorizer\n",
        "from tensorflow.keras.preprocessing.text import Tokenizer\n",
        "from tensorflow.keras.preprocessing.sequence import pad_sequences"
      ]
    },
    {
      "cell_type": "markdown",
      "id": "30941513",
      "metadata": {
        "id": "30941513"
      },
      "source": [
        "### Exploring the data"
      ]
    },
    {
      "cell_type": "code",
      "execution_count": null,
      "id": "86ee7256",
      "metadata": {
        "id": "86ee7256",
        "outputId": "6438fbb7-8208-459f-8a7d-d16fb34af9ca",
        "colab": {
          "base_uri": "https://localhost:8080/",
          "height": 206
        }
      },
      "outputs": [
        {
          "output_type": "execute_result",
          "data": {
            "text/html": [
              "\n",
              "  <div id=\"df-fa64998c-de62-4e14-8775-9fec7e245f30\">\n",
              "    <div class=\"colab-df-container\">\n",
              "      <div>\n",
              "<style scoped>\n",
              "    .dataframe tbody tr th:only-of-type {\n",
              "        vertical-align: middle;\n",
              "    }\n",
              "\n",
              "    .dataframe tbody tr th {\n",
              "        vertical-align: top;\n",
              "    }\n",
              "\n",
              "    .dataframe thead th {\n",
              "        text-align: right;\n",
              "    }\n",
              "</style>\n",
              "<table border=\"1\" class=\"dataframe\">\n",
              "  <thead>\n",
              "    <tr style=\"text-align: right;\">\n",
              "      <th></th>\n",
              "      <th>Short description</th>\n",
              "      <th>Description</th>\n",
              "      <th>Caller</th>\n",
              "      <th>Assignment group</th>\n",
              "    </tr>\n",
              "  </thead>\n",
              "  <tbody>\n",
              "    <tr>\n",
              "      <th>0</th>\n",
              "      <td>login issue</td>\n",
              "      <td>-verified user details.(employee# &amp; manager na...</td>\n",
              "      <td>spxjnwir pjlcoqds</td>\n",
              "      <td>GRP_0</td>\n",
              "    </tr>\n",
              "    <tr>\n",
              "      <th>1</th>\n",
              "      <td>outlook</td>\n",
              "      <td>\\r\\n\\r\\nreceived from: hmjdrvpb.komuaywn@gmail...</td>\n",
              "      <td>hmjdrvpb komuaywn</td>\n",
              "      <td>GRP_0</td>\n",
              "    </tr>\n",
              "    <tr>\n",
              "      <th>2</th>\n",
              "      <td>cant log in to vpn</td>\n",
              "      <td>\\r\\n\\r\\nreceived from: eylqgodm.ybqkwiam@gmail...</td>\n",
              "      <td>eylqgodm ybqkwiam</td>\n",
              "      <td>GRP_0</td>\n",
              "    </tr>\n",
              "    <tr>\n",
              "      <th>3</th>\n",
              "      <td>unable to access hr_tool page</td>\n",
              "      <td>unable to access hr_tool page</td>\n",
              "      <td>xbkucsvz gcpydteq</td>\n",
              "      <td>GRP_0</td>\n",
              "    </tr>\n",
              "    <tr>\n",
              "      <th>4</th>\n",
              "      <td>skype error</td>\n",
              "      <td>skype error</td>\n",
              "      <td>owlgqjme qhcozdfx</td>\n",
              "      <td>GRP_0</td>\n",
              "    </tr>\n",
              "  </tbody>\n",
              "</table>\n",
              "</div>\n",
              "      <button class=\"colab-df-convert\" onclick=\"convertToInteractive('df-fa64998c-de62-4e14-8775-9fec7e245f30')\"\n",
              "              title=\"Convert this dataframe to an interactive table.\"\n",
              "              style=\"display:none;\">\n",
              "        \n",
              "  <svg xmlns=\"http://www.w3.org/2000/svg\" height=\"24px\"viewBox=\"0 0 24 24\"\n",
              "       width=\"24px\">\n",
              "    <path d=\"M0 0h24v24H0V0z\" fill=\"none\"/>\n",
              "    <path d=\"M18.56 5.44l.94 2.06.94-2.06 2.06-.94-2.06-.94-.94-2.06-.94 2.06-2.06.94zm-11 1L8.5 8.5l.94-2.06 2.06-.94-2.06-.94L8.5 2.5l-.94 2.06-2.06.94zm10 10l.94 2.06.94-2.06 2.06-.94-2.06-.94-.94-2.06-.94 2.06-2.06.94z\"/><path d=\"M17.41 7.96l-1.37-1.37c-.4-.4-.92-.59-1.43-.59-.52 0-1.04.2-1.43.59L10.3 9.45l-7.72 7.72c-.78.78-.78 2.05 0 2.83L4 21.41c.39.39.9.59 1.41.59.51 0 1.02-.2 1.41-.59l7.78-7.78 2.81-2.81c.8-.78.8-2.07 0-2.86zM5.41 20L4 18.59l7.72-7.72 1.47 1.35L5.41 20z\"/>\n",
              "  </svg>\n",
              "      </button>\n",
              "      \n",
              "  <style>\n",
              "    .colab-df-container {\n",
              "      display:flex;\n",
              "      flex-wrap:wrap;\n",
              "      gap: 12px;\n",
              "    }\n",
              "\n",
              "    .colab-df-convert {\n",
              "      background-color: #E8F0FE;\n",
              "      border: none;\n",
              "      border-radius: 50%;\n",
              "      cursor: pointer;\n",
              "      display: none;\n",
              "      fill: #1967D2;\n",
              "      height: 32px;\n",
              "      padding: 0 0 0 0;\n",
              "      width: 32px;\n",
              "    }\n",
              "\n",
              "    .colab-df-convert:hover {\n",
              "      background-color: #E2EBFA;\n",
              "      box-shadow: 0px 1px 2px rgba(60, 64, 67, 0.3), 0px 1px 3px 1px rgba(60, 64, 67, 0.15);\n",
              "      fill: #174EA6;\n",
              "    }\n",
              "\n",
              "    [theme=dark] .colab-df-convert {\n",
              "      background-color: #3B4455;\n",
              "      fill: #D2E3FC;\n",
              "    }\n",
              "\n",
              "    [theme=dark] .colab-df-convert:hover {\n",
              "      background-color: #434B5C;\n",
              "      box-shadow: 0px 1px 3px 1px rgba(0, 0, 0, 0.15);\n",
              "      filter: drop-shadow(0px 1px 2px rgba(0, 0, 0, 0.3));\n",
              "      fill: #FFFFFF;\n",
              "    }\n",
              "  </style>\n",
              "\n",
              "      <script>\n",
              "        const buttonEl =\n",
              "          document.querySelector('#df-fa64998c-de62-4e14-8775-9fec7e245f30 button.colab-df-convert');\n",
              "        buttonEl.style.display =\n",
              "          google.colab.kernel.accessAllowed ? 'block' : 'none';\n",
              "\n",
              "        async function convertToInteractive(key) {\n",
              "          const element = document.querySelector('#df-fa64998c-de62-4e14-8775-9fec7e245f30');\n",
              "          const dataTable =\n",
              "            await google.colab.kernel.invokeFunction('convertToInteractive',\n",
              "                                                     [key], {});\n",
              "          if (!dataTable) return;\n",
              "\n",
              "          const docLinkHtml = 'Like what you see? Visit the ' +\n",
              "            '<a target=\"_blank\" href=https://colab.research.google.com/notebooks/data_table.ipynb>data table notebook</a>'\n",
              "            + ' to learn more about interactive tables.';\n",
              "          element.innerHTML = '';\n",
              "          dataTable['output_type'] = 'display_data';\n",
              "          await google.colab.output.renderOutput(dataTable, element);\n",
              "          const docLink = document.createElement('div');\n",
              "          docLink.innerHTML = docLinkHtml;\n",
              "          element.appendChild(docLink);\n",
              "        }\n",
              "      </script>\n",
              "    </div>\n",
              "  </div>\n",
              "  "
            ],
            "text/plain": [
              "               Short description  ... Assignment group\n",
              "0                    login issue  ...            GRP_0\n",
              "1                        outlook  ...            GRP_0\n",
              "2             cant log in to vpn  ...            GRP_0\n",
              "3  unable to access hr_tool page  ...            GRP_0\n",
              "4                   skype error   ...            GRP_0\n",
              "\n",
              "[5 rows x 4 columns]"
            ]
          },
          "metadata": {},
          "execution_count": 6
        }
      ],
      "source": [
        "df = pd.read_csv('/content/drive/MyDrive/NLP/data2.csv')\n",
        "df.head()"
      ]
    },
    {
      "cell_type": "code",
      "execution_count": null,
      "id": "2ba4d971",
      "metadata": {
        "id": "2ba4d971",
        "outputId": "34ec6599-5361-4b66-80bb-16de6bf5082b",
        "colab": {
          "base_uri": "https://localhost:8080/"
        }
      },
      "outputs": [
        {
          "output_type": "stream",
          "name": "stdout",
          "text": [
            "No of callers: (2950,) \n",
            "Callers list: ['spxjnwir pjlcoqds' 'hmjdrvpb komuaywn' 'eylqgodm ybqkwiam' ...\n",
            " 'bjitvswa yrmugfnq' 'oybwdsgx oxyhwrfz' 'kqvbrspl jyzoklfx']\n"
          ]
        }
      ],
      "source": [
        "callers = df['Caller'].unique() \n",
        "print(\"No of callers: {0} \\nCallers list: {1}\".format(callers.shape, callers))\n",
        "df['Description'].fillna(value=' ', inplace=True)"
      ]
    },
    {
      "cell_type": "code",
      "execution_count": null,
      "id": "c10acdb5",
      "metadata": {
        "id": "c10acdb5",
        "outputId": "24575cfa-536d-4376-aa10-0ab3265e357a",
        "colab": {
          "base_uri": "https://localhost:8080/"
        }
      },
      "outputs": [
        {
          "output_type": "stream",
          "name": "stdout",
          "text": [
            "<class 'pandas.core.frame.DataFrame'>\n",
            "RangeIndex: 8500 entries, 0 to 8499\n",
            "Data columns (total 4 columns):\n",
            " #   Column             Non-Null Count  Dtype \n",
            "---  ------             --------------  ----- \n",
            " 0   Short description  8498 non-null   object\n",
            " 1   Description        8500 non-null   object\n",
            " 2   Caller             8500 non-null   object\n",
            " 3   Assignment group   8500 non-null   object\n",
            "dtypes: object(4)\n",
            "memory usage: 265.8+ KB\n"
          ]
        }
      ],
      "source": [
        "df.info()"
      ]
    },
    {
      "cell_type": "markdown",
      "id": "131855f3",
      "metadata": {
        "id": "131855f3"
      },
      "source": [
        "### Visualizing data\n",
        "\n",
        "* Find the no of clusters for each of the clusters\n",
        "* Group clusters that have very few messages(less than 10) into 1\n",
        "* Display the type of messages for the top 5 clusters\n",
        "* Drop caller and short description as caller contains gibberish data and short description is not useful as detailed description is available"
      ]
    },
    {
      "cell_type": "code",
      "execution_count": null,
      "id": "cc61e32a",
      "metadata": {
        "id": "cc61e32a",
        "outputId": "ff3e3714-2ef5-491f-9765-80a05d2a2a88",
        "colab": {
          "base_uri": "https://localhost:8080/",
          "height": 333
        }
      },
      "outputs": [
        {
          "output_type": "display_data",
          "data": {
            "image/png": "[encoded data removed]",
            "text/plain": [
              "<Figure size 1584x360 with 1 Axes>"
            ]
          },
          "metadata": {
            "needs_background": "light"
          }
        }
      ],
      "source": [
        "no_of_clusters = df['Assignment group'].value_counts().sort_values(ascending=False).index\n",
        "plt.subplots(figsize = (22,5))\n",
        "ax = sns.countplot(x = 'Assignment group', data = df, color = 'blue', order = no_of_clusters)\n",
        "ax.set_xticklabels(ax.get_xticklabels(), rotation = 45, ha = \"right\")\n",
        "plt.tight_layout()\n",
        "plt.show()"
      ]
    },
    {
      "cell_type": "code",
      "execution_count": null,
      "id": "8ba8489d",
      "metadata": {
        "id": "8ba8489d",
        "outputId": "38c5e5f0-e48d-4183-f816-63d77f108979",
        "colab": {
          "base_uri": "https://localhost:8080/",
          "height": 367
        }
      },
      "outputs": [
        {
          "output_type": "stream",
          "name": "stdout",
          "text": [
            "Found 25 groups which have under 10 samples\n",
            "After regrouping: \n"
          ]
        },
        {
          "output_type": "display_data",
          "data": {
            "image/png": "[encoded data removed]",
            "text/plain": [
              "<Figure size 1584x360 with 1 Axes>"
            ]
          },
          "metadata": {
            "needs_background": "light"
          }
        }
      ],
      "source": [
        "sample = df.groupby(['Assignment group'])\n",
        "regroup=[]\n",
        "for grp in df['Assignment group'].unique():\n",
        "    if(sample.get_group(grp).shape[0]<10):\n",
        "        regroup.append(grp)\n",
        "print('Found {} groups which have under 10 samples'.format(len(regroup)))\n",
        "df['Assignment group']=df['Assignment group'].apply(lambda x : 'misc_grp' if x in regroup  else x)\n",
        "\n",
        "print('After regrouping: ')\n",
        "no_of_clusters = df['Assignment group'].value_counts().sort_values(ascending=False).index\n",
        "plt.subplots(figsize = (22,5))\n",
        "ax = sns.countplot(x = 'Assignment group', data = df, color = 'red', order = no_of_clusters)\n",
        "ax.set_xticklabels(ax.get_xticklabels(), rotation = 45, ha = \"right\")\n",
        "plt.tight_layout()\n",
        "plt.show()"
      ]
    },
    {
      "cell_type": "code",
      "execution_count": null,
      "id": "1e20488b",
      "metadata": {
        "id": "1e20488b",
        "outputId": "bd5ab7a2-9021-44ba-c827-65ee163fc0a8",
        "colab": {
          "base_uri": "https://localhost:8080/"
        }
      },
      "outputs": [
        {
          "output_type": "stream",
          "name": "stdout",
          "text": [
            "Group ID: GRP_0, Type of message: login issue\n",
            "\n",
            "Group ID: GRP_8, Type of message: job mm_zscr0099_dly_merktc3 failed in job_scheduler at: 10/31/2016 08:36:00  \n",
            "\n",
            "Group ID: GRP_24, Type of message: support fÃ¼r fa.gstry \\arexjftu ohxdwngl\n",
            "\n",
            "Group ID: GRP_12, Type of message: amssm00345: c:\\ label:sys-amssm00345 94ef9088 on server: is over  85% space consumed. space available: 2.7 g \n",
            "\n",
            "Group ID: GRP_9, Type of message: job Job_1338 failed in job_scheduler at: 10/31/2016 02:29:00  \n",
            "\n"
          ]
        }
      ],
      "source": [
        "no_of_clusters\n",
        "for i in range(0,5,1):\n",
        "    cluster_ID = no_of_clusters[i]\n",
        "    for j in range(len(df)):\n",
        "        if(df.iloc[j]['Assignment group'] == cluster_ID):\n",
        "            print(\"Group ID: {0}, Type of message: {1}\\n\".format(cluster_ID, df.iloc[j]['Short description']))\n",
        "            break"
      ]
    },
    {
      "cell_type": "code",
      "execution_count": null,
      "id": "11113f92",
      "metadata": {
        "id": "11113f92",
        "outputId": "790a6435-3106-4f64-f969-5ab8828e98d8",
        "colab": {
          "base_uri": "https://localhost:8080/"
        }
      },
      "outputs": [
        {
          "output_type": "stream",
          "name": "stdout",
          "text": [
            "<class 'pandas.core.frame.DataFrame'>\n",
            "RangeIndex: 8500 entries, 0 to 8499\n",
            "Data columns (total 2 columns):\n",
            " #   Column            Non-Null Count  Dtype \n",
            "---  ------            --------------  ----- \n",
            " 0   Description       8500 non-null   object\n",
            " 1   Assignment group  8500 non-null   object\n",
            "dtypes: object(2)\n",
            "memory usage: 132.9+ KB\n"
          ]
        }
      ],
      "source": [
        "df.drop(['Caller','Short description'],axis=1,inplace= True)\n",
        "df.info()"
      ]
    },
    {
      "cell_type": "markdown",
      "id": "c080f1a7",
      "metadata": {
        "id": "c080f1a7"
      },
      "source": [
        "### Pre-processing"
      ]
    },
    {
      "cell_type": "markdown",
      "id": "af74a570",
      "metadata": {
        "id": "af74a570"
      },
      "source": [
        "### 1. Cleaning the text\n",
        "\n",
        "* Convert the text to lower case letters\n",
        "* Remove email IDs\n",
        "* Remove numbers\n",
        "* Remove hyperlinks\n",
        "* Remove encoded characters"
      ]
    },
    {
      "cell_type": "code",
      "execution_count": null,
      "id": "a9d686b9",
      "metadata": {
        "id": "a9d686b9"
      },
      "outputs": [],
      "source": [
        "def is_valid_date(date_str):\n",
        "    try:\n",
        "        parser.parse(date_str)\n",
        "        return True\n",
        "    except:\n",
        "        return False\n",
        "\n",
        "def clean_data(text):\n",
        "    text = text.lower()\n",
        "    text = ' '.join([w for w in text.split() if not is_valid_date(w)])\n",
        "    text = re.sub(r\"received from:\",' ',text)\n",
        "    text = re.sub(r\"from:\",' ',text)\n",
        "    text = re.sub(r\"to:\",' ',text)\n",
        "    text = re.sub(r\"subject:\",' ',text)\n",
        "    text = re.sub(r\"sent:\",' ',text)\n",
        "    text = re.sub(r\"ic:\",' ',text)\n",
        "    text = re.sub(r\"cc:\",' ',text)\n",
        "    text = re.sub(r\"bcc:\",' ',text)\n",
        "    #Remove email \n",
        "    text = re.sub(r'\\S*@\\S*\\s?', '', text)\n",
        "    # Remove numbers \n",
        "    text = re.sub(r'\\d+','' ,text)\n",
        "    # Remove new line characters \n",
        "    text = re.sub(r'\\n',' ',text)\n",
        "    # Remove hashtag while keeping hashtag text\n",
        "    text = re.sub(r'#','', text)\n",
        "    #& \n",
        "    text = re.sub(r'&;?', 'and',text)\n",
        "    # Remove HTML special entities (e.g. &amp;)\n",
        "    text = re.sub(r'\\&\\w*;', '', text)\n",
        "    # Remove hyperlinks\n",
        "    text = re.sub(r'https?:\\/\\/.*\\/\\w*', '', text)  \n",
        "    # Remove characters beyond Readable formart by Unicode:\n",
        "    text= ''.join(c for c in text if c <= '\\uFFFF') \n",
        "    text = text.strip()\n",
        "    # Remove unreadable characters  (also extra spaces)\n",
        "    text = ' '.join(re.sub(\"[^\\u0030-\\u0039\\u0041-\\u005a\\u0061-\\u007a]\", \" \", text).split())\n",
        "    for name in callers:\n",
        "        namelist = [part for part in name.split()]\n",
        "        for namepart in namelist: \n",
        "            text = text.replace(namepart,'')\n",
        "          \n",
        "    text = re.sub(r\"\\s+[a-zA-Z]\\s+\", ' ', text)\n",
        "    text = re.sub(' +', ' ', text)\n",
        "    text = text.strip()\n",
        "    return text\n",
        "  "
      ]
    },
    {
      "cell_type": "code",
      "execution_count": null,
      "id": "f8bd6a93",
      "metadata": {
        "id": "f8bd6a93",
        "outputId": "d67f849c-b6ce-4501-ce0d-35b7031c6770",
        "colab": {
          "base_uri": "https://localhost:8080/"
        }
      },
      "outputs": [
        {
          "output_type": "stream",
          "name": "stdout",
          "text": [
            "Sample Description: \n",
            "\n",
            "Before Cleaning: \r\n",
            "\r\n",
            "received from: hmjdrvpb.komuaywn@gmail.com\r\n",
            "\r\n",
            "hello team,\r\n",
            "\r\n",
            "my meetings/skype meetings etc are not appearing in my outlook calendar, can somebody please advise how to correct this?\r\n",
            "\r\n",
            "kind \n",
            "After Cleaning:  hello team my meetings skype meetings etc are not appearing in my outlook calendar can somebody please advise how to correct this kind\n"
          ]
        }
      ],
      "source": [
        "df['Cleaned Description'] = df['Description'].apply(clean_data)\n",
        "print(\"Sample Description: \\n\")\n",
        "print(\"Before Cleaning: {0}\\nAfter Cleaning:  {1}\".format(df.iloc[1]['Description'], df.iloc[1]['Cleaned Description']))"
      ]
    },
    {
      "cell_type": "code",
      "execution_count": null,
      "id": "1983f86f",
      "metadata": {
        "id": "1983f86f"
      },
      "outputs": [],
      "source": [
        "df['Length'] = [len(text) for text in df['Cleaned Description']]\n",
        "# df = df[df['Length']>=3]\n",
        "# df['Cleaned Description'] = df['Cleaned Description'].apply(lambda x : \" \".join([word for word in x.split() if(len(word)>2)]))"
      ]
    },
    {
      "cell_type": "markdown",
      "id": "808432ff",
      "metadata": {
        "id": "808432ff"
      },
      "source": [
        "### 2. Remove stopwords"
      ]
    },
    {
      "cell_type": "code",
      "execution_count": null,
      "id": "2240ef5e",
      "metadata": {
        "id": "2240ef5e",
        "outputId": "c2533354-9fd6-4167-b8e4-365056aa8b8f",
        "colab": {
          "base_uri": "https://localhost:8080/"
        }
      },
      "outputs": [
        {
          "output_type": "stream",
          "name": "stderr",
          "text": [
            "/usr/local/lib/python3.7/dist-packages/ipykernel_launcher.py:8: SettingWithCopyWarning: \n",
            "A value is trying to be set on a copy of a slice from a DataFrame\n",
            "\n",
            "See the caveats in the documentation: https://pandas.pydata.org/pandas-docs/stable/user_guide/indexing.html#returning-a-view-versus-a-copy\n",
            "  \n"
          ]
        }
      ],
      "source": [
        "english_stopwords = stopwords.words('english')\n",
        "for i in range(len(df)):\n",
        "    text = df['Cleaned Description'][i]\n",
        "    new_text_after_stopwords_removal = \"\"\n",
        "    for word in text.split(' '):\n",
        "        if(word not in english_stopwords):\n",
        "            new_text_after_stopwords_removal += word + \" \"\n",
        "    df['Cleaned Description'][i] = new_text_after_stopwords_removal\n",
        "#     df['Cleaned Description'][i] = \" \".join(word for word in text.split(' ') if word not in english_stopwords)"
      ]
    },
    {
      "cell_type": "code",
      "execution_count": null,
      "id": "e84d611f",
      "metadata": {
        "id": "e84d611f",
        "outputId": "ffbe5d31-81b7-47d7-addf-e4b5d42eb7fd",
        "colab": {
          "base_uri": "https://localhost:8080/",
          "height": 206
        }
      },
      "outputs": [
        {
          "output_type": "execute_result",
          "data": {
            "text/html": [
              "\n",
              "  <div id=\"df-03907170-ba98-464f-8a15-aa3dc47d958a\">\n",
              "    <div class=\"colab-df-container\">\n",
              "      <div>\n",
              "<style scoped>\n",
              "    .dataframe tbody tr th:only-of-type {\n",
              "        vertical-align: middle;\n",
              "    }\n",
              "\n",
              "    .dataframe tbody tr th {\n",
              "        vertical-align: top;\n",
              "    }\n",
              "\n",
              "    .dataframe thead th {\n",
              "        text-align: right;\n",
              "    }\n",
              "</style>\n",
              "<table border=\"1\" class=\"dataframe\">\n",
              "  <thead>\n",
              "    <tr style=\"text-align: right;\">\n",
              "      <th></th>\n",
              "      <th>Description</th>\n",
              "      <th>Assignment group</th>\n",
              "      <th>Cleaned Description</th>\n",
              "      <th>Length</th>\n",
              "    </tr>\n",
              "  </thead>\n",
              "  <tbody>\n",
              "    <tr>\n",
              "      <th>8495</th>\n",
              "      <td>\\r\\n\\r\\nreceived from: avglmrts.vhqmtiua@gmail...</td>\n",
              "      <td>GRP_29</td>\n",
              "      <td>good afternoon receiving emails sent zz mail p...</td>\n",
              "      <td>79</td>\n",
              "    </tr>\n",
              "    <tr>\n",
              "      <th>8496</th>\n",
              "      <td>telephony_software issue</td>\n",
              "      <td>GRP_0</td>\n",
              "      <td>telephony software issue</td>\n",
              "      <td>24</td>\n",
              "    </tr>\n",
              "    <tr>\n",
              "      <th>8497</th>\n",
              "      <td>vip2: windows password reset for tifpdchb pedx...</td>\n",
              "      <td>GRP_0</td>\n",
              "      <td>vip windows password reset tifpdchb pedxruyf</td>\n",
              "      <td>48</td>\n",
              "    </tr>\n",
              "    <tr>\n",
              "      <th>8498</th>\n",
              "      <td>i am unable to access the machine utilities to...</td>\n",
              "      <td>GRP_62</td>\n",
              "      <td>unable access machine utilities finish drawers...</td>\n",
              "      <td>99</td>\n",
              "    </tr>\n",
              "    <tr>\n",
              "      <th>8499</th>\n",
              "      <td>an mehreren pc`s lassen sich verschiedene prgr...</td>\n",
              "      <td>misc_grp</td>\n",
              "      <td>mehreren pc lassen sich verschiedene prgramdnt...</td>\n",
              "      <td>76</td>\n",
              "    </tr>\n",
              "  </tbody>\n",
              "</table>\n",
              "</div>\n",
              "      <button class=\"colab-df-convert\" onclick=\"convertToInteractive('df-03907170-ba98-464f-8a15-aa3dc47d958a')\"\n",
              "              title=\"Convert this dataframe to an interactive table.\"\n",
              "              style=\"display:none;\">\n",
              "        \n",
              "  <svg xmlns=\"http://www.w3.org/2000/svg\" height=\"24px\"viewBox=\"0 0 24 24\"\n",
              "       width=\"24px\">\n",
              "    <path d=\"M0 0h24v24H0V0z\" fill=\"none\"/>\n",
              "    <path d=\"M18.56 5.44l.94 2.06.94-2.06 2.06-.94-2.06-.94-.94-2.06-.94 2.06-2.06.94zm-11 1L8.5 8.5l.94-2.06 2.06-.94-2.06-.94L8.5 2.5l-.94 2.06-2.06.94zm10 10l.94 2.06.94-2.06 2.06-.94-2.06-.94-.94-2.06-.94 2.06-2.06.94z\"/><path d=\"M17.41 7.96l-1.37-1.37c-.4-.4-.92-.59-1.43-.59-.52 0-1.04.2-1.43.59L10.3 9.45l-7.72 7.72c-.78.78-.78 2.05 0 2.83L4 21.41c.39.39.9.59 1.41.59.51 0 1.02-.2 1.41-.59l7.78-7.78 2.81-2.81c.8-.78.8-2.07 0-2.86zM5.41 20L4 18.59l7.72-7.72 1.47 1.35L5.41 20z\"/>\n",
              "  </svg>\n",
              "      </button>\n",
              "      \n",
              "  <style>\n",
              "    .colab-df-container {\n",
              "      display:flex;\n",
              "      flex-wrap:wrap;\n",
              "      gap: 12px;\n",
              "    }\n",
              "\n",
              "    .colab-df-convert {\n",
              "      background-color: #E8F0FE;\n",
              "      border: none;\n",
              "      border-radius: 50%;\n",
              "      cursor: pointer;\n",
              "      display: none;\n",
              "      fill: #1967D2;\n",
              "      height: 32px;\n",
              "      padding: 0 0 0 0;\n",
              "      width: 32px;\n",
              "    }\n",
              "\n",
              "    .colab-df-convert:hover {\n",
              "      background-color: #E2EBFA;\n",
              "      box-shadow: 0px 1px 2px rgba(60, 64, 67, 0.3), 0px 1px 3px 1px rgba(60, 64, 67, 0.15);\n",
              "      fill: #174EA6;\n",
              "    }\n",
              "\n",
              "    [theme=dark] .colab-df-convert {\n",
              "      background-color: #3B4455;\n",
              "      fill: #D2E3FC;\n",
              "    }\n",
              "\n",
              "    [theme=dark] .colab-df-convert:hover {\n",
              "      background-color: #434B5C;\n",
              "      box-shadow: 0px 1px 3px 1px rgba(0, 0, 0, 0.15);\n",
              "      filter: drop-shadow(0px 1px 2px rgba(0, 0, 0, 0.3));\n",
              "      fill: #FFFFFF;\n",
              "    }\n",
              "  </style>\n",
              "\n",
              "      <script>\n",
              "        const buttonEl =\n",
              "          document.querySelector('#df-03907170-ba98-464f-8a15-aa3dc47d958a button.colab-df-convert');\n",
              "        buttonEl.style.display =\n",
              "          google.colab.kernel.accessAllowed ? 'block' : 'none';\n",
              "\n",
              "        async function convertToInteractive(key) {\n",
              "          const element = document.querySelector('#df-03907170-ba98-464f-8a15-aa3dc47d958a');\n",
              "          const dataTable =\n",
              "            await google.colab.kernel.invokeFunction('convertToInteractive',\n",
              "                                                     [key], {});\n",
              "          if (!dataTable) return;\n",
              "\n",
              "          const docLinkHtml = 'Like what you see? Visit the ' +\n",
              "            '<a target=\"_blank\" href=https://colab.research.google.com/notebooks/data_table.ipynb>data table notebook</a>'\n",
              "            + ' to learn more about interactive tables.';\n",
              "          element.innerHTML = '';\n",
              "          dataTable['output_type'] = 'display_data';\n",
              "          await google.colab.output.renderOutput(dataTable, element);\n",
              "          const docLink = document.createElement('div');\n",
              "          docLink.innerHTML = docLinkHtml;\n",
              "          element.appendChild(docLink);\n",
              "        }\n",
              "      </script>\n",
              "    </div>\n",
              "  </div>\n",
              "  "
            ],
            "text/plain": [
              "                                            Description  ... Length\n",
              "8495  \\r\\n\\r\\nreceived from: avglmrts.vhqmtiua@gmail...  ...     79\n",
              "8496                           telephony_software issue  ...     24\n",
              "8497  vip2: windows password reset for tifpdchb pedx...  ...     48\n",
              "8498  i am unable to access the machine utilities to...  ...     99\n",
              "8499  an mehreren pc`s lassen sich verschiedene prgr...  ...     76\n",
              "\n",
              "[5 rows x 4 columns]"
            ]
          },
          "metadata": {},
          "execution_count": 17
        }
      ],
      "source": [
        "df.tail()"
      ]
    },
    {
      "cell_type": "markdown",
      "id": "c62584f9",
      "metadata": {
        "id": "c62584f9"
      },
      "source": [
        "### Remove rows that contain description in German"
      ]
    },
    {
      "cell_type": "code",
      "execution_count": null,
      "id": "51559bc1",
      "metadata": {
        "id": "51559bc1",
        "outputId": "4cf898ab-7c3f-404e-936c-3a79aedc43fe",
        "colab": {
          "base_uri": "https://localhost:8080/",
          "height": 548
        }
      },
      "outputs": [
        {
          "output_type": "stream",
          "name": "stdout",
          "text": [
            "Int64Index([ 223,  238,  251,  255,  265,  270,  272,  302,  304,  305,\n",
            "            ...\n",
            "            8414, 8417, 8419, 8420, 8425, 8427, 8436, 8439, 8467, 8499],\n",
            "           dtype='int64', length=586)\n"
          ]
        },
        {
          "output_type": "stream",
          "name": "stderr",
          "text": [
            "/usr/local/lib/python3.7/dist-packages/pandas/core/indexes/base.py:4114: FutureWarning: Using a non-tuple sequence for multidimensional indexing is deprecated; use `arr[tuple(seq)]` instead of `arr[seq]`. In the future this will be interpreted as an array index, `arr[np.array(seq)]`, which will result either in an error or a different result.\n",
            "  result = getitem(key)\n"
          ]
        },
        {
          "output_type": "execute_result",
          "data": {
            "text/html": [
              "\n",
              "  <div id=\"df-3e4196c8-73d3-4c37-bda8-30fbba8e8c9e\">\n",
              "    <div class=\"colab-df-container\">\n",
              "      <div>\n",
              "<style scoped>\n",
              "    .dataframe tbody tr th:only-of-type {\n",
              "        vertical-align: middle;\n",
              "    }\n",
              "\n",
              "    .dataframe tbody tr th {\n",
              "        vertical-align: top;\n",
              "    }\n",
              "\n",
              "    .dataframe thead th {\n",
              "        text-align: right;\n",
              "    }\n",
              "</style>\n",
              "<table border=\"1\" class=\"dataframe\">\n",
              "  <thead>\n",
              "    <tr style=\"text-align: right;\">\n",
              "      <th></th>\n",
              "      <th>Description</th>\n",
              "      <th>Assignment group</th>\n",
              "      <th>Cleaned Description</th>\n",
              "      <th>Length</th>\n",
              "    </tr>\n",
              "  </thead>\n",
              "  <tbody>\n",
              "    <tr>\n",
              "      <th>0</th>\n",
              "      <td>-verified user details.(employee# &amp; manager na...</td>\n",
              "      <td>GRP_0</td>\n",
              "      <td>verified user details employee manager name ch...</td>\n",
              "      <td>192</td>\n",
              "    </tr>\n",
              "    <tr>\n",
              "      <th>1</th>\n",
              "      <td>\\r\\n\\r\\nreceived from: hmjdrvpb.komuaywn@gmail...</td>\n",
              "      <td>GRP_0</td>\n",
              "      <td>hello team meetings skype meetings etc appeari...</td>\n",
              "      <td>134</td>\n",
              "    </tr>\n",
              "    <tr>\n",
              "      <th>2</th>\n",
              "      <td>\\r\\n\\r\\nreceived from: eylqgodm.ybqkwiam@gmail...</td>\n",
              "      <td>GRP_0</td>\n",
              "      <td>hi cannot log vpn best</td>\n",
              "      <td>28</td>\n",
              "    </tr>\n",
              "    <tr>\n",
              "      <th>3</th>\n",
              "      <td>unable to access hr_tool page</td>\n",
              "      <td>GRP_0</td>\n",
              "      <td>unable access hr tool page</td>\n",
              "      <td>29</td>\n",
              "    </tr>\n",
              "    <tr>\n",
              "      <th>4</th>\n",
              "      <td>skype error</td>\n",
              "      <td>GRP_0</td>\n",
              "      <td>skype error</td>\n",
              "      <td>11</td>\n",
              "    </tr>\n",
              "    <tr>\n",
              "      <th>...</th>\n",
              "      <td>...</td>\n",
              "      <td>...</td>\n",
              "      <td>...</td>\n",
              "      <td>...</td>\n",
              "    </tr>\n",
              "    <tr>\n",
              "      <th>8494</th>\n",
              "      <td>tablet needs reimaged due to multiple issues w...</td>\n",
              "      <td>GRP_3</td>\n",
              "      <td>tablet needs reimaged due multiple issues crm ...</td>\n",
              "      <td>62</td>\n",
              "    </tr>\n",
              "    <tr>\n",
              "      <th>8495</th>\n",
              "      <td>\\r\\n\\r\\nreceived from: avglmrts.vhqmtiua@gmail...</td>\n",
              "      <td>GRP_29</td>\n",
              "      <td>good afternoon receiving emails sent zz mail p...</td>\n",
              "      <td>79</td>\n",
              "    </tr>\n",
              "    <tr>\n",
              "      <th>8496</th>\n",
              "      <td>telephony_software issue</td>\n",
              "      <td>GRP_0</td>\n",
              "      <td>telephony software issue</td>\n",
              "      <td>24</td>\n",
              "    </tr>\n",
              "    <tr>\n",
              "      <th>8497</th>\n",
              "      <td>vip2: windows password reset for tifpdchb pedx...</td>\n",
              "      <td>GRP_0</td>\n",
              "      <td>vip windows password reset tifpdchb pedxruyf</td>\n",
              "      <td>48</td>\n",
              "    </tr>\n",
              "    <tr>\n",
              "      <th>8498</th>\n",
              "      <td>i am unable to access the machine utilities to...</td>\n",
              "      <td>GRP_62</td>\n",
              "      <td>unable access machine utilities finish drawers...</td>\n",
              "      <td>99</td>\n",
              "    </tr>\n",
              "  </tbody>\n",
              "</table>\n",
              "<p>7914 rows × 4 columns</p>\n",
              "</div>\n",
              "      <button class=\"colab-df-convert\" onclick=\"convertToInteractive('df-3e4196c8-73d3-4c37-bda8-30fbba8e8c9e')\"\n",
              "              title=\"Convert this dataframe to an interactive table.\"\n",
              "              style=\"display:none;\">\n",
              "        \n",
              "  <svg xmlns=\"http://www.w3.org/2000/svg\" height=\"24px\"viewBox=\"0 0 24 24\"\n",
              "       width=\"24px\">\n",
              "    <path d=\"M0 0h24v24H0V0z\" fill=\"none\"/>\n",
              "    <path d=\"M18.56 5.44l.94 2.06.94-2.06 2.06-.94-2.06-.94-.94-2.06-.94 2.06-2.06.94zm-11 1L8.5 8.5l.94-2.06 2.06-.94-2.06-.94L8.5 2.5l-.94 2.06-2.06.94zm10 10l.94 2.06.94-2.06 2.06-.94-2.06-.94-.94-2.06-.94 2.06-2.06.94z\"/><path d=\"M17.41 7.96l-1.37-1.37c-.4-.4-.92-.59-1.43-.59-.52 0-1.04.2-1.43.59L10.3 9.45l-7.72 7.72c-.78.78-.78 2.05 0 2.83L4 21.41c.39.39.9.59 1.41.59.51 0 1.02-.2 1.41-.59l7.78-7.78 2.81-2.81c.8-.78.8-2.07 0-2.86zM5.41 20L4 18.59l7.72-7.72 1.47 1.35L5.41 20z\"/>\n",
              "  </svg>\n",
              "      </button>\n",
              "      \n",
              "  <style>\n",
              "    .colab-df-container {\n",
              "      display:flex;\n",
              "      flex-wrap:wrap;\n",
              "      gap: 12px;\n",
              "    }\n",
              "\n",
              "    .colab-df-convert {\n",
              "      background-color: #E8F0FE;\n",
              "      border: none;\n",
              "      border-radius: 50%;\n",
              "      cursor: pointer;\n",
              "      display: none;\n",
              "      fill: #1967D2;\n",
              "      height: 32px;\n",
              "      padding: 0 0 0 0;\n",
              "      width: 32px;\n",
              "    }\n",
              "\n",
              "    .colab-df-convert:hover {\n",
              "      background-color: #E2EBFA;\n",
              "      box-shadow: 0px 1px 2px rgba(60, 64, 67, 0.3), 0px 1px 3px 1px rgba(60, 64, 67, 0.15);\n",
              "      fill: #174EA6;\n",
              "    }\n",
              "\n",
              "    [theme=dark] .colab-df-convert {\n",
              "      background-color: #3B4455;\n",
              "      fill: #D2E3FC;\n",
              "    }\n",
              "\n",
              "    [theme=dark] .colab-df-convert:hover {\n",
              "      background-color: #434B5C;\n",
              "      box-shadow: 0px 1px 3px 1px rgba(0, 0, 0, 0.15);\n",
              "      filter: drop-shadow(0px 1px 2px rgba(0, 0, 0, 0.3));\n",
              "      fill: #FFFFFF;\n",
              "    }\n",
              "  </style>\n",
              "\n",
              "      <script>\n",
              "        const buttonEl =\n",
              "          document.querySelector('#df-3e4196c8-73d3-4c37-bda8-30fbba8e8c9e button.colab-df-convert');\n",
              "        buttonEl.style.display =\n",
              "          google.colab.kernel.accessAllowed ? 'block' : 'none';\n",
              "\n",
              "        async function convertToInteractive(key) {\n",
              "          const element = document.querySelector('#df-3e4196c8-73d3-4c37-bda8-30fbba8e8c9e');\n",
              "          const dataTable =\n",
              "            await google.colab.kernel.invokeFunction('convertToInteractive',\n",
              "                                                     [key], {});\n",
              "          if (!dataTable) return;\n",
              "\n",
              "          const docLinkHtml = 'Like what you see? Visit the ' +\n",
              "            '<a target=\"_blank\" href=https://colab.research.google.com/notebooks/data_table.ipynb>data table notebook</a>'\n",
              "            + ' to learn more about interactive tables.';\n",
              "          element.innerHTML = '';\n",
              "          dataTable['output_type'] = 'display_data';\n",
              "          await google.colab.output.renderOutput(dataTable, element);\n",
              "          const docLink = document.createElement('div');\n",
              "          docLink.innerHTML = docLinkHtml;\n",
              "          element.appendChild(docLink);\n",
              "        }\n",
              "      </script>\n",
              "    </div>\n",
              "  </div>\n",
              "  "
            ],
            "text/plain": [
              "                                            Description  ... Length\n",
              "0     -verified user details.(employee# & manager na...  ...    192\n",
              "1     \\r\\n\\r\\nreceived from: hmjdrvpb.komuaywn@gmail...  ...    134\n",
              "2     \\r\\n\\r\\nreceived from: eylqgodm.ybqkwiam@gmail...  ...     28\n",
              "3                         unable to access hr_tool page  ...     29\n",
              "4                                          skype error   ...     11\n",
              "...                                                 ...  ...    ...\n",
              "8494  tablet needs reimaged due to multiple issues w...  ...     62\n",
              "8495  \\r\\n\\r\\nreceived from: avglmrts.vhqmtiua@gmail...  ...     79\n",
              "8496                           telephony_software issue  ...     24\n",
              "8497  vip2: windows password reset for tifpdchb pedx...  ...     48\n",
              "8498  i am unable to access the machine utilities to...  ...     99\n",
              "\n",
              "[7914 rows x 4 columns]"
            ]
          },
          "metadata": {},
          "execution_count": 18
        }
      ],
      "source": [
        "germanwordlist = ['bitte','nicht','konto','probleme','berechtigung','defekt','mehr','ausgetauscht','rechner', 'drucker','teilweise','freigegeben','genannten','anmeldeaccount',\n",
        "                  'besprochen','werden','durchwahl','oben','einrichten','zeitwirtschaft','seit','morgens','beheben','keine','zeitbuchungen','vorhanden','dringend','fehler',\n",
        "                  'werk','anmelde','auftrag','kein','skannen','freundlichen','werkzeuge,','hartstoffe','maste','schutzw','fertigung','immer','sehr','zugriff','freundliche',\n",
        "                  'geehrter','souzarft','noch','verbindungsherstellung','meldung','erneuten','glich','proben','beilageproben','beilage','auswerten','sinterleitstand','reparar',\n",
        "                  'reparo','rechner','koenigsee','entregar','atualiza','declara','programdntya','funcionando','preciso','hitacni','grergtger','zugriffsrechte','teamleiter',\n",
        "                  'abholen','wegen','weit','absender','wenn','abrechnung']\n",
        "pattern = '|'.join(germanwordlist)\n",
        "\n",
        "germanDescIndex = df[df['Cleaned Description'].str.contains(pattern)].index\n",
        "print(germanDescIndex)\n",
        "df.drop(df.index[[germanDescIndex]])"
      ]
    },
    {
      "cell_type": "markdown",
      "id": "c833e66e",
      "metadata": {
        "id": "c833e66e"
      },
      "source": [
        "### 3. Lemmatization"
      ]
    },
    {
      "cell_type": "code",
      "execution_count": null,
      "id": "a6e2e0f3",
      "metadata": {
        "id": "a6e2e0f3"
      },
      "outputs": [],
      "source": [
        "nlp = spacy.load('en_core_web_sm', disable=['parser', 'ner'])\n",
        "allowed_postags = ['NOUN', 'ADJ', 'VERB', 'ADV']\n",
        "def lemmatize_text(text):\n",
        "    doc = nlp(text)\n",
        "    return ' '.join([token.lemma_ for token in doc])"
      ]
    },
    {
      "cell_type": "code",
      "execution_count": null,
      "id": "f25e141f",
      "metadata": {
        "id": "f25e141f",
        "outputId": "64fcb901-3c27-4c9b-b22f-fff9a4d87530",
        "colab": {
          "base_uri": "https://localhost:8080/",
          "height": 206
        }
      },
      "outputs": [
        {
          "output_type": "execute_result",
          "data": {
            "text/html": [
              "\n",
              "  <div id=\"df-76d4fd1f-0096-47ad-8b88-a5764aac2b9b\">\n",
              "    <div class=\"colab-df-container\">\n",
              "      <div>\n",
              "<style scoped>\n",
              "    .dataframe tbody tr th:only-of-type {\n",
              "        vertical-align: middle;\n",
              "    }\n",
              "\n",
              "    .dataframe tbody tr th {\n",
              "        vertical-align: top;\n",
              "    }\n",
              "\n",
              "    .dataframe thead th {\n",
              "        text-align: right;\n",
              "    }\n",
              "</style>\n",
              "<table border=\"1\" class=\"dataframe\">\n",
              "  <thead>\n",
              "    <tr style=\"text-align: right;\">\n",
              "      <th></th>\n",
              "      <th>Description</th>\n",
              "      <th>Assignment group</th>\n",
              "      <th>Cleaned Description</th>\n",
              "      <th>Length</th>\n",
              "    </tr>\n",
              "  </thead>\n",
              "  <tbody>\n",
              "    <tr>\n",
              "      <th>0</th>\n",
              "      <td>-verified user details.(employee# &amp; manager na...</td>\n",
              "      <td>GRP_0</td>\n",
              "      <td>verify user detail employee manager name check...</td>\n",
              "      <td>192</td>\n",
              "    </tr>\n",
              "    <tr>\n",
              "      <th>1</th>\n",
              "      <td>\\r\\n\\r\\nreceived from: hmjdrvpb.komuaywn@gmail...</td>\n",
              "      <td>GRP_0</td>\n",
              "      <td>hello team meeting skype meeting etc appear ou...</td>\n",
              "      <td>134</td>\n",
              "    </tr>\n",
              "    <tr>\n",
              "      <th>2</th>\n",
              "      <td>\\r\\n\\r\\nreceived from: eylqgodm.ybqkwiam@gmail...</td>\n",
              "      <td>GRP_0</td>\n",
              "      <td>hi can not log vpn best</td>\n",
              "      <td>28</td>\n",
              "    </tr>\n",
              "    <tr>\n",
              "      <th>3</th>\n",
              "      <td>unable to access hr_tool page</td>\n",
              "      <td>GRP_0</td>\n",
              "      <td>unable access hr tool page</td>\n",
              "      <td>29</td>\n",
              "    </tr>\n",
              "    <tr>\n",
              "      <th>4</th>\n",
              "      <td>skype error</td>\n",
              "      <td>GRP_0</td>\n",
              "      <td>skype error</td>\n",
              "      <td>11</td>\n",
              "    </tr>\n",
              "  </tbody>\n",
              "</table>\n",
              "</div>\n",
              "      <button class=\"colab-df-convert\" onclick=\"convertToInteractive('df-76d4fd1f-0096-47ad-8b88-a5764aac2b9b')\"\n",
              "              title=\"Convert this dataframe to an interactive table.\"\n",
              "              style=\"display:none;\">\n",
              "        \n",
              "  <svg xmlns=\"http://www.w3.org/2000/svg\" height=\"24px\"viewBox=\"0 0 24 24\"\n",
              "       width=\"24px\">\n",
              "    <path d=\"M0 0h24v24H0V0z\" fill=\"none\"/>\n",
              "    <path d=\"M18.56 5.44l.94 2.06.94-2.06 2.06-.94-2.06-.94-.94-2.06-.94 2.06-2.06.94zm-11 1L8.5 8.5l.94-2.06 2.06-.94-2.06-.94L8.5 2.5l-.94 2.06-2.06.94zm10 10l.94 2.06.94-2.06 2.06-.94-2.06-.94-.94-2.06-.94 2.06-2.06.94z\"/><path d=\"M17.41 7.96l-1.37-1.37c-.4-.4-.92-.59-1.43-.59-.52 0-1.04.2-1.43.59L10.3 9.45l-7.72 7.72c-.78.78-.78 2.05 0 2.83L4 21.41c.39.39.9.59 1.41.59.51 0 1.02-.2 1.41-.59l7.78-7.78 2.81-2.81c.8-.78.8-2.07 0-2.86zM5.41 20L4 18.59l7.72-7.72 1.47 1.35L5.41 20z\"/>\n",
              "  </svg>\n",
              "      </button>\n",
              "      \n",
              "  <style>\n",
              "    .colab-df-container {\n",
              "      display:flex;\n",
              "      flex-wrap:wrap;\n",
              "      gap: 12px;\n",
              "    }\n",
              "\n",
              "    .colab-df-convert {\n",
              "      background-color: #E8F0FE;\n",
              "      border: none;\n",
              "      border-radius: 50%;\n",
              "      cursor: pointer;\n",
              "      display: none;\n",
              "      fill: #1967D2;\n",
              "      height: 32px;\n",
              "      padding: 0 0 0 0;\n",
              "      width: 32px;\n",
              "    }\n",
              "\n",
              "    .colab-df-convert:hover {\n",
              "      background-color: #E2EBFA;\n",
              "      box-shadow: 0px 1px 2px rgba(60, 64, 67, 0.3), 0px 1px 3px 1px rgba(60, 64, 67, 0.15);\n",
              "      fill: #174EA6;\n",
              "    }\n",
              "\n",
              "    [theme=dark] .colab-df-convert {\n",
              "      background-color: #3B4455;\n",
              "      fill: #D2E3FC;\n",
              "    }\n",
              "\n",
              "    [theme=dark] .colab-df-convert:hover {\n",
              "      background-color: #434B5C;\n",
              "      box-shadow: 0px 1px 3px 1px rgba(0, 0, 0, 0.15);\n",
              "      filter: drop-shadow(0px 1px 2px rgba(0, 0, 0, 0.3));\n",
              "      fill: #FFFFFF;\n",
              "    }\n",
              "  </style>\n",
              "\n",
              "      <script>\n",
              "        const buttonEl =\n",
              "          document.querySelector('#df-76d4fd1f-0096-47ad-8b88-a5764aac2b9b button.colab-df-convert');\n",
              "        buttonEl.style.display =\n",
              "          google.colab.kernel.accessAllowed ? 'block' : 'none';\n",
              "\n",
              "        async function convertToInteractive(key) {\n",
              "          const element = document.querySelector('#df-76d4fd1f-0096-47ad-8b88-a5764aac2b9b');\n",
              "          const dataTable =\n",
              "            await google.colab.kernel.invokeFunction('convertToInteractive',\n",
              "                                                     [key], {});\n",
              "          if (!dataTable) return;\n",
              "\n",
              "          const docLinkHtml = 'Like what you see? Visit the ' +\n",
              "            '<a target=\"_blank\" href=https://colab.research.google.com/notebooks/data_table.ipynb>data table notebook</a>'\n",
              "            + ' to learn more about interactive tables.';\n",
              "          element.innerHTML = '';\n",
              "          dataTable['output_type'] = 'display_data';\n",
              "          await google.colab.output.renderOutput(dataTable, element);\n",
              "          const docLink = document.createElement('div');\n",
              "          docLink.innerHTML = docLinkHtml;\n",
              "          element.appendChild(docLink);\n",
              "        }\n",
              "      </script>\n",
              "    </div>\n",
              "  </div>\n",
              "  "
            ],
            "text/plain": [
              "                                         Description  ... Length\n",
              "0  -verified user details.(employee# & manager na...  ...    192\n",
              "1  \\r\\n\\r\\nreceived from: hmjdrvpb.komuaywn@gmail...  ...    134\n",
              "2  \\r\\n\\r\\nreceived from: eylqgodm.ybqkwiam@gmail...  ...     28\n",
              "3                      unable to access hr_tool page  ...     29\n",
              "4                                       skype error   ...     11\n",
              "\n",
              "[5 rows x 4 columns]"
            ]
          },
          "metadata": {},
          "execution_count": 20
        }
      ],
      "source": [
        "df['Cleaned Description'] = df['Cleaned Description'].apply(lemmatize_text)\n",
        "df.head()"
      ]
    },
    {
      "cell_type": "markdown",
      "id": "9bba8563",
      "metadata": {
        "id": "9bba8563"
      },
      "source": [
        "### Resampling imbalanced dataset\n",
        "\n",
        "* From the visualization, we see that GRP_0 has high no of data (around 4k)\n"
      ]
    },
    {
      "cell_type": "code",
      "execution_count": null,
      "id": "4e9ae1d4",
      "metadata": {
        "id": "4e9ae1d4",
        "outputId": "ecfdab91-ded7-4de4-a0b7-179cfab033a7",
        "colab": {
          "base_uri": "https://localhost:8080/",
          "height": 350
        }
      },
      "outputs": [
        {
          "output_type": "display_data",
          "data": {
            "image/png": "[encoded data removed]",
            "text/plain": [
              "<Figure size 1584x360 with 1 Axes>"
            ]
          },
          "metadata": {
            "needs_background": "light"
          }
        },
        {
          "output_type": "stream",
          "name": "stdout",
          "text": [
            "The maximum among other groups other than group 0 is: 661\n"
          ]
        }
      ],
      "source": [
        "# Create Dataset for 'others' i.e all groups which is not part of GRP_0\n",
        "itTicketOthersDF = df[df['Assignment group'] != 'GRP_0']\n",
        "\n",
        "descending_order = df['Assignment group'].value_counts().sort_values(ascending=False).index\n",
        "plt.subplots(figsize=(22,5))\n",
        "ax = sns.countplot(x = 'Assignment group', data = itTicketOthersDF, color = 'blue',order = descending_order)\n",
        "ax.set_xticklabels(ax.get_xticklabels(), rotation = 45, ha = \"right\")\n",
        "plt.tight_layout()\n",
        "plt.show()\n",
        "\n",
        "print(\"The maximum among other groups other than group 0 is: {0}\".format(itTicketOthersDF['Assignment group'].value_counts().max()))\n"
      ]
    },
    {
      "cell_type": "code",
      "execution_count": null,
      "id": "1384f3ba",
      "metadata": {
        "id": "1384f3ba",
        "outputId": "1990eba5-4d1b-4284-ac15-de534e65941b",
        "colab": {
          "base_uri": "https://localhost:8080/",
          "height": 333
        }
      },
      "outputs": [
        {
          "output_type": "display_data",
          "data": {
            "image/png": "[encoded data removed]",
            "text/plain": [
              "<Figure size 1584x360 with 1 Axes>"
            ]
          },
          "metadata": {
            "needs_background": "light"
          }
        }
      ],
      "source": [
        "# Treat the imbalnce in the itTicketDF dataset by resampling to 661.\n",
        "df_resampled = df[0:0]\n",
        "for grp in df['Assignment group'].unique():\n",
        "    itTicketGrpDF = df[df['Assignment group'] == grp]\n",
        "    resampled = resample(itTicketGrpDF, replace = True, n_samples = int(661/2), random_state=123)\n",
        "    df_resampled = df_resampled.append(resampled)\n",
        "\n",
        "descending_order = df_resampled['Assignment group'].value_counts().sort_values(ascending=False).index\n",
        "plt.subplots(figsize = (22,5))\n",
        "ax = sns.countplot(x = 'Assignment group', data = df_resampled, color = 'red')\n",
        "ax.set_xticklabels(ax.get_xticklabels(), rotation = 45, ha = \"right\")\n",
        "plt.tight_layout()\n",
        "plt.show()"
      ]
    },
    {
      "cell_type": "markdown",
      "id": "bb02e583",
      "metadata": {
        "id": "bb02e583"
      },
      "source": [
        "### Label Encoding"
      ]
    },
    {
      "cell_type": "code",
      "execution_count": null,
      "id": "43b633a9",
      "metadata": {
        "id": "43b633a9",
        "outputId": "2f4e6538-5a65-4ad0-92d4-a8aef5ab7f8c",
        "colab": {
          "base_uri": "https://localhost:8080/"
        }
      },
      "outputs": [
        {
          "output_type": "stream",
          "name": "stdout",
          "text": [
            "Mapping for assignment group in original df: {0: 'GRP_0', 1: 'GRP_1', 2: 'GRP_10', 3: 'GRP_11', 4: 'GRP_12', 5: 'GRP_13', 6: 'GRP_14', 7: 'GRP_15', 8: 'GRP_16', 9: 'GRP_17', 10: 'GRP_18', 11: 'GRP_19', 12: 'GRP_2', 13: 'GRP_20', 14: 'GRP_21', 15: 'GRP_22', 16: 'GRP_23', 17: 'GRP_24', 18: 'GRP_25', 19: 'GRP_26', 20: 'GRP_27', 21: 'GRP_28', 22: 'GRP_29', 23: 'GRP_3', 24: 'GRP_30', 25: 'GRP_31', 26: 'GRP_33', 27: 'GRP_34', 28: 'GRP_36', 29: 'GRP_37', 30: 'GRP_39', 31: 'GRP_4', 32: 'GRP_40', 33: 'GRP_41', 34: 'GRP_42', 35: 'GRP_44', 36: 'GRP_45', 37: 'GRP_47', 38: 'GRP_48', 39: 'GRP_5', 40: 'GRP_50', 41: 'GRP_53', 42: 'GRP_6', 43: 'GRP_60', 44: 'GRP_62', 45: 'GRP_65', 46: 'GRP_7', 47: 'GRP_8', 48: 'GRP_9', 49: 'misc_grp'}\n"
          ]
        }
      ],
      "source": [
        "def labelencoder(dataframe) : \n",
        "    label_encoder = preprocessing.LabelEncoder() \n",
        "    dataframe= label_encoder.fit_transform(dataframe)\n",
        "    grp_mapping = dict(zip(label_encoder.transform(label_encoder.classes_), label_encoder.classes_))\n",
        "    return dataframe, grp_mapping\n",
        "\n",
        "df_resampled['Assignment group'] , mapping_df_resampled = labelencoder(df_resampled['Assignment group'])\n",
        "df['Assignment group'], mapping_df = labelencoder(df['Assignment group'])\n",
        "\n",
        "print(\"Mapping for assignment group in original df: {}\".format(mapping_df))"
      ]
    },
    {
      "cell_type": "markdown",
      "source": [
        "### Tf-Idf Vectorizer"
      ],
      "metadata": {
        "id": "R3hAag0raTO3"
      },
      "id": "R3hAag0raTO3"
    },
    {
      "cell_type": "code",
      "source": [
        " X_train_df, X_test_df, y_train_df, y_test_df = train_test_split(df['Cleaned Description'], df['Assignment group'], test_size=0.2, random_state=10)\n",
        " X_train_df, X_val_df, y_train_df, y_val_df = train_test_split(X_train_df, y_train_df, test_size=0.2, random_state=10)"
      ],
      "metadata": {
        "id": "O8q6uRU7bPIh"
      },
      "id": "O8q6uRU7bPIh",
      "execution_count": null,
      "outputs": []
    },
    {
      "cell_type": "code",
      "source": [
        "print('Training set: {0}, {1}\\nValidation set: {2}, {3}\\nTest set: {4}, {5}\\n'.format(X_train_df.shape, y_train_df.shape, X_val_df.shape, y_val_df.shape, X_test_df.shape, y_test_df.shape))"
      ],
      "metadata": {
        "colab": {
          "base_uri": "https://localhost:8080/"
        },
        "id": "8BpB7RoOk2_1",
        "outputId": "7dc894bb-f89c-44f1-d1bf-3212e662ec90"
      },
      "id": "8BpB7RoOk2_1",
      "execution_count": null,
      "outputs": [
        {
          "output_type": "stream",
          "name": "stdout",
          "text": [
            "Training set: (5440,), (5440,)\n",
            "Validation set: (1360,), (1360,)\n",
            "Test set: (1700,), (1700,)\n",
            "\n"
          ]
        }
      ]
    },
    {
      "cell_type": "code",
      "source": [
        "X_train_df = X_train_df.to_frame()\n",
        "X_test_df = X_test_df.to_frame()\n",
        "X_val_df = X_val_df.to_frame()"
      ],
      "metadata": {
        "id": "piZpNc5OmhGE"
      },
      "id": "piZpNc5OmhGE",
      "execution_count": null,
      "outputs": []
    },
    {
      "cell_type": "code",
      "source": [
        "text_transformer = TfidfVectorizer(ngram_range = (1,2), max_features = 15000)\n",
        "text_transformer\n",
        "X_train_tfidf = text_transformer.fit_transform(X_train_df['Cleaned Description']).astype('float16')\n",
        "X_val_tfidf = text_transformer.fit_transform(X_val_df['Cleaned Description']).astype('float16')\n",
        "X_test_tfidf = text_transformer.fit_transform(X_test_df['Cleaned Description']).astype('float16')"
      ],
      "metadata": {
        "id": "0lStjrsSOwPB"
      },
      "id": "0lStjrsSOwPB",
      "execution_count": null,
      "outputs": []
    },
    {
      "cell_type": "code",
      "source": [
        "print('Train set shape: {0}\\nValidation set shape: {1}\\nTest set shape: {2}'.format(X_train_tfidf.shape, X_val_tfidf.shape, X_test_tfidf.shape))"
      ],
      "metadata": {
        "colab": {
          "base_uri": "https://localhost:8080/"
        },
        "id": "XxsjTZsGmasE",
        "outputId": "1cfe264c-07e7-421d-bddc-4befdfcd68ac"
      },
      "id": "XxsjTZsGmasE",
      "execution_count": null,
      "outputs": [
        {
          "output_type": "stream",
          "name": "stdout",
          "text": [
            "Train set shape: (5440, 15000)\n",
            "Validation set shape: (1360, 15000)\n",
            "Test set shape: (1700, 15000)\n"
          ]
        }
      ]
    },
    {
      "cell_type": "code",
      "source": [
        "LSTM_Tfidf_model = Sequential()\n",
        "LSTM_Tfidf_model.add(Bidirectional(LSTM(128, return_sequences=True), input_shape=(1, 15000)))\n",
        "LSTM_Tfidf_model.add(Dropout(0.3))\n",
        "LSTM_Tfidf_model.add(Bidirectional(LSTM(256, return_sequences=True)))\n",
        "LSTM_Tfidf_model.add(Dropout(0.25))\n",
        "LSTM_Tfidf_model.add(Dense(100, activation='relu'))\n",
        "LSTM_Tfidf_model.add(Flatten())\n",
        "LSTM_Tfidf_model.add(Dense(50, activation='softmax'))\n",
        "  \n",
        "\n",
        "LSTM_Tfidf_model.compile(loss = 'categorical_crossentropy', optimizer = \"adam\", metrics = ['accuracy'])\n",
        "LSTM_Tfidf_model.summary()"
      ],
      "metadata": {
        "colab": {
          "base_uri": "https://localhost:8080/"
        },
        "id": "H6UdT-nsoh28",
        "outputId": "f6f31b9b-45b2-49ad-b6d4-2232c1b9d422"
      },
      "id": "H6UdT-nsoh28",
      "execution_count": null,
      "outputs": [
        {
          "output_type": "stream",
          "name": "stdout",
          "text": [
            "Model: \"sequential_21\"\n",
            "_________________________________________________________________\n",
            " Layer (type)                Output Shape              Param #   \n",
            "=================================================================\n",
            " bidirectional_41 (Bidirecti  (None, 1, 256)           15492096  \n",
            " onal)                                                           \n",
            "                                                                 \n",
            " dropout_35 (Dropout)        (None, 1, 256)            0         \n",
            "                                                                 \n",
            " bidirectional_42 (Bidirecti  (None, 1, 512)           1050624   \n",
            " onal)                                                           \n",
            "                                                                 \n",
            " dropout_36 (Dropout)        (None, 1, 512)            0         \n",
            "                                                                 \n",
            " dense_38 (Dense)            (None, 1, 100)            51300     \n",
            "                                                                 \n",
            " flatten_1 (Flatten)         (None, 100)               0         \n",
            "                                                                 \n",
            " dense_39 (Dense)            (None, 50)                5050      \n",
            "                                                                 \n",
            "=================================================================\n",
            "Total params: 16,599,070\n",
            "Trainable params: 16,599,070\n",
            "Non-trainable params: 0\n",
            "_________________________________________________________________\n"
          ]
        }
      ]
    },
    {
      "cell_type": "code",
      "source": [
        "X_train_tfidf_np = X_train_tfidf.astype(np.float32).A\n",
        "X_test_tfidf_np = X_test_tfidf.astype(np.float32).A\n",
        "X_val_tfidf_np = X_val_tfidf.astype(np.float32).A\n",
        "\n",
        "X_train_tfidf_np = X_train_tfidf_np.reshape(X_train_tfidf_np.shape[0], 1, X_train_tfidf_np.shape[-1])\n",
        "X_test_tfidf_np = X_test_tfidf_np.reshape(X_test_tfidf_np.shape[0], 1, X_test_tfidf_np.shape[-1])\n",
        "X_val_tfidf_np = X_val_tfidf_np.reshape(X_val_tfidf_np.shape[0], 1, X_val_tfidf_np.shape[-1])\n",
        "print('Train set shape: {0}\\nValidation set shape: {1}\\nTest set shape: {2}'.format(X_train_tfidf_np.shape, X_val_tfidf_np.shape, X_test_tfidf_np.shape))"
      ],
      "metadata": {
        "id": "qpudrtlwvrUi"
      },
      "id": "qpudrtlwvrUi",
      "execution_count": null,
      "outputs": []
    },
    {
      "cell_type": "code",
      "source": [
        "y_train_df = y_train_df.to_frame()\n",
        "y_val_df = y_val_df.to_frame()\n",
        "y_test_df = y_test_df.to_frame()\n",
        "\n",
        "y_train_onehot = to_categorical(y_train_df, num_classes = 50)\n",
        "y_val_onehot = to_categorical(y_val_df, num_classes = 50)\n",
        "y_test_onehot = to_categorical(y_test_df, num_classes = 50)"
      ],
      "metadata": {
        "id": "pdHr9t6qxrkH"
      },
      "id": "pdHr9t6qxrkH",
      "execution_count": null,
      "outputs": []
    },
    {
      "cell_type": "code",
      "source": [
        "checkpoint = ModelCheckpoint('/content/drive/MyDrive/NLP/' + 'Tfidf-{epoch:03d}-{val_accuracy:03f}.h5', verbose = 1, monitor = 'val_accuracy', save_best_only = True, mode = 'auto') \n",
        "reduceLoss = ReduceLROnPlateau(monitor = 'val_loss', factor = 0.2, patience = 2, min_lr = 0.0001)\n",
        "earlyStopping = EarlyStopping(monitor = 'val_loss', patience = 5, verbose = 1)\n",
        "LSTM_Tfidf_model_history = LSTM_Tfidf_model.fit(X_train_tfidf_np, y_train_onehot, batch_size = 128, epochs = epochs, callbacks = [checkpoint, reduceLoss], validation_data = (X_val_tfidf_np, y_val_onehot))"
      ],
      "metadata": {
        "colab": {
          "base_uri": "https://localhost:8080/"
        },
        "id": "4BqGLBhirRWC",
        "outputId": "78887937-9f81-4f98-d25d-d1ddb82a3af0"
      },
      "id": "4BqGLBhirRWC",
      "execution_count": null,
      "outputs": [
        {
          "output_type": "stream",
          "name": "stdout",
          "text": [
            "Epoch 1/10\n",
            "42/43 [============================>.] - ETA: 0s - loss: 1.4501 - accuracy: 0.5763\n",
            "Epoch 00001: val_accuracy improved from -inf to 0.38235, saving model to /content/drive/MyDrive/NLP/Tfidf-001-0.382353.h5\n",
            "43/43 [==============================] - 4s 84ms/step - loss: 1.4445 - accuracy: 0.5774 - val_loss: 3.1703 - val_accuracy: 0.3824 - lr: 1.0000e-04\n",
            "Epoch 2/10\n",
            "43/43 [==============================] - ETA: 0s - loss: 1.4193 - accuracy: 0.5816\n",
            "Epoch 00002: val_accuracy did not improve from 0.38235\n",
            "43/43 [==============================] - 2s 46ms/step - loss: 1.4193 - accuracy: 0.5816 - val_loss: 3.2056 - val_accuracy: 0.3787 - lr: 1.0000e-04\n",
            "Epoch 3/10\n",
            "43/43 [==============================] - ETA: 0s - loss: 1.3973 - accuracy: 0.5892\n",
            "Epoch 00003: val_accuracy did not improve from 0.38235\n",
            "43/43 [==============================] - 2s 42ms/step - loss: 1.3973 - accuracy: 0.5892 - val_loss: 3.2420 - val_accuracy: 0.3779 - lr: 1.0000e-04\n",
            "Epoch 4/10\n",
            "43/43 [==============================] - ETA: 0s - loss: 1.3718 - accuracy: 0.5972\n",
            "Epoch 00004: val_accuracy did not improve from 0.38235\n",
            "43/43 [==============================] - 2s 41ms/step - loss: 1.3718 - accuracy: 0.5972 - val_loss: 3.2842 - val_accuracy: 0.3728 - lr: 1.0000e-04\n",
            "Epoch 5/10\n",
            "43/43 [==============================] - ETA: 0s - loss: 1.3478 - accuracy: 0.6057\n",
            "Epoch 00005: val_accuracy did not improve from 0.38235\n",
            "43/43 [==============================] - 2s 41ms/step - loss: 1.3478 - accuracy: 0.6057 - val_loss: 3.3305 - val_accuracy: 0.3669 - lr: 1.0000e-04\n",
            "Epoch 6/10\n",
            "43/43 [==============================] - ETA: 0s - loss: 1.3226 - accuracy: 0.6099\n",
            "Epoch 00006: val_accuracy did not improve from 0.38235\n",
            "43/43 [==============================] - 2s 44ms/step - loss: 1.3226 - accuracy: 0.6099 - val_loss: 3.3818 - val_accuracy: 0.3588 - lr: 1.0000e-04\n",
            "Epoch 7/10\n",
            "42/43 [============================>.] - ETA: 0s - loss: 1.2984 - accuracy: 0.6142\n",
            "Epoch 00007: val_accuracy did not improve from 0.38235\n",
            "43/43 [==============================] - 2s 49ms/step - loss: 1.2985 - accuracy: 0.6138 - val_loss: 3.4342 - val_accuracy: 0.3485 - lr: 1.0000e-04\n",
            "Epoch 8/10\n",
            "42/43 [============================>.] - ETA: 0s - loss: 1.2759 - accuracy: 0.6220\n",
            "Epoch 00008: val_accuracy did not improve from 0.38235\n",
            "43/43 [==============================] - 2s 43ms/step - loss: 1.2763 - accuracy: 0.6224 - val_loss: 3.4892 - val_accuracy: 0.3456 - lr: 1.0000e-04\n",
            "Epoch 9/10\n",
            "43/43 [==============================] - ETA: 0s - loss: 1.2537 - accuracy: 0.6254\n",
            "Epoch 00009: val_accuracy did not improve from 0.38235\n",
            "43/43 [==============================] - 2s 41ms/step - loss: 1.2537 - accuracy: 0.6254 - val_loss: 3.5519 - val_accuracy: 0.3404 - lr: 1.0000e-04\n",
            "Epoch 10/10\n",
            "43/43 [==============================] - ETA: 0s - loss: 1.2311 - accuracy: 0.6303\n",
            "Epoch 00010: val_accuracy did not improve from 0.38235\n",
            "43/43 [==============================] - 2s 42ms/step - loss: 1.2311 - accuracy: 0.6303 - val_loss: 3.6114 - val_accuracy: 0.3397 - lr: 1.0000e-04\n"
          ]
        }
      ]
    },
    {
      "cell_type": "code",
      "source": [
        "loss, accuracy = LSTM_Tfidf_model.evaluate(X_test_tfidf_np, y_test_onehot, verbose = 1)\n",
        "print(\"Test Loss: {0},\\nTest Accuracy: {1}\".format(loss, accuracy))"
      ],
      "metadata": {
        "colab": {
          "base_uri": "https://localhost:8080/"
        },
        "id": "XdeHWF9Rr8D4",
        "outputId": "a3c762cc-e6f3-4247-fef6-70d1570693de"
      },
      "id": "XdeHWF9Rr8D4",
      "execution_count": null,
      "outputs": [
        {
          "output_type": "stream",
          "name": "stdout",
          "text": [
            "54/54 [==============================] - 1s 17ms/step - loss: 3.7164 - accuracy: 0.3476\n",
            "Test Loss: 3.716400623321533,\n",
            "Test Accuracy: 0.3476470708847046\n"
          ]
        }
      ]
    },
    {
      "cell_type": "code",
      "source": [
        "plot_graph(LSTM_Tfidf_model_history)"
      ],
      "metadata": {
        "colab": {
          "base_uri": "https://localhost:8080/",
          "height": 763
        },
        "id": "6yHOwnx94S_-",
        "outputId": "346ee25d-77dd-4ce8-b23d-39fa8430cb95"
      },
      "id": "6yHOwnx94S_-",
      "execution_count": null,
      "outputs": [
        {
          "output_type": "display_data",
          "data": {
            "image/png": "[encoded data removed]",
            "text/plain": [
              "<Figure size 1440x432 with 1 Axes>"
            ]
          },
          "metadata": {
            "needs_background": "light"
          }
        },
        {
          "output_type": "display_data",
          "data": {
            "image/png": "[encoded data removed]",
            "text/plain": [
              "<Figure size 1440x432 with 1 Axes>"
            ]
          },
          "metadata": {
            "needs_background": "light"
          }
        }
      ]
    },
    {
      "cell_type": "markdown",
      "id": "5e57a45e",
      "metadata": {
        "id": "5e57a45e"
      },
      "source": [
        "### Word2Vec Embeddings"
      ]
    },
    {
      "cell_type": "code",
      "execution_count": null,
      "id": "787511ef",
      "metadata": {
        "id": "787511ef"
      },
      "outputs": [],
      "source": [
        "sentences = [line.split(' ') for line in df['Cleaned Description']]\n",
        "word2vec = Word2Vec(sentences = sentences, min_count = 1)\n",
        "word2vec.wv.save_word2vec_format('/content/drive/MyDrive/NLP/word2vec_vector.txt')"
      ]
    },
    {
      "cell_type": "code",
      "execution_count": null,
      "id": "01032d5d",
      "metadata": {
        "id": "01032d5d",
        "outputId": "93995c06-85c6-4657-f2f0-43bbf0ac4375",
        "colab": {
          "base_uri": "https://localhost:8080/"
        }
      },
      "outputs": [
        {
          "output_type": "stream",
          "name": "stdout",
          "text": [
            "Loaded 10666 word vectors.\n"
          ]
        }
      ],
      "source": [
        "# load the whole embedding into memory\n",
        "embeddings_index = dict()\n",
        "f = open('/content/drive/MyDrive/NLP/word2vec_vector.txt')\n",
        "\n",
        "for line in f:\n",
        "    values = line.split()\n",
        "    word = values[0]\n",
        "    coefs = np.asarray(values[1:], dtype='float32')\n",
        "    embeddings_index[word] = coefs\n",
        "f.close()\n",
        "print('Loaded %s word vectors.' % len(embeddings_index))"
      ]
    },
    {
      "cell_type": "markdown",
      "id": "42c70a26",
      "metadata": {
        "id": "42c70a26"
      },
      "source": [
        "### LSTM Model with Word2Vec Embeddings"
      ]
    },
    {
      "cell_type": "code",
      "execution_count": null,
      "id": "5330b02e",
      "metadata": {
        "id": "5330b02e"
      },
      "outputs": [],
      "source": [
        "maxlen = 300\n",
        "numWords = 9000\n",
        "epochs = 10"
      ]
    },
    {
      "cell_type": "code",
      "execution_count": null,
      "id": "4874f59c",
      "metadata": {
        "id": "4874f59c"
      },
      "outputs": [],
      "source": [
        "def wordTokenizer(dataframe):\n",
        "    tokenizer = Tokenizer(num_words = numWords, filters = '!\"#$%&()*+,-./:;<=>?@[\\\\]^_`{|}~\\t\\n', lower = True, split = ' ', char_level = False)\n",
        "    tokenizer.fit_on_texts(dataframe)\n",
        "    dataframe = tokenizer.texts_to_sequences(dataframe)\n",
        "    return tokenizer, dataframe"
      ]
    },
    {
      "cell_type": "code",
      "execution_count": null,
      "id": "a1c1fe6f",
      "metadata": {
        "id": "a1c1fe6f"
      },
      "outputs": [],
      "source": [
        "def tokenizeAndEmbedding(dataframe):\n",
        "    tokenizer, X = wordTokenizer(dataframe['Cleaned Description'])\n",
        "    y = np.asarray(dataframe['Assignment group'])\n",
        "    X = pad_sequences(X, maxlen = maxlen)\n",
        "\n",
        "    embedding_matrix = np.zeros((numWords+1, 100))\n",
        "    for i,word in tokenizer.index_word.items():\n",
        "        if i<numWords+1:\n",
        "            embedding_vector = embeddings_index.get(word)\n",
        "            if embedding_vector is not None:\n",
        "                embedding_matrix[i] = embedding_vector\n",
        "    print(embedding_matrix.shape)\n",
        "    return X, y, embedding_matrix"
      ]
    },
    {
      "cell_type": "code",
      "execution_count": null,
      "id": "b91e7e93",
      "metadata": {
        "id": "b91e7e93"
      },
      "outputs": [],
      "source": [
        "def splitData(X, y):\n",
        "    print(\"Number of Samples:\", len(X))\n",
        "    print(\"Number of Labels: \", len(y))\n",
        "    X_train, X_test, y_train, y_test = train_test_split(X, y, test_size=0.2, random_state=10)\n",
        "    X_train, X_Val, y_train, y_Val = train_test_split(X, y, test_size=0.2, random_state=10)\n",
        "    print(\"Number of train Samples:\", len(X_train))\n",
        "    print(\"Number of val Samples:\", len(X_Val))\n",
        "    print(X_train[0].shape)\n",
        "    return X_train, X_test, y_train, y_test, X_Val, y_Val"
      ]
    },
    {
      "cell_type": "code",
      "execution_count": null,
      "id": "006c062c",
      "metadata": {
        "id": "006c062c"
      },
      "outputs": [],
      "source": [
        "def fitModel(X_train, y_train, X_Val, y_Val, batch_size, epochs, embedding_matrix, name):\n",
        "    model = Model()\n",
        "    input_layer = Input(shape = (maxlen,), dtype = tf.int64)\n",
        "    print(input_layer.shape)\n",
        "    embed = Embedding(numWords+1, output_dim = 100, input_length = maxlen, weights = [embedding_matrix], trainable = True)(input_layer)\n",
        "    lstm = Bidirectional(LSTM(128))(embed)\n",
        "    drop = Dropout(0.3)(lstm)\n",
        "    dense = Dense(100, activation = 'relu')(drop)\n",
        "    out = Dense(len((pd.Series(y_train)).unique()), activation = 'softmax')(dense)   \n",
        "\n",
        "    model = Model(input_layer, out)\n",
        "    model.compile(loss = 'sparse_categorical_crossentropy', optimizer = \"adam\", metrics = ['accuracy'])\n",
        "\n",
        "    model.summary()\n",
        "\n",
        "    checkpoint = ModelCheckpoint('/content/drive/MyDrive/NLP/' + name + '-{epoch:03d}-{val_accuracy:03f}.h5', verbose = 1, monitor = 'val_accuracy', save_best_only = True, mode = 'auto') \n",
        "    reduceLoss = ReduceLROnPlateau(monitor = 'val_loss', factor = 0.2, patience = 2, min_lr = 0.0001)\n",
        "    earlyStopping = EarlyStopping(monitor = 'val_loss', patience = 5, verbose = 1)\n",
        "    model_history = model.fit(X_train, y_train, batch_size = batch_size, epochs = epochs, callbacks = [checkpoint, reduceLoss, earlyStopping], validation_data = (X_Val, y_Val))\n",
        "    return model_history, model"
      ]
    },
    {
      "cell_type": "code",
      "execution_count": null,
      "id": "30945f9c",
      "metadata": {
        "id": "30945f9c"
      },
      "outputs": [],
      "source": [
        " def train(dataframe, batch_size, epochs, embedding_matrix, name):\n",
        "    X, y, embedding_matrix = tokenizeAndEmbedding(dataframe)\n",
        "    X_train, X_test, y_train,y_test, X_Val, y_Val = splitData(X, y)\n",
        "    model_history, model = fitModel(X_train, y_train, X_Val, y_Val, batch_size, epochs, embedding_matrix, name)\n",
        "    return model_history, model, X_test, y_test"
      ]
    },
    {
      "cell_type": "code",
      "execution_count": null,
      "id": "a7ca1a51",
      "metadata": {
        "id": "a7ca1a51"
      },
      "outputs": [],
      "source": [
        "def plot_graph(model):\n",
        "    epoch_loss = model.history['loss']\n",
        "    epoch_val_loss = model.history['val_loss']\n",
        "    epoch_acc = model.history['accuracy']\n",
        "    epoch_val_acc = model.history['val_accuracy']\n",
        "\n",
        "    plt.figure(figsize=(20,6))\n",
        "    plt.subplot(1,2,1)\n",
        "    plt.plot(range(0, len(epoch_loss)), epoch_loss, 'b-', linewidth=2, label='Train loss')\n",
        "    plt.plot(range(0, len(epoch_val_loss)), epoch_val_loss, 'r-', linewidth=2, label='Val loss')\n",
        "    plt.title('Evolution of LOSS on training and validation sets over epochs')\n",
        "    plt.legend(loc='best')\n",
        "\n",
        "    plt.figure(figsize=(20,6))\n",
        "    plt.subplot(1,2,2)\n",
        "    plt.plot(range(0, len(epoch_acc)), epoch_acc, 'b-', linewidth=2, label='Train accuracy')\n",
        "    plt.plot(range(0, len(epoch_val_acc)), epoch_val_acc, 'r-', linewidth=2, label='Val accuracy')\n",
        "    plt.title('Evolution of ACCURACY on training and validation sets over epochs')\n",
        "    plt.legend(loc='best')"
      ]
    },
    {
      "cell_type": "code",
      "execution_count": null,
      "id": "d3fe231a",
      "metadata": {
        "id": "d3fe231a"
      },
      "outputs": [],
      "source": [
        "LSTM_Word2Vec_Raw = Model()\n",
        "X_test = []\n",
        "y_test = []\n",
        "embedding_matrix = []"
      ]
    },
    {
      "cell_type": "code",
      "execution_count": null,
      "id": "62867636",
      "metadata": {
        "id": "62867636",
        "outputId": "0ce3ba8b-3e95-4e76-bb51-6221b5040e02",
        "colab": {
          "base_uri": "https://localhost:8080/"
        }
      },
      "outputs": [
        {
          "output_type": "stream",
          "name": "stdout",
          "text": [
            "(9001, 100)\n",
            "Number of Samples: 8500\n",
            "Number of Labels:  8500\n",
            "Number of train Samples: 6800\n",
            "Number of val Samples: 1700\n",
            "(300,)\n",
            "(None, 300)\n",
            "Model: \"model_2\"\n",
            "_________________________________________________________________\n",
            " Layer (type)                Output Shape              Param #   \n",
            "=================================================================\n",
            " input_1 (InputLayer)        [(None, 300)]             0         \n",
            "                                                                 \n",
            " embedding (Embedding)       (None, 300, 100)          900100    \n",
            "                                                                 \n",
            " bidirectional (Bidirectiona  (None, 256)              234496    \n",
            " l)                                                              \n",
            "                                                                 \n",
            " dropout (Dropout)           (None, 256)               0         \n",
            "                                                                 \n",
            " dense (Dense)               (None, 100)               25700     \n",
            "                                                                 \n",
            " dense_1 (Dense)             (None, 50)                5050      \n",
            "                                                                 \n",
            "=================================================================\n",
            "Total params: 1,165,346\n",
            "Trainable params: 1,165,346\n",
            "Non-trainable params: 0\n",
            "_________________________________________________________________\n",
            "Epoch 1/10\n",
            "68/68 [==============================] - ETA: 0s - loss: 2.4229 - accuracy: 0.5116\n",
            "Epoch 00001: val_accuracy improved from -inf to 0.54588, saving model to /content/drive/MyDrive/NLP/LSTM-Word2Vec-Raw-001-0.545882.h5\n",
            "68/68 [==============================] - 21s 178ms/step - loss: 2.4229 - accuracy: 0.5116 - val_loss: 2.0236 - val_accuracy: 0.5459 - lr: 0.0010\n",
            "Epoch 2/10\n",
            "68/68 [==============================] - ETA: 0s - loss: 1.9882 - accuracy: 0.5504\n",
            "Epoch 00002: val_accuracy improved from 0.54588 to 0.56706, saving model to /content/drive/MyDrive/NLP/LSTM-Word2Vec-Raw-002-0.567059.h5\n",
            "68/68 [==============================] - 10s 150ms/step - loss: 1.9882 - accuracy: 0.5504 - val_loss: 1.8735 - val_accuracy: 0.5671 - lr: 0.0010\n",
            "Epoch 3/10\n",
            "68/68 [==============================] - ETA: 0s - loss: 1.8382 - accuracy: 0.5693\n",
            "Epoch 00003: val_accuracy improved from 0.56706 to 0.58235, saving model to /content/drive/MyDrive/NLP/LSTM-Word2Vec-Raw-003-0.582353.h5\n",
            "68/68 [==============================] - 10s 151ms/step - loss: 1.8382 - accuracy: 0.5693 - val_loss: 1.7435 - val_accuracy: 0.5824 - lr: 0.0010\n",
            "Epoch 4/10\n",
            "68/68 [==============================] - ETA: 0s - loss: 1.7315 - accuracy: 0.5782\n",
            "Epoch 00004: val_accuracy improved from 0.58235 to 0.59059, saving model to /content/drive/MyDrive/NLP/LSTM-Word2Vec-Raw-004-0.590588.h5\n",
            "68/68 [==============================] - 11s 158ms/step - loss: 1.7315 - accuracy: 0.5782 - val_loss: 1.6914 - val_accuracy: 0.5906 - lr: 0.0010\n",
            "Epoch 5/10\n",
            "68/68 [==============================] - ETA: 0s - loss: 1.6007 - accuracy: 0.5906\n",
            "Epoch 00005: val_accuracy improved from 0.59059 to 0.59294, saving model to /content/drive/MyDrive/NLP/LSTM-Word2Vec-Raw-005-0.592941.h5\n",
            "68/68 [==============================] - 10s 149ms/step - loss: 1.6007 - accuracy: 0.5906 - val_loss: 1.5907 - val_accuracy: 0.5929 - lr: 0.0010\n",
            "Epoch 6/10\n",
            "68/68 [==============================] - ETA: 0s - loss: 1.4788 - accuracy: 0.6084\n",
            "Epoch 00006: val_accuracy improved from 0.59294 to 0.60529, saving model to /content/drive/MyDrive/NLP/LSTM-Word2Vec-Raw-006-0.605294.h5\n",
            "68/68 [==============================] - 11s 161ms/step - loss: 1.4788 - accuracy: 0.6084 - val_loss: 1.5653 - val_accuracy: 0.6053 - lr: 0.0010\n",
            "Epoch 7/10\n",
            "68/68 [==============================] - ETA: 0s - loss: 1.3505 - accuracy: 0.6375\n",
            "Epoch 00007: val_accuracy improved from 0.60529 to 0.61235, saving model to /content/drive/MyDrive/NLP/LSTM-Word2Vec-Raw-007-0.612353.h5\n",
            "68/68 [==============================] - 10s 151ms/step - loss: 1.3505 - accuracy: 0.6375 - val_loss: 1.5252 - val_accuracy: 0.6124 - lr: 0.0010\n",
            "Epoch 8/10\n",
            "68/68 [==============================] - ETA: 0s - loss: 1.2558 - accuracy: 0.6509\n",
            "Epoch 00008: val_accuracy did not improve from 0.61235\n",
            "68/68 [==============================] - 11s 158ms/step - loss: 1.2558 - accuracy: 0.6509 - val_loss: 1.5016 - val_accuracy: 0.6094 - lr: 0.0010\n",
            "Epoch 9/10\n",
            "68/68 [==============================] - ETA: 0s - loss: 1.1496 - accuracy: 0.6759\n",
            "Epoch 00009: val_accuracy improved from 0.61235 to 0.62059, saving model to /content/drive/MyDrive/NLP/LSTM-Word2Vec-Raw-009-0.620588.h5\n",
            "68/68 [==============================] - 11s 158ms/step - loss: 1.1496 - accuracy: 0.6759 - val_loss: 1.5642 - val_accuracy: 0.6206 - lr: 0.0010\n",
            "Epoch 10/10\n",
            "68/68 [==============================] - ETA: 0s - loss: 1.0529 - accuracy: 0.6940\n",
            "Epoch 00010: val_accuracy did not improve from 0.62059\n",
            "68/68 [==============================] - 10s 148ms/step - loss: 1.0529 - accuracy: 0.6940 - val_loss: 1.5651 - val_accuracy: 0.6188 - lr: 0.0010\n"
          ]
        }
      ],
      "source": [
        "LSTM_Word2Vec_Raw_history, LSTM_Word2Vec_Raw, X_test, y_test = train(df, 100, epochs, embedding_matrix, 'LSTM-Word2Vec-Raw')"
      ]
    },
    {
      "cell_type": "code",
      "execution_count": null,
      "id": "08583977",
      "metadata": {
        "id": "08583977",
        "outputId": "c3f4d4a1-8b34-4b28-ed13-a663dce8e7a2",
        "colab": {
          "base_uri": "https://localhost:8080/"
        }
      },
      "outputs": [
        {
          "output_type": "stream",
          "name": "stdout",
          "text": [
            "54/54 [==============================] - 4s 44ms/step - loss: 1.5651 - accuracy: 0.6188\n",
            "Test Loss: 1.565062165260315,\n",
            "Test Accuracy: 0.6188235282897949\n"
          ]
        }
      ],
      "source": [
        "loss, accuracy = LSTM_Word2Vec_Raw.evaluate(X_test, y_test, verbose = 1)\n",
        "print(\"Test Loss: {0},\\nTest Accuracy: {1}\".format(loss, accuracy))"
      ]
    },
    {
      "cell_type": "code",
      "execution_count": null,
      "id": "994ed99e",
      "metadata": {
        "id": "994ed99e",
        "outputId": "f03b1e85-4c7a-40fd-da7a-38434751dafb",
        "colab": {
          "base_uri": "https://localhost:8080/",
          "height": 763
        }
      },
      "outputs": [
        {
          "output_type": "display_data",
          "data": {
            "image/png": "[encoded data removed]",
            "text/plain": [
              "<Figure size 1440x432 with 1 Axes>"
            ]
          },
          "metadata": {
            "needs_background": "light"
          }
        },
        {
          "output_type": "display_data",
          "data": {
            "image/png": "[encoded data removed]",
            "text/plain": [
              "<Figure size 1440x432 with 1 Axes>"
            ]
          },
          "metadata": {
            "needs_background": "light"
          }
        }
      ],
      "source": [
        "plot_graph(LSTM_Word2Vec_Raw_history)"
      ]
    },
    {
      "cell_type": "markdown",
      "source": [
        "### 30 epochs"
      ],
      "metadata": {
        "id": "rbqxp9jyM01v"
      },
      "id": "rbqxp9jyM01v"
    },
    {
      "cell_type": "code",
      "source": [
        "LSTM_Word2Vec_Raw_30 = Model()\n",
        "X_test_30 = []\n",
        "y_test_30 = []\n",
        "embedding_matrix = []"
      ],
      "metadata": {
        "id": "IlNlRiFSMmoD"
      },
      "id": "IlNlRiFSMmoD",
      "execution_count": null,
      "outputs": []
    },
    {
      "cell_type": "code",
      "source": [
        "LSTM_Word2Vec_Raw_30_history, LSTM_Word2Vec_Raw_30, X_test_30, y_test_30 = train(df, 100, 30, embedding_matrix, 'LSTM-Word2Vec-Raw-30epochs')"
      ],
      "metadata": {
        "id": "fnBRuOANMTAz",
        "outputId": "e86cf79c-90a9-4f4f-fc03-36dd379f5169",
        "colab": {
          "base_uri": "https://localhost:8080/"
        }
      },
      "id": "fnBRuOANMTAz",
      "execution_count": null,
      "outputs": [
        {
          "output_type": "stream",
          "name": "stdout",
          "text": [
            "(9001, 100)\n",
            "Number of Samples: 8500\n",
            "Number of Labels:  8500\n",
            "Number of train Samples: 6800\n",
            "Number of val Samples: 1700\n",
            "(300,)\n",
            "(None, 300)\n",
            "Model: \"model_5\"\n",
            "_________________________________________________________________\n",
            " Layer (type)                Output Shape              Param #   \n",
            "=================================================================\n",
            " input_2 (InputLayer)        [(None, 300)]             0         \n",
            "                                                                 \n",
            " embedding_1 (Embedding)     (None, 300, 100)          900100    \n",
            "                                                                 \n",
            " bidirectional_1 (Bidirectio  (None, 256)              234496    \n",
            " nal)                                                            \n",
            "                                                                 \n",
            " dropout_1 (Dropout)         (None, 256)               0         \n",
            "                                                                 \n",
            " dense_2 (Dense)             (None, 100)               25700     \n",
            "                                                                 \n",
            " dense_3 (Dense)             (None, 50)                5050      \n",
            "                                                                 \n",
            "=================================================================\n",
            "Total params: 1,165,346\n",
            "Trainable params: 1,165,346\n",
            "Non-trainable params: 0\n",
            "_________________________________________________________________\n",
            "Epoch 1/30\n",
            "68/68 [==============================] - ETA: 0s - loss: 2.3885 - accuracy: 0.5137\n",
            "Epoch 00001: val_accuracy improved from -inf to 0.54294, saving model to /content/drive/MyDrive/NLP/LSTM-Word2Vec-Raw-30epochs-001-0.542941.h5\n",
            "68/68 [==============================] - 19s 184ms/step - loss: 2.3885 - accuracy: 0.5137 - val_loss: 2.0064 - val_accuracy: 0.5429 - lr: 0.0010\n",
            "Epoch 2/30\n",
            "68/68 [==============================] - ETA: 0s - loss: 1.9585 - accuracy: 0.5447\n",
            "Epoch 00002: val_accuracy improved from 0.54294 to 0.56824, saving model to /content/drive/MyDrive/NLP/LSTM-Word2Vec-Raw-30epochs-002-0.568235.h5\n",
            "68/68 [==============================] - 10s 151ms/step - loss: 1.9585 - accuracy: 0.5447 - val_loss: 1.8392 - val_accuracy: 0.5682 - lr: 0.0010\n",
            "Epoch 3/30\n",
            "68/68 [==============================] - ETA: 0s - loss: 1.7957 - accuracy: 0.5731\n",
            "Epoch 00003: val_accuracy improved from 0.56824 to 0.58647, saving model to /content/drive/MyDrive/NLP/LSTM-Word2Vec-Raw-30epochs-003-0.586471.h5\n",
            "68/68 [==============================] - 11s 157ms/step - loss: 1.7957 - accuracy: 0.5731 - val_loss: 1.7148 - val_accuracy: 0.5865 - lr: 0.0010\n",
            "Epoch 4/30\n",
            "68/68 [==============================] - ETA: 0s - loss: 1.6544 - accuracy: 0.5881\n",
            "Epoch 00004: val_accuracy improved from 0.58647 to 0.58824, saving model to /content/drive/MyDrive/NLP/LSTM-Word2Vec-Raw-30epochs-004-0.588235.h5\n",
            "68/68 [==============================] - 10s 147ms/step - loss: 1.6544 - accuracy: 0.5881 - val_loss: 1.6872 - val_accuracy: 0.5882 - lr: 0.0010\n",
            "Epoch 5/30\n",
            "68/68 [==============================] - ETA: 0s - loss: 1.5694 - accuracy: 0.6007\n",
            "Epoch 00005: val_accuracy improved from 0.58824 to 0.59706, saving model to /content/drive/MyDrive/NLP/LSTM-Word2Vec-Raw-30epochs-005-0.597059.h5\n",
            "68/68 [==============================] - 10s 150ms/step - loss: 1.5694 - accuracy: 0.6007 - val_loss: 1.5778 - val_accuracy: 0.5971 - lr: 0.0010\n",
            "Epoch 6/30\n",
            "68/68 [==============================] - ETA: 0s - loss: 1.4227 - accuracy: 0.6278\n",
            "Epoch 00006: val_accuracy improved from 0.59706 to 0.60294, saving model to /content/drive/MyDrive/NLP/LSTM-Word2Vec-Raw-30epochs-006-0.602941.h5\n",
            "68/68 [==============================] - 11s 159ms/step - loss: 1.4227 - accuracy: 0.6278 - val_loss: 1.5340 - val_accuracy: 0.6029 - lr: 0.0010\n",
            "Epoch 7/30\n",
            "68/68 [==============================] - ETA: 0s - loss: 1.3209 - accuracy: 0.6356\n",
            "Epoch 00007: val_accuracy did not improve from 0.60294\n",
            "68/68 [==============================] - 11s 159ms/step - loss: 1.3209 - accuracy: 0.6356 - val_loss: 1.5429 - val_accuracy: 0.6000 - lr: 0.0010\n",
            "Epoch 8/30\n",
            "68/68 [==============================] - ETA: 0s - loss: 1.2255 - accuracy: 0.6593\n",
            "Epoch 00008: val_accuracy improved from 0.60294 to 0.60588, saving model to /content/drive/MyDrive/NLP/LSTM-Word2Vec-Raw-30epochs-008-0.605882.h5\n",
            "68/68 [==============================] - 11s 159ms/step - loss: 1.2255 - accuracy: 0.6593 - val_loss: 1.5313 - val_accuracy: 0.6059 - lr: 0.0010\n",
            "Epoch 9/30\n",
            "68/68 [==============================] - ETA: 0s - loss: 1.1567 - accuracy: 0.6719\n",
            "Epoch 00009: val_accuracy did not improve from 0.60588\n",
            "68/68 [==============================] - 11s 157ms/step - loss: 1.1567 - accuracy: 0.6719 - val_loss: 1.5765 - val_accuracy: 0.6053 - lr: 0.0010\n",
            "Epoch 10/30\n",
            "68/68 [==============================] - ETA: 0s - loss: 1.0613 - accuracy: 0.6944\n",
            "Epoch 00010: val_accuracy improved from 0.60588 to 0.61471, saving model to /content/drive/MyDrive/NLP/LSTM-Word2Vec-Raw-30epochs-010-0.614706.h5\n",
            "68/68 [==============================] - 11s 158ms/step - loss: 1.0613 - accuracy: 0.6944 - val_loss: 1.6221 - val_accuracy: 0.6147 - lr: 0.0010\n",
            "Epoch 11/30\n",
            "68/68 [==============================] - ETA: 0s - loss: 0.9443 - accuracy: 0.7190\n",
            "Epoch 00011: val_accuracy did not improve from 0.61471\n",
            "68/68 [==============================] - 10s 147ms/step - loss: 0.9443 - accuracy: 0.7190 - val_loss: 1.6382 - val_accuracy: 0.6129 - lr: 2.0000e-04\n",
            "Epoch 12/30\n",
            "68/68 [==============================] - ETA: 0s - loss: 0.9039 - accuracy: 0.7294\n",
            "Epoch 00012: val_accuracy did not improve from 0.61471\n",
            "68/68 [==============================] - 10s 148ms/step - loss: 0.9039 - accuracy: 0.7294 - val_loss: 1.6486 - val_accuracy: 0.6012 - lr: 2.0000e-04\n",
            "Epoch 13/30\n",
            "68/68 [==============================] - ETA: 0s - loss: 0.8825 - accuracy: 0.7397\n",
            "Epoch 00013: val_accuracy did not improve from 0.61471\n",
            "68/68 [==============================] - 10s 147ms/step - loss: 0.8825 - accuracy: 0.7397 - val_loss: 1.6644 - val_accuracy: 0.6082 - lr: 1.0000e-04\n",
            "Epoch 00013: early stopping\n"
          ]
        }
      ]
    },
    {
      "cell_type": "code",
      "source": [
        "loss, accuracy = LSTM_Word2Vec_Raw_30.evaluate(X_test_30, y_test_30, verbose = 1)\n",
        "print(\"Test Loss: {0},\\nTest Accuracy: {1}\".format(loss, accuracy))"
      ],
      "metadata": {
        "id": "bPBPWxuBMZr5",
        "outputId": "8570d2b9-113f-4cf9-be9b-2c04c87f0180",
        "colab": {
          "base_uri": "https://localhost:8080/"
        }
      },
      "id": "bPBPWxuBMZr5",
      "execution_count": null,
      "outputs": [
        {
          "output_type": "stream",
          "name": "stdout",
          "text": [
            "54/54 [==============================] - 5s 56ms/step - loss: 1.6644 - accuracy: 0.6082\n",
            "Test Loss: 1.6644306182861328,\n",
            "Test Accuracy: 0.6082352995872498\n"
          ]
        }
      ]
    },
    {
      "cell_type": "code",
      "source": [
        "plot_graph(LSTM_Word2Vec_Raw_30_history)"
      ],
      "metadata": {
        "id": "Drd4cju2MdTk",
        "outputId": "eba1cb5f-1c47-43ee-ff39-4d9b4c803058",
        "colab": {
          "base_uri": "https://localhost:8080/",
          "height": 763
        }
      },
      "id": "Drd4cju2MdTk",
      "execution_count": null,
      "outputs": [
        {
          "output_type": "display_data",
          "data": {
            "image/png": "[encoded data removed]",
            "text/plain": [
              "<Figure size 1440x432 with 1 Axes>"
            ]
          },
          "metadata": {
            "needs_background": "light"
          }
        },
        {
          "output_type": "display_data",
          "data": {
            "image/png": "[encoded data removed]",
            "text/plain": [
              "<Figure size 1440x432 with 1 Axes>"
            ]
          },
          "metadata": {
            "needs_background": "light"
          }
        }
      ]
    },
    {
      "cell_type": "markdown",
      "id": "d341c9bc",
      "metadata": {
        "id": "d341c9bc"
      },
      "source": [
        "### Resampled data"
      ]
    },
    {
      "cell_type": "code",
      "execution_count": null,
      "id": "318c958c",
      "metadata": {
        "id": "318c958c"
      },
      "outputs": [],
      "source": [
        "LSTM_Word2Vec_Resampled = Model()\n",
        "X_test_resampled = []\n",
        "y_test_resampled = []\n",
        "embedding_matrix_resampled = []"
      ]
    },
    {
      "cell_type": "code",
      "execution_count": null,
      "id": "2b164b9c",
      "metadata": {
        "id": "2b164b9c",
        "outputId": "e6128d70-8fa3-457a-f0b9-879e10238586",
        "colab": {
          "base_uri": "https://localhost:8080/"
        }
      },
      "outputs": [
        {
          "output_type": "stream",
          "name": "stdout",
          "text": [
            "(9001, 100)\n",
            "Number of Samples: 16500\n",
            "Number of Labels:  16500\n",
            "Number of train Samples: 13200\n",
            "Number of val Samples: 3300\n",
            "(300,)\n",
            "(None, 300)\n",
            "Model: \"model_8\"\n",
            "_________________________________________________________________\n",
            " Layer (type)                Output Shape              Param #   \n",
            "=================================================================\n",
            " input_3 (InputLayer)        [(None, 300)]             0         \n",
            "                                                                 \n",
            " embedding_2 (Embedding)     (None, 300, 100)          900100    \n",
            "                                                                 \n",
            " bidirectional_2 (Bidirectio  (None, 256)              234496    \n",
            " nal)                                                            \n",
            "                                                                 \n",
            " dropout_2 (Dropout)         (None, 256)               0         \n",
            "                                                                 \n",
            " dense_4 (Dense)             (None, 100)               25700     \n",
            "                                                                 \n",
            " dense_5 (Dense)             (None, 50)                5050      \n",
            "                                                                 \n",
            "=================================================================\n",
            "Total params: 1,165,346\n",
            "Trainable params: 1,165,346\n",
            "Non-trainable params: 0\n",
            "_________________________________________________________________\n",
            "Epoch 1/10\n",
            "132/132 [==============================] - ETA: 0s - loss: 3.3242 - accuracy: 0.1309\n",
            "Epoch 00001: val_accuracy improved from -inf to 0.23030, saving model to /content/drive/MyDrive/NLP/LSTM_Word2Vec_Resampled-001-0.230303.h5\n",
            "132/132 [==============================] - 27s 161ms/step - loss: 3.3242 - accuracy: 0.1309 - val_loss: 2.7898 - val_accuracy: 0.2303 - lr: 0.0010\n",
            "Epoch 2/10\n",
            "132/132 [==============================] - ETA: 0s - loss: 2.4075 - accuracy: 0.3202\n",
            "Epoch 00002: val_accuracy improved from 0.23030 to 0.40909, saving model to /content/drive/MyDrive/NLP/LSTM_Word2Vec_Resampled-002-0.409091.h5\n",
            "132/132 [==============================] - 21s 157ms/step - loss: 2.4075 - accuracy: 0.3202 - val_loss: 2.0838 - val_accuracy: 0.4091 - lr: 0.0010\n",
            "Epoch 3/10\n",
            "132/132 [==============================] - ETA: 0s - loss: 1.6690 - accuracy: 0.5185\n",
            "Epoch 00003: val_accuracy improved from 0.40909 to 0.60879, saving model to /content/drive/MyDrive/NLP/LSTM_Word2Vec_Resampled-003-0.608788.h5\n",
            "132/132 [==============================] - 20s 149ms/step - loss: 1.6690 - accuracy: 0.5185 - val_loss: 1.4316 - val_accuracy: 0.6088 - lr: 0.0010\n",
            "Epoch 4/10\n",
            "132/132 [==============================] - ETA: 0s - loss: 1.1590 - accuracy: 0.6663\n",
            "Epoch 00004: val_accuracy improved from 0.60879 to 0.71000, saving model to /content/drive/MyDrive/NLP/LSTM_Word2Vec_Resampled-004-0.710000.h5\n",
            "132/132 [==============================] - 19s 146ms/step - loss: 1.1590 - accuracy: 0.6663 - val_loss: 1.0380 - val_accuracy: 0.7100 - lr: 0.0010\n",
            "Epoch 5/10\n",
            "132/132 [==============================] - ETA: 0s - loss: 0.8204 - accuracy: 0.7564\n",
            "Epoch 00005: val_accuracy improved from 0.71000 to 0.78818, saving model to /content/drive/MyDrive/NLP/LSTM_Word2Vec_Resampled-005-0.788182.h5\n",
            "132/132 [==============================] - 19s 146ms/step - loss: 0.8204 - accuracy: 0.7564 - val_loss: 0.7558 - val_accuracy: 0.7882 - lr: 0.0010\n",
            "Epoch 6/10\n",
            "132/132 [==============================] - ETA: 0s - loss: 0.6127 - accuracy: 0.8141\n",
            "Epoch 00006: val_accuracy improved from 0.78818 to 0.80970, saving model to /content/drive/MyDrive/NLP/LSTM_Word2Vec_Resampled-006-0.809697.h5\n",
            "132/132 [==============================] - 21s 156ms/step - loss: 0.6127 - accuracy: 0.8141 - val_loss: 0.6517 - val_accuracy: 0.8097 - lr: 0.0010\n",
            "Epoch 7/10\n",
            "132/132 [==============================] - ETA: 0s - loss: 0.9106 - accuracy: 0.7298\n",
            "Epoch 00007: val_accuracy did not improve from 0.80970\n",
            "132/132 [==============================] - 20s 155ms/step - loss: 0.9106 - accuracy: 0.7298 - val_loss: 0.6718 - val_accuracy: 0.8097 - lr: 0.0010\n",
            "Epoch 8/10\n",
            "132/132 [==============================] - ETA: 0s - loss: 0.5257 - accuracy: 0.8395\n",
            "Epoch 00008: val_accuracy improved from 0.80970 to 0.84061, saving model to /content/drive/MyDrive/NLP/LSTM_Word2Vec_Resampled-008-0.840606.h5\n",
            "132/132 [==============================] - 21s 156ms/step - loss: 0.5257 - accuracy: 0.8395 - val_loss: 0.5630 - val_accuracy: 0.8406 - lr: 0.0010\n",
            "Epoch 9/10\n",
            "132/132 [==============================] - ETA: 0s - loss: 0.4337 - accuracy: 0.8616\n",
            "Epoch 00009: val_accuracy improved from 0.84061 to 0.85303, saving model to /content/drive/MyDrive/NLP/LSTM_Word2Vec_Resampled-009-0.853030.h5\n",
            "132/132 [==============================] - 19s 147ms/step - loss: 0.4337 - accuracy: 0.8616 - val_loss: 0.5156 - val_accuracy: 0.8530 - lr: 0.0010\n",
            "Epoch 10/10\n",
            "132/132 [==============================] - ETA: 0s - loss: 0.3832 - accuracy: 0.8729\n",
            "Epoch 00010: val_accuracy did not improve from 0.85303\n",
            "132/132 [==============================] - 19s 146ms/step - loss: 0.3832 - accuracy: 0.8729 - val_loss: 0.5105 - val_accuracy: 0.8479 - lr: 0.0010\n"
          ]
        }
      ],
      "source": [
        "LSTM_Word2Vec_Resampled_history, LSTM_Word2Vec_Resampled, X_test_resampled, y_test_resampled = train(df_resampled, 100, 10, embedding_matrix_resampled, 'LSTM_Word2Vec_Resampled')"
      ]
    },
    {
      "cell_type": "code",
      "execution_count": null,
      "id": "1be15dde",
      "metadata": {
        "id": "1be15dde",
        "outputId": "8987e50f-521e-4b3c-dc69-e789c297202f",
        "colab": {
          "base_uri": "https://localhost:8080/"
        }
      },
      "outputs": [
        {
          "output_type": "stream",
          "name": "stdout",
          "text": [
            "104/104 [==============================] - 6s 40ms/step - loss: 0.5105 - accuracy: 0.8479\n",
            "For resampled data: \n",
            "Test Loss: 0.5105292201042175,\n",
            "Test Accuracy: 0.8478788137435913\n"
          ]
        }
      ],
      "source": [
        "loss, accuracy = LSTM_Word2Vec_Resampled.evaluate(X_test_resampled, y_test_resampled, verbose = 1)\n",
        "print(\"For resampled data: \\nTest Loss: {0},\\nTest Accuracy: {1}\".format(loss, accuracy))"
      ]
    },
    {
      "cell_type": "code",
      "execution_count": null,
      "id": "68543a9f",
      "metadata": {
        "id": "68543a9f",
        "outputId": "ae95798a-a77f-4c12-ee64-8a6c87cd9fa4",
        "colab": {
          "base_uri": "https://localhost:8080/",
          "height": 763
        }
      },
      "outputs": [
        {
          "output_type": "display_data",
          "data": {
            "image/png": "[encoded data removed]",
            "text/plain": [
              "<Figure size 1440x432 with 1 Axes>"
            ]
          },
          "metadata": {
            "needs_background": "light"
          }
        },
        {
          "output_type": "display_data",
          "data": {
            "image/png": "[encoded data removed]",
            "text/plain": [
              "<Figure size 1440x432 with 1 Axes>"
            ]
          },
          "metadata": {
            "needs_background": "light"
          }
        }
      ],
      "source": [
        "plot_graph(LSTM_Word2Vec_Resampled_history)"
      ]
    },
    {
      "cell_type": "markdown",
      "source": [
        "### Resampled - 30 epochs"
      ],
      "metadata": {
        "id": "alq2M65qOxNi"
      },
      "id": "alq2M65qOxNi"
    },
    {
      "cell_type": "code",
      "source": [
        "LSTM_Word2Vec_Resampled_30 = Model()\n",
        "X_test_resampled_30 = []\n",
        "y_test_resampled_30 = []\n",
        "embedding_matrix_resampled_30 = []"
      ],
      "metadata": {
        "id": "xTzzN7pWOrdQ"
      },
      "id": "xTzzN7pWOrdQ",
      "execution_count": null,
      "outputs": []
    },
    {
      "cell_type": "code",
      "source": [
        "LSTM_Word2Vec_Resampled_30_history, LSTM_Word2Vec_Resampled_30, X_test_resampled_30, y_test_resampled_30 = train(df_resampled, 100, 30, embedding_matrix_resampled_30, 'LSTM-Word2Vec-Resampled-30epochs')"
      ],
      "metadata": {
        "id": "1l7dZ831OLIf",
        "outputId": "22f13321-c0e2-4fb9-bea0-fa86587f45f1",
        "colab": {
          "base_uri": "https://localhost:8080/"
        }
      },
      "id": "1l7dZ831OLIf",
      "execution_count": null,
      "outputs": [
        {
          "output_type": "stream",
          "name": "stdout",
          "text": [
            "(9001, 100)\n",
            "Number of Samples: 16500\n",
            "Number of Labels:  16500\n",
            "Number of train Samples: 13200\n",
            "Number of val Samples: 3300\n",
            "(300,)\n",
            "(None, 300)\n",
            "Model: \"model_11\"\n",
            "_________________________________________________________________\n",
            " Layer (type)                Output Shape              Param #   \n",
            "=================================================================\n",
            " input_4 (InputLayer)        [(None, 300)]             0         \n",
            "                                                                 \n",
            " embedding_3 (Embedding)     (None, 300, 100)          900100    \n",
            "                                                                 \n",
            " bidirectional_3 (Bidirectio  (None, 256)              234496    \n",
            " nal)                                                            \n",
            "                                                                 \n",
            " dropout_3 (Dropout)         (None, 256)               0         \n",
            "                                                                 \n",
            " dense_6 (Dense)             (None, 100)               25700     \n",
            "                                                                 \n",
            " dense_7 (Dense)             (None, 50)                5050      \n",
            "                                                                 \n",
            "=================================================================\n",
            "Total params: 1,165,346\n",
            "Trainable params: 1,165,346\n",
            "Non-trainable params: 0\n",
            "_________________________________________________________________\n",
            "Epoch 1/30\n",
            "132/132 [==============================] - ETA: 0s - loss: 3.3859 - accuracy: 0.1202\n",
            "Epoch 00001: val_accuracy improved from -inf to 0.20152, saving model to /content/drive/MyDrive/NLP/LSTM-Word2Vec-Resampled-30epochs-001-0.201515.h5\n",
            "132/132 [==============================] - 28s 163ms/step - loss: 3.3859 - accuracy: 0.1202 - val_loss: 2.8939 - val_accuracy: 0.2015 - lr: 0.0010\n",
            "Epoch 2/30\n",
            "132/132 [==============================] - ETA: 0s - loss: 2.5082 - accuracy: 0.3008\n",
            "Epoch 00002: val_accuracy improved from 0.20152 to 0.42333, saving model to /content/drive/MyDrive/NLP/LSTM-Word2Vec-Resampled-30epochs-002-0.423333.h5\n",
            "132/132 [==============================] - 20s 154ms/step - loss: 2.5082 - accuracy: 0.3008 - val_loss: 2.1007 - val_accuracy: 0.4233 - lr: 0.0010\n",
            "Epoch 3/30\n",
            "132/132 [==============================] - ETA: 0s - loss: 1.7544 - accuracy: 0.5015\n",
            "Epoch 00003: val_accuracy improved from 0.42333 to 0.61303, saving model to /content/drive/MyDrive/NLP/LSTM-Word2Vec-Resampled-30epochs-003-0.613030.h5\n",
            "132/132 [==============================] - 21s 158ms/step - loss: 1.7544 - accuracy: 0.5015 - val_loss: 1.4460 - val_accuracy: 0.6130 - lr: 0.0010\n",
            "Epoch 4/30\n",
            "132/132 [==============================] - ETA: 0s - loss: 1.2351 - accuracy: 0.6430\n",
            "Epoch 00004: val_accuracy improved from 0.61303 to 0.68970, saving model to /content/drive/MyDrive/NLP/LSTM-Word2Vec-Resampled-30epochs-004-0.689697.h5\n",
            "132/132 [==============================] - 21s 157ms/step - loss: 1.2351 - accuracy: 0.6430 - val_loss: 1.0999 - val_accuracy: 0.6897 - lr: 0.0010\n",
            "Epoch 5/30\n",
            "132/132 [==============================] - ETA: 0s - loss: 0.8977 - accuracy: 0.7408\n",
            "Epoch 00005: val_accuracy improved from 0.68970 to 0.75030, saving model to /content/drive/MyDrive/NLP/LSTM-Word2Vec-Resampled-30epochs-005-0.750303.h5\n",
            "132/132 [==============================] - 19s 146ms/step - loss: 0.8977 - accuracy: 0.7408 - val_loss: 0.8545 - val_accuracy: 0.7503 - lr: 0.0010\n",
            "Epoch 6/30\n",
            "132/132 [==============================] - ETA: 0s - loss: 0.6854 - accuracy: 0.7973\n",
            "Epoch 00006: val_accuracy improved from 0.75030 to 0.80485, saving model to /content/drive/MyDrive/NLP/LSTM-Word2Vec-Resampled-30epochs-006-0.804848.h5\n",
            "132/132 [==============================] - 21s 157ms/step - loss: 0.6854 - accuracy: 0.7973 - val_loss: 0.7020 - val_accuracy: 0.8048 - lr: 0.0010\n",
            "Epoch 7/30\n",
            "132/132 [==============================] - ETA: 0s - loss: 0.5874 - accuracy: 0.8199\n",
            "Epoch 00007: val_accuracy improved from 0.80485 to 0.81455, saving model to /content/drive/MyDrive/NLP/LSTM-Word2Vec-Resampled-30epochs-007-0.814545.h5\n",
            "132/132 [==============================] - 21s 158ms/step - loss: 0.5874 - accuracy: 0.8199 - val_loss: 0.6419 - val_accuracy: 0.8145 - lr: 0.0010\n",
            "Epoch 8/30\n",
            "132/132 [==============================] - ETA: 0s - loss: 0.4760 - accuracy: 0.8477\n",
            "Epoch 00008: val_accuracy improved from 0.81455 to 0.82848, saving model to /content/drive/MyDrive/NLP/LSTM-Word2Vec-Resampled-30epochs-008-0.828485.h5\n",
            "132/132 [==============================] - 19s 148ms/step - loss: 0.4760 - accuracy: 0.8477 - val_loss: 0.5976 - val_accuracy: 0.8285 - lr: 0.0010\n",
            "Epoch 9/30\n",
            "132/132 [==============================] - ETA: 0s - loss: 0.4318 - accuracy: 0.8616\n",
            "Epoch 00009: val_accuracy improved from 0.82848 to 0.84879, saving model to /content/drive/MyDrive/NLP/LSTM-Word2Vec-Resampled-30epochs-009-0.848788.h5\n",
            "132/132 [==============================] - 21s 157ms/step - loss: 0.4318 - accuracy: 0.8616 - val_loss: 0.5162 - val_accuracy: 0.8488 - lr: 0.0010\n",
            "Epoch 10/30\n",
            "132/132 [==============================] - ETA: 0s - loss: 0.3729 - accuracy: 0.8769\n",
            "Epoch 00010: val_accuracy improved from 0.84879 to 0.86273, saving model to /content/drive/MyDrive/NLP/LSTM-Word2Vec-Resampled-30epochs-010-0.862727.h5\n",
            "132/132 [==============================] - 20s 148ms/step - loss: 0.3729 - accuracy: 0.8769 - val_loss: 0.4987 - val_accuracy: 0.8627 - lr: 0.0010\n",
            "Epoch 11/30\n",
            "132/132 [==============================] - ETA: 0s - loss: 0.3363 - accuracy: 0.8875\n",
            "Epoch 00011: val_accuracy did not improve from 0.86273\n",
            "132/132 [==============================] - 21s 156ms/step - loss: 0.3363 - accuracy: 0.8875 - val_loss: 0.4990 - val_accuracy: 0.8558 - lr: 0.0010\n",
            "Epoch 12/30\n",
            "132/132 [==============================] - ETA: 0s - loss: 0.3331 - accuracy: 0.8861\n",
            "Epoch 00012: val_accuracy improved from 0.86273 to 0.86909, saving model to /content/drive/MyDrive/NLP/LSTM-Word2Vec-Resampled-30epochs-012-0.869091.h5\n",
            "132/132 [==============================] - 20s 148ms/step - loss: 0.3331 - accuracy: 0.8861 - val_loss: 0.4951 - val_accuracy: 0.8691 - lr: 0.0010\n",
            "Epoch 13/30\n",
            "132/132 [==============================] - ETA: 0s - loss: 0.3152 - accuracy: 0.8897\n",
            "Epoch 00013: val_accuracy did not improve from 0.86909\n",
            "132/132 [==============================] - 20s 155ms/step - loss: 0.3152 - accuracy: 0.8897 - val_loss: 0.5121 - val_accuracy: 0.8633 - lr: 0.0010\n",
            "Epoch 14/30\n",
            "132/132 [==============================] - ETA: 0s - loss: 0.3116 - accuracy: 0.8916\n",
            "Epoch 00014: val_accuracy improved from 0.86909 to 0.87364, saving model to /content/drive/MyDrive/NLP/LSTM-Word2Vec-Resampled-30epochs-014-0.873636.h5\n",
            "132/132 [==============================] - 21s 156ms/step - loss: 0.3116 - accuracy: 0.8916 - val_loss: 0.4738 - val_accuracy: 0.8736 - lr: 0.0010\n",
            "Epoch 15/30\n",
            "132/132 [==============================] - ETA: 0s - loss: 0.2880 - accuracy: 0.8977\n",
            "Epoch 00015: val_accuracy improved from 0.87364 to 0.87606, saving model to /content/drive/MyDrive/NLP/LSTM-Word2Vec-Resampled-30epochs-015-0.876061.h5\n",
            "132/132 [==============================] - 21s 156ms/step - loss: 0.2880 - accuracy: 0.8977 - val_loss: 0.4752 - val_accuracy: 0.8761 - lr: 0.0010\n",
            "Epoch 16/30\n",
            "132/132 [==============================] - ETA: 0s - loss: 0.2695 - accuracy: 0.8996\n",
            "Epoch 00016: val_accuracy improved from 0.87606 to 0.87848, saving model to /content/drive/MyDrive/NLP/LSTM-Word2Vec-Resampled-30epochs-016-0.878485.h5\n",
            "132/132 [==============================] - 21s 160ms/step - loss: 0.2695 - accuracy: 0.8996 - val_loss: 0.4808 - val_accuracy: 0.8785 - lr: 0.0010\n",
            "Epoch 17/30\n",
            "132/132 [==============================] - ETA: 0s - loss: 0.2532 - accuracy: 0.9095\n",
            "Epoch 00017: val_accuracy improved from 0.87848 to 0.88000, saving model to /content/drive/MyDrive/NLP/LSTM-Word2Vec-Resampled-30epochs-017-0.880000.h5\n",
            "132/132 [==============================] - 19s 146ms/step - loss: 0.2532 - accuracy: 0.9095 - val_loss: 0.4536 - val_accuracy: 0.8800 - lr: 2.0000e-04\n",
            "Epoch 18/30\n",
            "132/132 [==============================] - ETA: 0s - loss: 0.2432 - accuracy: 0.9092\n",
            "Epoch 00018: val_accuracy did not improve from 0.88000\n",
            "132/132 [==============================] - 19s 145ms/step - loss: 0.2432 - accuracy: 0.9092 - val_loss: 0.4543 - val_accuracy: 0.8791 - lr: 2.0000e-04\n",
            "Epoch 19/30\n",
            "132/132 [==============================] - ETA: 0s - loss: 0.2375 - accuracy: 0.9127\n",
            "Epoch 00019: val_accuracy improved from 0.88000 to 0.88333, saving model to /content/drive/MyDrive/NLP/LSTM-Word2Vec-Resampled-30epochs-019-0.883333.h5\n",
            "132/132 [==============================] - 21s 157ms/step - loss: 0.2375 - accuracy: 0.9127 - val_loss: 0.4559 - val_accuracy: 0.8833 - lr: 2.0000e-04\n",
            "Epoch 20/30\n",
            "132/132 [==============================] - ETA: 0s - loss: 0.2341 - accuracy: 0.9107\n",
            "Epoch 00020: val_accuracy improved from 0.88333 to 0.88515, saving model to /content/drive/MyDrive/NLP/LSTM-Word2Vec-Resampled-30epochs-020-0.885152.h5\n",
            "132/132 [==============================] - 20s 148ms/step - loss: 0.2341 - accuracy: 0.9107 - val_loss: 0.4578 - val_accuracy: 0.8852 - lr: 1.0000e-04\n",
            "Epoch 21/30\n",
            "132/132 [==============================] - ETA: 0s - loss: 0.2363 - accuracy: 0.9115\n",
            "Epoch 00021: val_accuracy did not improve from 0.88515\n",
            "132/132 [==============================] - 19s 147ms/step - loss: 0.2363 - accuracy: 0.9115 - val_loss: 0.4568 - val_accuracy: 0.8839 - lr: 1.0000e-04\n",
            "Epoch 22/30\n",
            "132/132 [==============================] - ETA: 0s - loss: 0.2327 - accuracy: 0.9120\n",
            "Epoch 00022: val_accuracy did not improve from 0.88515\n",
            "132/132 [==============================] - 19s 146ms/step - loss: 0.2327 - accuracy: 0.9120 - val_loss: 0.4576 - val_accuracy: 0.8842 - lr: 1.0000e-04\n",
            "Epoch 00022: early stopping\n"
          ]
        }
      ]
    },
    {
      "cell_type": "code",
      "source": [
        "loss, accuracy = LSTM_Word2Vec_Resampled_30.evaluate(X_test_resampled_30, y_test_resampled_30, verbose = 1)\n",
        "print(\"Test Loss: {0},\\nTest Accuracy: {1}\".format(loss, accuracy))"
      ],
      "metadata": {
        "id": "S4ppPB2JOVxI",
        "outputId": "d81edef7-0336-4276-b498-c9e411c0da34",
        "colab": {
          "base_uri": "https://localhost:8080/"
        }
      },
      "id": "S4ppPB2JOVxI",
      "execution_count": null,
      "outputs": [
        {
          "output_type": "stream",
          "name": "stdout",
          "text": [
            "104/104 [==============================] - 7s 52ms/step - loss: 0.4576 - accuracy: 0.8842\n",
            "Test Loss: 0.45755133032798767,\n",
            "Test Accuracy: 0.8842424154281616\n"
          ]
        }
      ]
    },
    {
      "cell_type": "code",
      "execution_count": null,
      "id": "eba81131",
      "metadata": {
        "id": "eba81131",
        "outputId": "3d964d47-a13a-4def-ddb8-9f0d4cd21621",
        "colab": {
          "base_uri": "https://localhost:8080/",
          "height": 763
        }
      },
      "outputs": [
        {
          "output_type": "display_data",
          "data": {
            "image/png": "[encoded data removed]",
            "text/plain": [
              "<Figure size 1440x432 with 1 Axes>"
            ]
          },
          "metadata": {
            "needs_background": "light"
          }
        },
        {
          "output_type": "display_data",
          "data": {
            "image/png": "[encoded data removed]",
            "text/plain": [
              "<Figure size 1440x432 with 1 Axes>"
            ]
          },
          "metadata": {
            "needs_background": "light"
          }
        }
      ],
      "source": [
        "plot_graph(LSTM_Word2Vec_Resampled_30_history)"
      ]
    },
    {
      "cell_type": "code",
      "source": [
        "df"
      ],
      "metadata": {
        "colab": {
          "base_uri": "https://localhost:8080/",
          "height": 423
        },
        "id": "damv3HMubUcK",
        "outputId": "e370bcaf-6efd-462a-a1d2-d624132dea29"
      },
      "id": "damv3HMubUcK",
      "execution_count": null,
      "outputs": [
        {
          "output_type": "execute_result",
          "data": {
            "text/html": [
              "\n",
              "  <div id=\"df-9ebe6884-398c-4b15-8ee1-dfb22e93a936\">\n",
              "    <div class=\"colab-df-container\">\n",
              "      <div>\n",
              "<style scoped>\n",
              "    .dataframe tbody tr th:only-of-type {\n",
              "        vertical-align: middle;\n",
              "    }\n",
              "\n",
              "    .dataframe tbody tr th {\n",
              "        vertical-align: top;\n",
              "    }\n",
              "\n",
              "    .dataframe thead th {\n",
              "        text-align: right;\n",
              "    }\n",
              "</style>\n",
              "<table border=\"1\" class=\"dataframe\">\n",
              "  <thead>\n",
              "    <tr style=\"text-align: right;\">\n",
              "      <th></th>\n",
              "      <th>Description</th>\n",
              "      <th>Assignment group</th>\n",
              "      <th>Cleaned Description</th>\n",
              "      <th>Length</th>\n",
              "    </tr>\n",
              "  </thead>\n",
              "  <tbody>\n",
              "    <tr>\n",
              "      <th>0</th>\n",
              "      <td>-verified user details.(employee# &amp; manager na...</td>\n",
              "      <td>0</td>\n",
              "      <td>verify user detail employee manager name check...</td>\n",
              "      <td>192</td>\n",
              "    </tr>\n",
              "    <tr>\n",
              "      <th>1</th>\n",
              "      <td>\\r\\n\\r\\nreceived from: hmjdrvpb.komuaywn@gmail...</td>\n",
              "      <td>0</td>\n",
              "      <td>hello team meeting skype meeting etc appear ou...</td>\n",
              "      <td>134</td>\n",
              "    </tr>\n",
              "    <tr>\n",
              "      <th>2</th>\n",
              "      <td>\\r\\n\\r\\nreceived from: eylqgodm.ybqkwiam@gmail...</td>\n",
              "      <td>0</td>\n",
              "      <td>hi can not log vpn best</td>\n",
              "      <td>28</td>\n",
              "    </tr>\n",
              "    <tr>\n",
              "      <th>3</th>\n",
              "      <td>unable to access hr_tool page</td>\n",
              "      <td>0</td>\n",
              "      <td>unable access hr tool page</td>\n",
              "      <td>29</td>\n",
              "    </tr>\n",
              "    <tr>\n",
              "      <th>4</th>\n",
              "      <td>skype error</td>\n",
              "      <td>0</td>\n",
              "      <td>skype error</td>\n",
              "      <td>11</td>\n",
              "    </tr>\n",
              "    <tr>\n",
              "      <th>...</th>\n",
              "      <td>...</td>\n",
              "      <td>...</td>\n",
              "      <td>...</td>\n",
              "      <td>...</td>\n",
              "    </tr>\n",
              "    <tr>\n",
              "      <th>8495</th>\n",
              "      <td>\\r\\n\\r\\nreceived from: avglmrts.vhqmtiua@gmail...</td>\n",
              "      <td>22</td>\n",
              "      <td>good afternoon receive email send zz mail plea...</td>\n",
              "      <td>79</td>\n",
              "    </tr>\n",
              "    <tr>\n",
              "      <th>8496</th>\n",
              "      <td>telephony_software issue</td>\n",
              "      <td>0</td>\n",
              "      <td>telephony software issue</td>\n",
              "      <td>24</td>\n",
              "    </tr>\n",
              "    <tr>\n",
              "      <th>8497</th>\n",
              "      <td>vip2: windows password reset for tifpdchb pedx...</td>\n",
              "      <td>0</td>\n",
              "      <td>vip windows password reset tifpdchb pedxruyf</td>\n",
              "      <td>48</td>\n",
              "    </tr>\n",
              "    <tr>\n",
              "      <th>8498</th>\n",
              "      <td>i am unable to access the machine utilities to...</td>\n",
              "      <td>44</td>\n",
              "      <td>unable access machine utility finish drawer ad...</td>\n",
              "      <td>99</td>\n",
              "    </tr>\n",
              "    <tr>\n",
              "      <th>8499</th>\n",
              "      <td>an mehreren pc`s lassen sich verschiedene prgr...</td>\n",
              "      <td>49</td>\n",
              "      <td>mehreren pc lassen sich verschiedene prgramdnt...</td>\n",
              "      <td>76</td>\n",
              "    </tr>\n",
              "  </tbody>\n",
              "</table>\n",
              "<p>8500 rows × 4 columns</p>\n",
              "</div>\n",
              "      <button class=\"colab-df-convert\" onclick=\"convertToInteractive('df-9ebe6884-398c-4b15-8ee1-dfb22e93a936')\"\n",
              "              title=\"Convert this dataframe to an interactive table.\"\n",
              "              style=\"display:none;\">\n",
              "        \n",
              "  <svg xmlns=\"http://www.w3.org/2000/svg\" height=\"24px\"viewBox=\"0 0 24 24\"\n",
              "       width=\"24px\">\n",
              "    <path d=\"M0 0h24v24H0V0z\" fill=\"none\"/>\n",
              "    <path d=\"M18.56 5.44l.94 2.06.94-2.06 2.06-.94-2.06-.94-.94-2.06-.94 2.06-2.06.94zm-11 1L8.5 8.5l.94-2.06 2.06-.94-2.06-.94L8.5 2.5l-.94 2.06-2.06.94zm10 10l.94 2.06.94-2.06 2.06-.94-2.06-.94-.94-2.06-.94 2.06-2.06.94z\"/><path d=\"M17.41 7.96l-1.37-1.37c-.4-.4-.92-.59-1.43-.59-.52 0-1.04.2-1.43.59L10.3 9.45l-7.72 7.72c-.78.78-.78 2.05 0 2.83L4 21.41c.39.39.9.59 1.41.59.51 0 1.02-.2 1.41-.59l7.78-7.78 2.81-2.81c.8-.78.8-2.07 0-2.86zM5.41 20L4 18.59l7.72-7.72 1.47 1.35L5.41 20z\"/>\n",
              "  </svg>\n",
              "      </button>\n",
              "      \n",
              "  <style>\n",
              "    .colab-df-container {\n",
              "      display:flex;\n",
              "      flex-wrap:wrap;\n",
              "      gap: 12px;\n",
              "    }\n",
              "\n",
              "    .colab-df-convert {\n",
              "      background-color: #E8F0FE;\n",
              "      border: none;\n",
              "      border-radius: 50%;\n",
              "      cursor: pointer;\n",
              "      display: none;\n",
              "      fill: #1967D2;\n",
              "      height: 32px;\n",
              "      padding: 0 0 0 0;\n",
              "      width: 32px;\n",
              "    }\n",
              "\n",
              "    .colab-df-convert:hover {\n",
              "      background-color: #E2EBFA;\n",
              "      box-shadow: 0px 1px 2px rgba(60, 64, 67, 0.3), 0px 1px 3px 1px rgba(60, 64, 67, 0.15);\n",
              "      fill: #174EA6;\n",
              "    }\n",
              "\n",
              "    [theme=dark] .colab-df-convert {\n",
              "      background-color: #3B4455;\n",
              "      fill: #D2E3FC;\n",
              "    }\n",
              "\n",
              "    [theme=dark] .colab-df-convert:hover {\n",
              "      background-color: #434B5C;\n",
              "      box-shadow: 0px 1px 3px 1px rgba(0, 0, 0, 0.15);\n",
              "      filter: drop-shadow(0px 1px 2px rgba(0, 0, 0, 0.3));\n",
              "      fill: #FFFFFF;\n",
              "    }\n",
              "  </style>\n",
              "\n",
              "      <script>\n",
              "        const buttonEl =\n",
              "          document.querySelector('#df-9ebe6884-398c-4b15-8ee1-dfb22e93a936 button.colab-df-convert');\n",
              "        buttonEl.style.display =\n",
              "          google.colab.kernel.accessAllowed ? 'block' : 'none';\n",
              "\n",
              "        async function convertToInteractive(key) {\n",
              "          const element = document.querySelector('#df-9ebe6884-398c-4b15-8ee1-dfb22e93a936');\n",
              "          const dataTable =\n",
              "            await google.colab.kernel.invokeFunction('convertToInteractive',\n",
              "                                                     [key], {});\n",
              "          if (!dataTable) return;\n",
              "\n",
              "          const docLinkHtml = 'Like what you see? Visit the ' +\n",
              "            '<a target=\"_blank\" href=https://colab.research.google.com/notebooks/data_table.ipynb>data table notebook</a>'\n",
              "            + ' to learn more about interactive tables.';\n",
              "          element.innerHTML = '';\n",
              "          dataTable['output_type'] = 'display_data';\n",
              "          await google.colab.output.renderOutput(dataTable, element);\n",
              "          const docLink = document.createElement('div');\n",
              "          docLink.innerHTML = docLinkHtml;\n",
              "          element.appendChild(docLink);\n",
              "        }\n",
              "      </script>\n",
              "    </div>\n",
              "  </div>\n",
              "  "
            ],
            "text/plain": [
              "                                            Description  ...  Length\n",
              "0     -verified user details.(employee# & manager na...  ...     192\n",
              "1     \\r\\n\\r\\nreceived from: hmjdrvpb.komuaywn@gmail...  ...     134\n",
              "2     \\r\\n\\r\\nreceived from: eylqgodm.ybqkwiam@gmail...  ...      28\n",
              "3                         unable to access hr_tool page  ...      29\n",
              "4                                          skype error   ...      11\n",
              "...                                                 ...  ...     ...\n",
              "8495  \\r\\n\\r\\nreceived from: avglmrts.vhqmtiua@gmail...  ...      79\n",
              "8496                           telephony_software issue  ...      24\n",
              "8497  vip2: windows password reset for tifpdchb pedx...  ...      48\n",
              "8498  i am unable to access the machine utilities to...  ...      99\n",
              "8499  an mehreren pc`s lassen sich verschiedene prgr...  ...      76\n",
              "\n",
              "[8500 rows x 4 columns]"
            ]
          },
          "metadata": {},
          "execution_count": 49
        }
      ]
    },
    {
      "cell_type": "code",
      "source": [
        ""
      ],
      "metadata": {
        "id": "pgFhF8TO4fy-"
      },
      "id": "pgFhF8TO4fy-",
      "execution_count": null,
      "outputs": []
    }
  ],
  "metadata": {
    "kernelspec": {
      "display_name": "Python 3 (ipykernel)",
      "language": "python",
      "name": "python3"
    },
    "language_info": {
      "codemirror_mode": {
        "name": "ipython",
        "version": 3
      },
      "file_extension": ".py",
      "mimetype": "text/x-python",
      "name": "python",
      "nbconvert_exporter": "python",
      "pygments_lexer": "ipython3",
      "version": "3.9.6"
    },
    "colab": {
      "name": "IT ticket classification - Final.ipynb",
      "provenance": [],
      "collapsed_sections": []
    },
    "accelerator": "GPU"
  },
  "nbformat": 4,
  "nbformat_minor": 5
}